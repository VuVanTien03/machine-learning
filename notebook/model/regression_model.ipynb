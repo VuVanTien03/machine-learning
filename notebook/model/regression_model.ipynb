{
 "cells": [
  {
   "cell_type": "markdown",
   "id": "41912e05",
   "metadata": {},
   "source": [
    "## Lựa chọn phân lớp 1(Normal) và dựa vào giá trị của hàm softmax cho phân lớp đó chuyển bài toán về dạng hồi quy "
   ]
  },
  {
   "cell_type": "code",
   "execution_count": 11,
   "id": "df4af17a",
   "metadata": {},
   "outputs": [
    {
     "name": "stderr",
     "output_type": "stream",
     "text": [
      "C:\\Users\\Admin\\AppData\\Roaming\\Python\\Python313\\site-packages\\sklearn\\linear_model\\_logistic.py:1247: FutureWarning: 'multi_class' was deprecated in version 1.5 and will be removed in 1.7. From then on, it will always use 'multinomial'. Leave it to its default value to avoid this warning.\n",
      "  warnings.warn(\n"
     ]
    },
    {
     "name": "stdout",
     "output_type": "stream",
     "text": [
      "[0.01274304 0.99982427 0.99906056 ... 0.32245187 0.37441337 0.58847689]\n"
     ]
    },
    {
     "name": "stderr",
     "output_type": "stream",
     "text": [
      "C:\\Users\\Admin\\AppData\\Roaming\\Python\\Python313\\site-packages\\sklearn\\linear_model\\_sag.py:348: ConvergenceWarning: The max_iter was reached which means the coef_ did not converge\n",
      "  warnings.warn(\n"
     ]
    }
   ],
   "source": [
    "import numpy as np\n",
    "import pandas as pd\n",
    "from sklearn.preprocessing import StandardScaler\n",
    "from sklearn.linear_model import LogisticRegression\n",
    "\n",
    "df = pd.read_csv(\"../../data/data_processed/data_processed.csv\")\n",
    "X = df.drop(columns=[\"NSP\"])\n",
    "y = df[\"NSP\"].astype(int)\n",
    "\n",
    "scaler = StandardScaler()\n",
    "X_scaled = scaler.fit_transform(X)\n",
    "\n",
    "clf = LogisticRegression(multi_class='multinomial', solver='saga', max_iter=500)\n",
    "clf.fit(X_scaled, y)\n",
    "\n",
    "A_sklearn = clf.predict_proba(X_scaled)\n",
    "y_reg = A_sklearn[:, 0] #chọn xác suất của phân lớp 1 làm đầu ra y mới \n",
    "print(y_reg)"
   ]
  },
  {
   "cell_type": "markdown",
   "id": "568333d2",
   "metadata": {},
   "source": [
    "## Linear Regression"
   ]
  },
  {
   "cell_type": "code",
   "execution_count": 12,
   "id": "4c300bab",
   "metadata": {},
   "outputs": [],
   "source": [
    "from sklearn.linear_model import LinearRegression\n",
    "from sklearn.metrics import mean_squared_error, r2_score\n",
    "from sklearn.model_selection import train_test_split\n",
    "\n",
    "def evaluate_linear_regression(X, y_reg):\n",
    "    results = {}\n",
    "    ratios = {\n",
    "        \"8:2\": 0.2,\n",
    "        \"7:3\": 0.3,\n",
    "        \"6:4\": 0.4\n",
    "    }\n",
    "\n",
    "    for label, test_size in ratios.items():\n",
    "        X_train, X_test, y_train, y_test = train_test_split(\n",
    "            X, y_reg, test_size=test_size, random_state=42\n",
    "        )\n",
    "\n",
    "        model = LinearRegression()\n",
    "        model.fit(X_train, y_train)\n",
    "\n",
    "        y_train_pred = model.predict(X_train)\n",
    "        y_test_pred = model.predict(X_test)\n",
    "\n",
    "        mse_train = mean_squared_error(y_train, y_train_pred)\n",
    "        r2_train = r2_score(y_train, y_train_pred)\n",
    "\n",
    "        mse_test = mean_squared_error(y_test, y_test_pred)\n",
    "        r2_test = r2_score(y_test, y_test_pred)\n",
    "\n",
    "        results[label] = {\n",
    "            \"Train MSE\": round(mse_train, 4),\n",
    "            \"Train R2\": round(r2_train, 4),\n",
    "            \"Test MSE\": round(mse_test, 4),\n",
    "            \"Test R2\": round(r2_test, 4)\n",
    "        }\n",
    "\n",
    "    return results"
   ]
  },
  {
   "cell_type": "markdown",
   "id": "e2727bdb",
   "metadata": {},
   "source": [
    "### Dữ liệu gốc "
   ]
  },
  {
   "cell_type": "code",
   "execution_count": 13,
   "id": "d4513bf3",
   "metadata": {},
   "outputs": [
    {
     "name": "stdout",
     "output_type": "stream",
     "text": [
      "Linear Regression original data:\n",
      "{'6:4': {'Test MSE': 0.0239,\n",
      "         'Test R2': 0.7875,\n",
      "         'Train MSE': 0.0223,\n",
      "         'Train R2': 0.8117},\n",
      " '7:3': {'Test MSE': 0.0239,\n",
      "         'Test R2': 0.7918,\n",
      "         'Train MSE': 0.0224,\n",
      "         'Train R2': 0.8076},\n",
      " '8:2': {'Test MSE': 0.0227,\n",
      "         'Test R2': 0.7975,\n",
      "         'Train MSE': 0.0228,\n",
      "         'Train R2': 0.8054}}\n"
     ]
    }
   ],
   "source": [
    "results_lr_origin = evaluate_linear_regression(X_scaled, y_reg)\n",
    "print(\"Linear Regression original data:\")\n",
    "import pprint\n",
    "pprint.pprint(results_lr_origin)"
   ]
  },
  {
   "cell_type": "markdown",
   "id": "9f6bb28c",
   "metadata": {},
   "source": [
    "### Dữ liệu giảm 1/3 số chiều "
   ]
  },
  {
   "cell_type": "code",
   "execution_count": 14,
   "id": "8f69a320",
   "metadata": {},
   "outputs": [
    {
     "name": "stdout",
     "output_type": "stream",
     "text": [
      "Linear Regression PCA(n_components = 7):\n",
      "{'6:4': {'Test MSE': 0.0331,\n",
      "         'Test R2': 0.7059,\n",
      "         'Train MSE': 0.0299,\n",
      "         'Train R2': 0.748},\n",
      " '7:3': {'Test MSE': 0.034,\n",
      "         'Test R2': 0.7042,\n",
      "         'Train MSE': 0.0299,\n",
      "         'Train R2': 0.7435},\n",
      " '8:2': {'Test MSE': 0.0345,\n",
      "         'Test R2': 0.6921,\n",
      "         'Train MSE': 0.0302,\n",
      "         'Train R2': 0.7418}}\n"
     ]
    }
   ],
   "source": [
    "from sklearn.decomposition import PCA\n",
    "\n",
    "pca = PCA(n_components=7)\n",
    "X_reduced = pca.fit_transform(X_scaled)\n",
    "\n",
    "results_lr_pca = evaluate_linear_regression(X_reduced, y_reg)\n",
    "print(\"Linear Regression PCA(n_components = 7):\")\n",
    "pprint.pprint(results_lr_pca)"
   ]
  },
  {
   "cell_type": "markdown",
   "id": "ad3d2617",
   "metadata": {},
   "source": [
    "## KNN Regression"
   ]
  },
  {
   "cell_type": "code",
   "execution_count": 15,
   "id": "a8e8a543",
   "metadata": {},
   "outputs": [
    {
     "name": "stdout",
     "output_type": "stream",
     "text": [
      "R² (mean ± std) từ nested CV: 0.9153597945306355 ± 0.01632043856458432\n",
      "Best k từ nested CV: 3\n"
     ]
    }
   ],
   "source": [
    "from sklearn.model_selection import GridSearchCV, cross_val_score, KFold\n",
    "from sklearn.neighbors import KNeighborsRegressor\n",
    "from sklearn.metrics import make_scorer, r2_score\n",
    "\n",
    "# Định nghĩa mô hình và lưới tham số\n",
    "knn = KNeighborsRegressor()\n",
    "param_grid = {\n",
    "    \"n_neighbors\": list(range(3, 21))  # Thử từ k=3 đến k=20\n",
    "}\n",
    "scorer = make_scorer(r2_score)\n",
    "\n",
    "# Nested CV: Tìm k tốt nhất theo R²\n",
    "inner_cv = KFold(n_splits=4, shuffle=True, random_state=42)\n",
    "outer_cv = KFold(n_splits=5, shuffle=True, random_state=42)\n",
    "\n",
    "grid_search = GridSearchCV(estimator=knn, param_grid=param_grid, cv=inner_cv, scoring=scorer)\n",
    "nested_scores = cross_val_score(grid_search, X_scaled, y_reg, cv=outer_cv, scoring=scorer)\n",
    "\n",
    "# Huấn luyện lại mô hình tốt nhất trên toàn bộ tập huấn luyện\n",
    "grid_search.fit(X_scaled, y_reg)\n",
    "\n",
    "print(\"R² (mean ± std) từ nested CV:\", nested_scores.mean(), \"±\", nested_scores.std())\n",
    "print(\"Best k từ nested CV:\", grid_search.best_params_[\"n_neighbors\"])\n"
   ]
  },
  {
   "cell_type": "code",
   "execution_count": 16,
   "id": "53db51ce",
   "metadata": {},
   "outputs": [],
   "source": [
    "def evaluate_knn_regression(X, y_reg):\n",
    "    results = {}\n",
    "    ratios = {\n",
    "        \"8:2\": 0.2,\n",
    "        \"7:3\": 0.3,\n",
    "        \"6:4\": 0.4\n",
    "    }\n",
    "\n",
    "    for label, test_size in ratios.items():\n",
    "        X_train, X_test, y_train, y_test = train_test_split(\n",
    "            X, y_reg, test_size=test_size, random_state=42\n",
    "        )\n",
    "\n",
    "        model = KNeighborsRegressor(n_neighbors=3)  \n",
    "        model.fit(X_train, y_train)\n",
    "\n",
    "        y_train_pred = model.predict(X_train)\n",
    "        y_test_pred = model.predict(X_test)\n",
    "\n",
    "        mse_train = mean_squared_error(y_train, y_train_pred)\n",
    "        r2_train = r2_score(y_train, y_train_pred)\n",
    "\n",
    "        mse_test = mean_squared_error(y_test, y_test_pred)\n",
    "        r2_test = r2_score(y_test, y_test_pred)\n",
    "\n",
    "        results[label] = {\n",
    "            \"Train MSE\": round(mse_train, 4),\n",
    "            \"Train R2\": round(r2_train, 4),\n",
    "            \"Test MSE\": round(mse_test, 4),\n",
    "            \"Test R2\": round(r2_test, 4)\n",
    "        }\n",
    "\n",
    "    return results"
   ]
  },
  {
   "cell_type": "markdown",
   "id": "fd733bdc",
   "metadata": {},
   "source": [
    "### Dữ liệu gốc "
   ]
  },
  {
   "cell_type": "code",
   "execution_count": 17,
   "id": "70671f10",
   "metadata": {},
   "outputs": [
    {
     "name": "stdout",
     "output_type": "stream",
     "text": [
      "KNN Regression original data:\n",
      "{'6:4': {'Test MSE': 0.0138,\n",
      "         'Test R2': 0.8776,\n",
      "         'Train MSE': 0.0051,\n",
      "         'Train R2': 0.957},\n",
      " '7:3': {'Test MSE': 0.0121,\n",
      "         'Test R2': 0.8942,\n",
      "         'Train MSE': 0.005,\n",
      "         'Train R2': 0.9571},\n",
      " '8:2': {'Test MSE': 0.0114,\n",
      "         'Test R2': 0.8986,\n",
      "         'Train MSE': 0.0045,\n",
      "         'Train R2': 0.9619}}\n"
     ]
    }
   ],
   "source": [
    "results_knn_origin = evaluate_knn_regression(X_scaled, y_reg)\n",
    "print(\"KNN Regression original data:\")\n",
    "pprint.pprint(results_knn_origin)"
   ]
  },
  {
   "cell_type": "markdown",
   "id": "6ddcc9d3",
   "metadata": {},
   "source": [
    "### Dữ liệu giảm chiều"
   ]
  },
  {
   "cell_type": "code",
   "execution_count": 18,
   "id": "487d2e7d",
   "metadata": {},
   "outputs": [
    {
     "name": "stdout",
     "output_type": "stream",
     "text": [
      "KNN Regression PCA(n_components = 7):\n",
      "{'6:4': {'Test MSE': 0.0143,\n",
      "         'Test R2': 0.873,\n",
      "         'Train MSE': 0.0058,\n",
      "         'Train R2': 0.9514},\n",
      " '7:3': {'Test MSE': 0.0128,\n",
      "         'Test R2': 0.8881,\n",
      "         'Train MSE': 0.0056,\n",
      "         'Train R2': 0.9523},\n",
      " '8:2': {'Test MSE': 0.0115,\n",
      "         'Test R2': 0.8976,\n",
      "         'Train MSE': 0.0053,\n",
      "         'Train R2': 0.9543}}\n"
     ]
    }
   ],
   "source": [
    "results_knn_pca = evaluate_knn_regression(X_reduced, y_reg)\n",
    "print(\"KNN Regression PCA(n_components = 7):\")\n",
    "pprint.pprint(results_knn_pca)"
   ]
  },
  {
   "cell_type": "markdown",
   "id": "db4777e7",
   "metadata": {},
   "source": [
    "## Nhận xét:\n"
   ]
  }
 ],
 "metadata": {
  "kernelspec": {
   "display_name": "Python 3",
   "language": "python",
   "name": "python3"
  },
  "language_info": {
   "codemirror_mode": {
    "name": "ipython",
    "version": 3
   },
   "file_extension": ".py",
   "mimetype": "text/x-python",
   "name": "python",
   "nbconvert_exporter": "python",
   "pygments_lexer": "ipython3",
   "version": "3.13.3"
  }
 },
 "nbformat": 4,
 "nbformat_minor": 5
}
