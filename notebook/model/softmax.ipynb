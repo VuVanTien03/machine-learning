{
 "cells": [
  {
   "cell_type": "markdown",
   "id": "420459f8",
   "metadata": {},
   "source": [
    "## **Mô hình Softmax Regression**"
   ]
  },
  {
   "cell_type": "markdown",
   "id": "e7b024f1",
   "metadata": {},
   "source": [
    "## **Import các thư viện cần thiết**"
   ]
  },
  {
   "cell_type": "code",
   "execution_count": 177,
   "id": "8298bcc8",
   "metadata": {},
   "outputs": [],
   "source": [
    "import pandas as pd\n",
    "import numpy as np\n",
    "import matplotlib.pyplot as plt\n",
    "import seaborn as sns\n",
    "from sklearn.preprocessing import StandardScaler\n",
    "from scipy import sparse\n",
    "from sklearn.decomposition import PCA\n",
    "from sklearn.discriminant_analysis import LinearDiscriminantAnalysis as LDA\n",
    "from sklearn.model_selection import train_test_split\n",
    "from sklearn.metrics import accuracy_score, classification_report, confusion_matrix\n"
   ]
  },
  {
   "cell_type": "markdown",
   "id": "9ebf9fbb",
   "metadata": {},
   "source": [
    "## **Dữ liệu**"
   ]
  },
  {
   "cell_type": "code",
   "execution_count": 178,
   "id": "d2f822ef",
   "metadata": {},
   "outputs": [
    {
     "data": {
      "text/html": [
       "<div>\n",
       "<style scoped>\n",
       "    .dataframe tbody tr th:only-of-type {\n",
       "        vertical-align: middle;\n",
       "    }\n",
       "\n",
       "    .dataframe tbody tr th {\n",
       "        vertical-align: top;\n",
       "    }\n",
       "\n",
       "    .dataframe thead th {\n",
       "        text-align: right;\n",
       "    }\n",
       "</style>\n",
       "<table border=\"1\" class=\"dataframe\">\n",
       "  <thead>\n",
       "    <tr style=\"text-align: right;\">\n",
       "      <th></th>\n",
       "      <th>LB</th>\n",
       "      <th>AC</th>\n",
       "      <th>FM</th>\n",
       "      <th>UC</th>\n",
       "      <th>DL</th>\n",
       "      <th>DS</th>\n",
       "      <th>DP</th>\n",
       "      <th>ASTV</th>\n",
       "      <th>MSTV</th>\n",
       "      <th>ALTV</th>\n",
       "      <th>...</th>\n",
       "      <th>Min</th>\n",
       "      <th>Max</th>\n",
       "      <th>Nmax</th>\n",
       "      <th>Nzeros</th>\n",
       "      <th>Mode</th>\n",
       "      <th>Mean</th>\n",
       "      <th>Median</th>\n",
       "      <th>Variance</th>\n",
       "      <th>Tendency</th>\n",
       "      <th>NSP</th>\n",
       "    </tr>\n",
       "  </thead>\n",
       "  <tbody>\n",
       "    <tr>\n",
       "      <th>0</th>\n",
       "      <td>120.0</td>\n",
       "      <td>0.0</td>\n",
       "      <td>0.0</td>\n",
       "      <td>0.0</td>\n",
       "      <td>0.0</td>\n",
       "      <td>0.0</td>\n",
       "      <td>0.0</td>\n",
       "      <td>73.0</td>\n",
       "      <td>0.5</td>\n",
       "      <td>43.0</td>\n",
       "      <td>...</td>\n",
       "      <td>62.0</td>\n",
       "      <td>126.0</td>\n",
       "      <td>2.0</td>\n",
       "      <td>0.0</td>\n",
       "      <td>120.0</td>\n",
       "      <td>137.0</td>\n",
       "      <td>121.0</td>\n",
       "      <td>73.0</td>\n",
       "      <td>1.0</td>\n",
       "      <td>2.0</td>\n",
       "    </tr>\n",
       "    <tr>\n",
       "      <th>1</th>\n",
       "      <td>132.0</td>\n",
       "      <td>4.0</td>\n",
       "      <td>0.0</td>\n",
       "      <td>4.0</td>\n",
       "      <td>2.0</td>\n",
       "      <td>0.0</td>\n",
       "      <td>0.0</td>\n",
       "      <td>17.0</td>\n",
       "      <td>2.1</td>\n",
       "      <td>0.0</td>\n",
       "      <td>...</td>\n",
       "      <td>68.0</td>\n",
       "      <td>198.0</td>\n",
       "      <td>6.0</td>\n",
       "      <td>1.0</td>\n",
       "      <td>141.0</td>\n",
       "      <td>136.0</td>\n",
       "      <td>140.0</td>\n",
       "      <td>12.0</td>\n",
       "      <td>0.0</td>\n",
       "      <td>1.0</td>\n",
       "    </tr>\n",
       "    <tr>\n",
       "      <th>2</th>\n",
       "      <td>133.0</td>\n",
       "      <td>2.0</td>\n",
       "      <td>0.0</td>\n",
       "      <td>5.0</td>\n",
       "      <td>2.0</td>\n",
       "      <td>0.0</td>\n",
       "      <td>0.0</td>\n",
       "      <td>16.0</td>\n",
       "      <td>2.1</td>\n",
       "      <td>0.0</td>\n",
       "      <td>...</td>\n",
       "      <td>68.0</td>\n",
       "      <td>198.0</td>\n",
       "      <td>5.0</td>\n",
       "      <td>1.0</td>\n",
       "      <td>141.0</td>\n",
       "      <td>135.0</td>\n",
       "      <td>138.0</td>\n",
       "      <td>13.0</td>\n",
       "      <td>0.0</td>\n",
       "      <td>1.0</td>\n",
       "    </tr>\n",
       "    <tr>\n",
       "      <th>3</th>\n",
       "      <td>134.0</td>\n",
       "      <td>2.0</td>\n",
       "      <td>0.0</td>\n",
       "      <td>6.0</td>\n",
       "      <td>2.0</td>\n",
       "      <td>0.0</td>\n",
       "      <td>0.0</td>\n",
       "      <td>16.0</td>\n",
       "      <td>2.4</td>\n",
       "      <td>0.0</td>\n",
       "      <td>...</td>\n",
       "      <td>53.0</td>\n",
       "      <td>170.0</td>\n",
       "      <td>11.0</td>\n",
       "      <td>0.0</td>\n",
       "      <td>137.0</td>\n",
       "      <td>134.0</td>\n",
       "      <td>137.0</td>\n",
       "      <td>13.0</td>\n",
       "      <td>1.0</td>\n",
       "      <td>1.0</td>\n",
       "    </tr>\n",
       "    <tr>\n",
       "      <th>4</th>\n",
       "      <td>132.0</td>\n",
       "      <td>4.0</td>\n",
       "      <td>0.0</td>\n",
       "      <td>5.0</td>\n",
       "      <td>0.0</td>\n",
       "      <td>0.0</td>\n",
       "      <td>0.0</td>\n",
       "      <td>16.0</td>\n",
       "      <td>2.4</td>\n",
       "      <td>0.0</td>\n",
       "      <td>...</td>\n",
       "      <td>53.0</td>\n",
       "      <td>170.0</td>\n",
       "      <td>9.0</td>\n",
       "      <td>0.0</td>\n",
       "      <td>137.0</td>\n",
       "      <td>136.0</td>\n",
       "      <td>138.0</td>\n",
       "      <td>11.0</td>\n",
       "      <td>1.0</td>\n",
       "      <td>1.0</td>\n",
       "    </tr>\n",
       "  </tbody>\n",
       "</table>\n",
       "<p>5 rows × 22 columns</p>\n",
       "</div>"
      ],
      "text/plain": [
       "      LB   AC   FM   UC   DL   DS   DP  ASTV  MSTV  ALTV  ...   Min    Max  \\\n",
       "0  120.0  0.0  0.0  0.0  0.0  0.0  0.0  73.0   0.5  43.0  ...  62.0  126.0   \n",
       "1  132.0  4.0  0.0  4.0  2.0  0.0  0.0  17.0   2.1   0.0  ...  68.0  198.0   \n",
       "2  133.0  2.0  0.0  5.0  2.0  0.0  0.0  16.0   2.1   0.0  ...  68.0  198.0   \n",
       "3  134.0  2.0  0.0  6.0  2.0  0.0  0.0  16.0   2.4   0.0  ...  53.0  170.0   \n",
       "4  132.0  4.0  0.0  5.0  0.0  0.0  0.0  16.0   2.4   0.0  ...  53.0  170.0   \n",
       "\n",
       "   Nmax  Nzeros   Mode   Mean  Median  Variance  Tendency  NSP  \n",
       "0   2.0     0.0  120.0  137.0   121.0      73.0       1.0  2.0  \n",
       "1   6.0     1.0  141.0  136.0   140.0      12.0       0.0  1.0  \n",
       "2   5.0     1.0  141.0  135.0   138.0      13.0       0.0  1.0  \n",
       "3  11.0     0.0  137.0  134.0   137.0      13.0       1.0  1.0  \n",
       "4   9.0     0.0  137.0  136.0   138.0      11.0       1.0  1.0  \n",
       "\n",
       "[5 rows x 22 columns]"
      ]
     },
     "execution_count": 178,
     "metadata": {},
     "output_type": "execute_result"
    }
   ],
   "source": [
    "df = pd.read_csv(\"../../data/data_processed/data_processed.csv\")\n",
    "df.head()"
   ]
  },
  {
   "cell_type": "markdown",
   "id": "8feac1fd",
   "metadata": {},
   "source": [
    "## **Xây dựng Softmax Regression**"
   ]
  },
  {
   "cell_type": "code",
   "execution_count": 179,
   "id": "694757c6",
   "metadata": {},
   "outputs": [],
   "source": [
    "# Tách đặc trưng và nhãn\n",
    "X = df.drop(columns=[\"NSP\"]).values\n",
    "# Nhãn: chuyển về 0, 1, 2\n",
    "y = df[\"NSP\"].values - 1 \n",
    "\n",
    "# Chuẩn hóa đặc trưng\n",
    "scaler = StandardScaler()\n",
    "X_scaled = scaler.fit_transform(X)\n",
    "\n",
    "# Thêm bias (1) vào đầu X\n",
    "X_scaled = np.hstack([np.ones((X_scaled.shape[0], 1)), X_scaled])\n",
    "\n",
    "# # Chuyển X thành dạng (d, N)\n",
    "# X_scaled = X_scaled.T\n",
    "\n",
    "X = X_scaled"
   ]
  },
  {
   "cell_type": "code",
   "execution_count": 180,
   "id": "dbf4d73d",
   "metadata": {},
   "outputs": [],
   "source": [
    "# Số lớp\n",
    "C = len(np.unique(y))\n",
    "\n",
    "def convert_labels(y, C=C):\n",
    "    Y = sparse.coo_matrix((np.ones_like(y), (y, np.arange(len(y)))), shape=(C, len(y))).toarray()\n",
    "    return Y\n",
    "\n",
    "def softmax_stable(Z):\n",
    "    e_Z = np.exp(Z - np.max(Z, axis=0, keepdims=True))\n",
    "    return e_Z / e_Z.sum(axis=0)\n",
    "\n",
    "def softmax(Z):\n",
    "    e_Z = np.exp(Z)\n",
    "    return e_Z / e_Z.sum(axis=0)\n",
    "\n",
    "def softmax_regression(X, y, W_init, eta, tol=1e-4, max_count=10000):\n",
    "    W = [W_init]\n",
    "    C = W_init.shape[1]\n",
    "    Y = convert_labels(y, C)\n",
    "    N = X.shape[1]\n",
    "    d = X.shape[0]\n",
    "\n",
    "    count = 0\n",
    "    check_w_after = 1500\n",
    "    while count < max_count:\n",
    "        mix_id = np.random.permutation(N)\n",
    "        for i in mix_id:\n",
    "            xi = X[:, i].reshape(d, 1)\n",
    "            yi = Y[:, i].reshape(C, 1)\n",
    "            ai = softmax(np.dot(W[-1].T, xi))\n",
    "            W_new = W[-1] + eta * xi.dot((yi - ai).T)\n",
    "            count += 1\n",
    "            if count % check_w_after == 0:\n",
    "                if np.linalg.norm(W_new - W[-check_w_after]) < tol:\n",
    "                    return W\n",
    "            W.append(W_new)\n",
    "    return W\n",
    "\n",
    "def pred(W, X):\n",
    "    A = softmax_stable(W.T.dot(X))\n",
    "    return np.argmax(A, axis=0)\n",
    "\n",
    "def accuracy(y_true, y_pred):\n",
    "    return np.mean(y_true == y_pred)\n"
   ]
  },
  {
   "cell_type": "code",
   "execution_count": 181,
   "id": "40f1ddde",
   "metadata": {},
   "outputs": [],
   "source": [
    "def evaluate_model(W, X_test, y_test):\n",
    "    y_pred = pred(W, X_test)\n",
    "    acc = accuracy_score(y_test, y_pred)\n",
    "    cr = classification_report(y_test, y_pred,zero_division=1)\n",
    "    cm = confusion_matrix(y_test, y_pred)\n",
    "    return acc, cr, cm\n"
   ]
  },
  {
   "cell_type": "markdown",
   "id": "1f71284f",
   "metadata": {},
   "source": [
    "## **Triển khai Softmax Regression với nhiều tỷ lệ train/validation: 4:1; 7:3; 6:4**"
   ]
  },
  {
   "cell_type": "markdown",
   "id": "f7c0bc70",
   "metadata": {},
   "source": [
    "### **Giảm trước chia sau**"
   ]
  },
  {
   "cell_type": "code",
   "execution_count": 182,
   "id": "189a8b5c",
   "metadata": {},
   "outputs": [],
   "source": [
    "def softmax_pipeline(X, y, train_ratios=[0.8, 0.7, 0.6], use_pca=False, use_lda=False, n_components=None, lam=0):\n",
    "    results = []\n",
    "\n",
    "    for train_ratio in train_ratios:\n",
    "        method = \"gốc\"\n",
    "        X_temp = X.copy()\n",
    "        \n",
    "        if use_pca:\n",
    "            method = f\"PCA-{n_components}\"\n",
    "            pca = PCA(n_components=n_components)\n",
    "            X_temp = pca.fit_transform(X_temp)\n",
    "        elif use_lda:\n",
    "            method = f\"LDA-{n_components}\"\n",
    "            lda = LDA(n_components=n_components)\n",
    "            X_temp = lda.fit_transform(X_temp, y)\n",
    "\n",
    "        # Train/Validation split\n",
    "        X_train, X_val, y_train, y_val = train_test_split(X_temp, y, train_size=train_ratio, stratify=y, random_state=42)\n",
    "\n",
    "        # Add bias\n",
    "        X_train = np.concatenate((np.ones((X_train.shape[0], 1)), X_train), axis=1).T\n",
    "        X_val = np.concatenate((np.ones((X_val.shape[0], 1)), X_val), axis=1).T\n",
    "\n",
    "        d = X_train.shape[0]\n",
    "        C = len(np.unique(y))\n",
    "        W_init = np.random.randn(d, C)\n",
    "        \n",
    "        W = softmax_regression(X_train, y_train, W_init, eta=0.05)\n",
    "\n",
    "        acc, cr, cm = evaluate_model(W[-1], X_val, y_val)\n",
    "    \n",
    "        print(\"Dữ liệu\", method, \":\")\n",
    "        print(f\"Tỷ lệ: {int(train_ratio*10)}:{int((1-train_ratio)*10)}\")\n",
    "        print(f\"Accuracy: {acc}\")\n",
    "        print(f\"Confusion Matrix:\\n{cm}\")\n",
    "        print(f\"Classification Report:\\n{cr}\\n\")\n",
    "\n",
    "        results.append({\n",
    "            'method': method,\n",
    "            'train_ratio': f\"{int(train_ratio*10)}:{int((1-train_ratio)*10)}\",\n",
    "            'acc': acc,\n",
    "            'cr': cr,\n",
    "            'cm': cm\n",
    "        })\n",
    "\n",
    "    return results\n"
   ]
  },
  {
   "cell_type": "code",
   "execution_count": 183,
   "id": "599362a3",
   "metadata": {},
   "outputs": [
    {
     "name": "stdout",
     "output_type": "stream",
     "text": [
      "(2126, 22)\n",
      "(2126,)\n"
     ]
    }
   ],
   "source": [
    "print(X_scaled.shape)  # Kiểm tra kích thước của X\n",
    "print(y.shape)         # Kiểm tra kích thước của y\n"
   ]
  },
  {
   "cell_type": "code",
   "execution_count": 184,
   "id": "7ad74ef0",
   "metadata": {},
   "outputs": [
    {
     "name": "stdout",
     "output_type": "stream",
     "text": [
      "Dữ liệu gốc :\n",
      "Tỷ lệ: 8:1\n",
      "Accuracy: 0.8755868544600939\n",
      "Confusion Matrix:\n",
      "[[301  29   2]\n",
      " [  8  50   1]\n",
      " [  2  11  22]]\n",
      "Classification Report:\n",
      "              precision    recall  f1-score   support\n",
      "\n",
      "         0.0       0.97      0.91      0.94       332\n",
      "         1.0       0.56      0.85      0.67        59\n",
      "         2.0       0.88      0.63      0.73        35\n",
      "\n",
      "    accuracy                           0.88       426\n",
      "   macro avg       0.80      0.79      0.78       426\n",
      "weighted avg       0.90      0.88      0.88       426\n",
      "\n",
      "\n",
      "Dữ liệu gốc :\n",
      "Tỷ lệ: 7:3\n",
      "Accuracy: 0.8918495297805643\n",
      "Confusion Matrix:\n",
      "[[462  32   3]\n",
      " [ 16  71   1]\n",
      " [  3  14  36]]\n",
      "Classification Report:\n",
      "              precision    recall  f1-score   support\n",
      "\n",
      "         0.0       0.96      0.93      0.94       497\n",
      "         1.0       0.61      0.81      0.69        88\n",
      "         2.0       0.90      0.68      0.77        53\n",
      "\n",
      "    accuracy                           0.89       638\n",
      "   macro avg       0.82      0.81      0.80       638\n",
      "weighted avg       0.91      0.89      0.90       638\n",
      "\n",
      "\n",
      "Dữ liệu gốc :\n",
      "Tỷ lệ: 6:4\n",
      "Accuracy: 0.8871915393654524\n",
      "Confusion Matrix:\n",
      "[[630  30   3]\n",
      " [ 34  69  15]\n",
      " [  5   9  56]]\n",
      "Classification Report:\n",
      "              precision    recall  f1-score   support\n",
      "\n",
      "         0.0       0.94      0.95      0.95       663\n",
      "         1.0       0.64      0.58      0.61       118\n",
      "         2.0       0.76      0.80      0.78        70\n",
      "\n",
      "    accuracy                           0.89       851\n",
      "   macro avg       0.78      0.78      0.78       851\n",
      "weighted avg       0.88      0.89      0.89       851\n",
      "\n",
      "\n"
     ]
    }
   ],
   "source": [
    "results = softmax_pipeline(X_scaled, y, train_ratios=[0.8, 0.7, 0.6])"
   ]
  },
  {
   "cell_type": "code",
   "execution_count": 185,
   "id": "a24af47d",
   "metadata": {},
   "outputs": [
    {
     "name": "stdout",
     "output_type": "stream",
     "text": [
      "Mô hình tốt nhất: gốc với tỷ lệ huấn luyện 7:3\n",
      "Accuracy: 0.8918495297805643\n"
     ]
    }
   ],
   "source": [
    "# Tìm mô hình có accuracy cao nhất\n",
    "best_model = max(results, key=lambda x: x['acc'])\n",
    "\n",
    "# In ra kết quả của mô hình tốt nhất\n",
    "print(f\"Mô hình tốt nhất: {best_model['method']} với tỷ lệ huấn luyện {best_model['train_ratio']}\")\n",
    "print(f\"Accuracy: {best_model['acc']}\")\n"
   ]
  },
  {
   "cell_type": "code",
   "execution_count": 186,
   "id": "739219a2",
   "metadata": {},
   "outputs": [
    {
     "data": {
      "image/png": "[encoded data removed]",
      "text/plain": [
       "<Figure size 600x600 with 2 Axes>"
      ]
     },
     "metadata": {},
     "output_type": "display_data"
    }
   ],
   "source": [
    "conf_matrix_best = best_model['cm']\n",
    "plt.figure(figsize=(6, 6))\n",
    "sns.heatmap(conf_matrix_best, annot=True, fmt=\"d\", cmap=\"Blues\", \n",
    "            xticklabels=np.unique(y), yticklabels=np.unique(y))\n",
    "plt.title(\"Confusion Matrix (Dữ liệu gốc)\")\n",
    "plt.xlabel(\"Dự đoán\")\n",
    "plt.ylabel(\"Thực tế\")\n",
    "plt.show()"
   ]
  },
  {
   "cell_type": "markdown",
   "id": "d503e577",
   "metadata": {},
   "source": [
    "#### **Thực hiện với dữ liệu đã giảm chiều bằng PCA**"
   ]
  },
  {
   "cell_type": "code",
   "execution_count": 187,
   "id": "b13f4c19",
   "metadata": {},
   "outputs": [
    {
     "name": "stdout",
     "output_type": "stream",
     "text": [
      "Dữ liệu PCA-12 :\n",
      "Tỷ lệ: 8:1\n",
      "Accuracy: 0.8544600938967136\n",
      "Confusion Matrix:\n",
      "[[316  12   4]\n",
      " [ 26  20  13]\n",
      " [  3   4  28]]\n",
      "Classification Report:\n",
      "              precision    recall  f1-score   support\n",
      "\n",
      "         0.0       0.92      0.95      0.93       332\n",
      "         1.0       0.56      0.34      0.42        59\n",
      "         2.0       0.62      0.80      0.70        35\n",
      "\n",
      "    accuracy                           0.85       426\n",
      "   macro avg       0.70      0.70      0.68       426\n",
      "weighted avg       0.84      0.85      0.84       426\n",
      "\n",
      "\n",
      "Dữ liệu PCA-12 :\n",
      "Tỷ lệ: 7:3\n",
      "Accuracy: 0.8605015673981191\n",
      "Confusion Matrix:\n",
      "[[447  46   4]\n",
      " [ 17  68   3]\n",
      " [  5  14  34]]\n",
      "Classification Report:\n",
      "              precision    recall  f1-score   support\n",
      "\n",
      "         0.0       0.95      0.90      0.93       497\n",
      "         1.0       0.53      0.77      0.63        88\n",
      "         2.0       0.83      0.64      0.72        53\n",
      "\n",
      "    accuracy                           0.86       638\n",
      "   macro avg       0.77      0.77      0.76       638\n",
      "weighted avg       0.88      0.86      0.87       638\n",
      "\n",
      "\n",
      "Dữ liệu PCA-12 :\n",
      "Tỷ lệ: 6:4\n",
      "Accuracy: 0.8801410105757932\n",
      "Confusion Matrix:\n",
      "[[647  13   3]\n",
      " [ 62  50   6]\n",
      " [  5  13  52]]\n",
      "Classification Report:\n",
      "              precision    recall  f1-score   support\n",
      "\n",
      "         0.0       0.91      0.98      0.94       663\n",
      "         1.0       0.66      0.42      0.52       118\n",
      "         2.0       0.85      0.74      0.79        70\n",
      "\n",
      "    accuracy                           0.88       851\n",
      "   macro avg       0.81      0.71      0.75       851\n",
      "weighted avg       0.87      0.88      0.87       851\n",
      "\n",
      "\n"
     ]
    }
   ],
   "source": [
    "results = softmax_pipeline(X_scaled, y, train_ratios=[0.8, 0.7, 0.6], use_pca=True, n_components=12)"
   ]
  },
  {
   "cell_type": "code",
   "execution_count": 188,
   "id": "a0b70c20",
   "metadata": {},
   "outputs": [
    {
     "name": "stdout",
     "output_type": "stream",
     "text": [
      "Mô hình tốt nhất: PCA-12 với tỷ lệ huấn luyện 6:4\n",
      "Accuracy: 0.8801410105757932\n"
     ]
    }
   ],
   "source": [
    "# Tìm mô hình có accuracy cao nhất\n",
    "best_model = max(results, key=lambda x: x['acc'])\n",
    "\n",
    "# In ra kết quả của mô hình tốt nhất\n",
    "print(f\"Mô hình tốt nhất: {best_model['method']} với tỷ lệ huấn luyện {best_model['train_ratio']}\")\n",
    "print(f\"Accuracy: {best_model['acc']}\")\n"
   ]
  },
  {
   "cell_type": "code",
   "execution_count": 189,
   "id": "9a578540",
   "metadata": {},
   "outputs": [
    {
     "data": {
      "image/png": "[encoded data removed]",
      "text/plain": [
       "<Figure size 600x600 with 2 Axes>"
      ]
     },
     "metadata": {},
     "output_type": "display_data"
    }
   ],
   "source": [
    "conf_matrix_best = best_model['cm']\n",
    "plt.figure(figsize=(6, 6))\n",
    "sns.heatmap(conf_matrix_best, annot=True, fmt=\"d\", cmap=\"Blues\", \n",
    "            xticklabels=np.unique(y), yticklabels=np.unique(y))\n",
    "plt.title(\"Confusion Matrix (PCA))\")\n",
    "plt.xlabel(\"Dự đoán\")\n",
    "plt.ylabel(\"Thực tế\")\n",
    "plt.show()"
   ]
  },
  {
   "cell_type": "markdown",
   "id": "f0ac7e62",
   "metadata": {},
   "source": [
    "#### **Thực hiện với dữ liệu đã giảm chiều bằng LDA**"
   ]
  },
  {
   "cell_type": "code",
   "execution_count": 190,
   "id": "085e04d2",
   "metadata": {},
   "outputs": [
    {
     "name": "stdout",
     "output_type": "stream",
     "text": [
      "Dữ liệu LDA-2 :\n",
      "Tỷ lệ: 8:1\n",
      "Accuracy: 0.8943661971830986\n",
      "Confusion Matrix:\n",
      "[[317  13   2]\n",
      " [ 13  42   4]\n",
      " [  3  10  22]]\n",
      "Classification Report:\n",
      "              precision    recall  f1-score   support\n",
      "\n",
      "         0.0       0.95      0.95      0.95       332\n",
      "         1.0       0.65      0.71      0.68        59\n",
      "         2.0       0.79      0.63      0.70        35\n",
      "\n",
      "    accuracy                           0.89       426\n",
      "   macro avg       0.79      0.77      0.78       426\n",
      "weighted avg       0.90      0.89      0.89       426\n",
      "\n",
      "\n",
      "Dữ liệu LDA-2 :\n",
      "Tỷ lệ: 7:3\n",
      "Accuracy: 0.8808777429467085\n",
      "Confusion Matrix:\n",
      "[[463  30   4]\n",
      " [ 20  64   4]\n",
      " [  5  13  35]]\n",
      "Classification Report:\n",
      "              precision    recall  f1-score   support\n",
      "\n",
      "         0.0       0.95      0.93      0.94       497\n",
      "         1.0       0.60      0.73      0.66        88\n",
      "         2.0       0.81      0.66      0.73        53\n",
      "\n",
      "    accuracy                           0.88       638\n",
      "   macro avg       0.79      0.77      0.78       638\n",
      "weighted avg       0.89      0.88      0.88       638\n",
      "\n",
      "\n",
      "Dữ liệu LDA-2 :\n",
      "Tỷ lệ: 6:4\n",
      "Accuracy: 0.8848413631022327\n",
      "Confusion Matrix:\n",
      "[[641  20   2]\n",
      " [ 44  71   3]\n",
      " [  6  23  41]]\n",
      "Classification Report:\n",
      "              precision    recall  f1-score   support\n",
      "\n",
      "         0.0       0.93      0.97      0.95       663\n",
      "         1.0       0.62      0.60      0.61       118\n",
      "         2.0       0.89      0.59      0.71        70\n",
      "\n",
      "    accuracy                           0.88       851\n",
      "   macro avg       0.81      0.72      0.76       851\n",
      "weighted avg       0.88      0.88      0.88       851\n",
      "\n",
      "\n"
     ]
    }
   ],
   "source": [
    "results = softmax_pipeline(X_scaled, y, train_ratios=[0.8, 0.7, 0.6], use_lda=True, n_components=2)"
   ]
  },
  {
   "cell_type": "code",
   "execution_count": 191,
   "id": "3f7820c1",
   "metadata": {},
   "outputs": [
    {
     "name": "stdout",
     "output_type": "stream",
     "text": [
      "Mô hình tốt nhất: LDA-2 với tỷ lệ huấn luyện 8:1\n",
      "Accuracy: 0.8943661971830986\n"
     ]
    }
   ],
   "source": [
    "# Tìm mô hình có accuracy cao nhất\n",
    "best_model = max(results, key=lambda x: x['acc'])\n",
    "\n",
    "# In ra kết quả của mô hình tốt nhất\n",
    "print(f\"Mô hình tốt nhất: {best_model['method']} với tỷ lệ huấn luyện {best_model['train_ratio']}\")\n",
    "print(f\"Accuracy: {best_model['acc']}\")\n"
   ]
  },
  {
   "cell_type": "code",
   "execution_count": 192,
   "id": "4e8bc3ae",
   "metadata": {},
   "outputs": [
    {
     "data": {
      "image/png": "[encoded data removed]",
      "text/plain": [
       "<Figure size 600x600 with 2 Axes>"
      ]
     },
     "metadata": {},
     "output_type": "display_data"
    }
   ],
   "source": [
    "conf_matrix_best = best_model['cm']\n",
    "plt.figure(figsize=(6, 6))\n",
    "sns.heatmap(conf_matrix_best, annot=True, fmt=\"d\", cmap=\"Blues\", \n",
    "            xticklabels=np.unique(y), yticklabels=np.unique(y))\n",
    "plt.title(\"Confusion matrix (Dữ liệu gốc)\")\n",
    "plt.xlabel(\"Dự đoán\")\n",
    "plt.ylabel(\"Thực tế\")\n",
    "plt.show()"
   ]
  },
  {
   "cell_type": "code",
   "execution_count": 193,
   "id": "692f7391",
   "metadata": {},
   "outputs": [
    {
     "name": "stdout",
     "output_type": "stream",
     "text": [
      "Kết quả LDA-2 với tỉ lệ 7:3\n",
      "Classification Report:\n",
      "              precision    recall  f1-score   support\n",
      "\n",
      "         0.0       0.95      0.93      0.94       497\n",
      "         1.0       0.60      0.73      0.66        88\n",
      "         2.0       0.81      0.66      0.73        53\n",
      "\n",
      "    accuracy                           0.88       638\n",
      "   macro avg       0.79      0.77      0.78       638\n",
      "weighted avg       0.89      0.88      0.88       638\n",
      "\n",
      "\n"
     ]
    }
   ],
   "source": [
    "for res in results:\n",
    "    if res['method'] == 'LDA-2' and res['train_ratio'] == '7:3':\n",
    "        print(\"Kết quả LDA-2 với tỉ lệ 7:3\")\n",
    "        # print(f\"Accuracy: {res['acc']}\")\n",
    "        # print(f\"Confusion Matrix:\\n{res['cm']}\")\n",
    "        print(f\"Classification Report:\\n{res['cr']}\\n\")\n",
    "        conf_matrix = res['cm']"
   ]
  },
  {
   "cell_type": "code",
   "execution_count": 194,
   "id": "7ed19011",
   "metadata": {},
   "outputs": [
    {
     "data": {
      "image/png": "[encoded data removed]",
      "text/plain": [
       "<Figure size 600x600 with 2 Axes>"
      ]
     },
     "metadata": {},
     "output_type": "display_data"
    }
   ],
   "source": [
    "plt.figure(figsize=(6, 6))\n",
    "sns.heatmap(conf_matrix, annot=True, fmt=\"d\", cmap=\"Blues\", \n",
    "        xticklabels=np.unique(y), yticklabels=np.unique(y))\n",
    "plt.title(\"Confusion Matrix (LDA)\")\n",
    "plt.xlabel(\"Dự đoán\")\n",
    "plt.ylabel(\"Thực tế\")\n",
    "plt.show()"
   ]
  },
  {
   "cell_type": "markdown",
   "id": "f7a8d9ab",
   "metadata": {},
   "source": [
    "### **Chia trước giảm sau**"
   ]
  },
  {
   "cell_type": "code",
   "execution_count": 195,
   "id": "d1c5ffe4",
   "metadata": {},
   "outputs": [],
   "source": [
    "def softmax_pipeline(X, y, train_ratios=[0.8, 0.7, 0.6], use_pca=False, use_lda=False, n_components=None, lam=0):\n",
    "    results = []\n",
    "\n",
    "    for train_ratio in train_ratios:\n",
    "        method = \"gốc\"\n",
    "        \n",
    "        # Chia dữ liệu train/test trước khi giảm chiều\n",
    "        X_train, X_val, y_train, y_val = train_test_split(\n",
    "            X, y, train_size=train_ratio, stratify=y, random_state=42)\n",
    "\n",
    "        # Giảm chiều \n",
    "        if use_pca:\n",
    "            method = f\"PCA-{n_components}\"\n",
    "            pca = PCA(n_components=n_components)\n",
    "            X_train = pca.fit_transform(X_train)\n",
    "            X_val = pca.transform(X_val)\n",
    "        elif use_lda:\n",
    "            method = f\"LDA-{n_components}\"\n",
    "            lda = LDA(n_components=n_components)\n",
    "            X_train = lda.fit_transform(X_train, y_train)\n",
    "            X_val = lda.transform(X_val)\n",
    "\n",
    "        # Thêm bias\n",
    "        X_train = np.concatenate((np.ones((X_train.shape[0], 1)), X_train), axis=1).T\n",
    "        X_val = np.concatenate((np.ones((X_val.shape[0], 1)), X_val), axis=1).T\n",
    "\n",
    "        d = X_train.shape[0]\n",
    "        C = len(np.unique(y))\n",
    "        W_init = np.random.randn(d, C)\n",
    "\n",
    "        # Huấn luyện mô hình\n",
    "        W = softmax_regression(X_train, y_train, W_init, eta=0.05)\n",
    "\n",
    "        # Đánh giá\n",
    "        acc, cr, cm = evaluate_model(W[-1], X_val, y_val)\n",
    "\n",
    "        print(\"Dữ liệu\", method, \":\")\n",
    "        print(f\"Tỷ lệ: {int(train_ratio*10)}:{int((1-train_ratio)*10)}\")\n",
    "        print(f\"Accuracy: {acc}\")\n",
    "        print(f\"Confusion Matrix:\\n{cm}\")\n",
    "        print(f\"Classification Report:\\n{cr}\\n\")\n",
    "\n",
    "        results.append({\n",
    "            'method': method,\n",
    "            'train_ratio': f\"{int(train_ratio*10)}:{int((1-train_ratio)*10)}\",\n",
    "            'acc': acc,\n",
    "            'cr': cr,\n",
    "            'cm': cm\n",
    "        })\n",
    "\n",
    "    return results\n"
   ]
  },
  {
   "cell_type": "markdown",
   "id": "fc279388",
   "metadata": {},
   "source": [
    "#### **Thực hiện trên tập dữ liệu giảm chiều bằng PCA**"
   ]
  },
  {
   "cell_type": "code",
   "execution_count": 196,
   "id": "a211633d",
   "metadata": {},
   "outputs": [
    {
     "name": "stdout",
     "output_type": "stream",
     "text": [
      "Dữ liệu PCA-12 :\n",
      "Tỷ lệ: 8:1\n",
      "Accuracy: 0.8685446009389671\n",
      "Confusion Matrix:\n",
      "[[323   4   5]\n",
      " [ 30  25   4]\n",
      " [  2  11  22]]\n",
      "Classification Report:\n",
      "              precision    recall  f1-score   support\n",
      "\n",
      "         0.0       0.91      0.97      0.94       332\n",
      "         1.0       0.62      0.42      0.51        59\n",
      "         2.0       0.71      0.63      0.67        35\n",
      "\n",
      "    accuracy                           0.87       426\n",
      "   macro avg       0.75      0.68      0.70       426\n",
      "weighted avg       0.85      0.87      0.86       426\n",
      "\n",
      "\n",
      "Dữ liệu PCA-12 :\n",
      "Tỷ lệ: 7:3\n",
      "Accuracy: 0.8448275862068966\n",
      "Confusion Matrix:\n",
      "[[462  30   5]\n",
      " [ 35  49   4]\n",
      " [  2  23  28]]\n",
      "Classification Report:\n",
      "              precision    recall  f1-score   support\n",
      "\n",
      "         0.0       0.93      0.93      0.93       497\n",
      "         1.0       0.48      0.56      0.52        88\n",
      "         2.0       0.76      0.53      0.62        53\n",
      "\n",
      "    accuracy                           0.84       638\n",
      "   macro avg       0.72      0.67      0.69       638\n",
      "weighted avg       0.85      0.84      0.85       638\n",
      "\n",
      "\n",
      "Dữ liệu PCA-12 :\n",
      "Tỷ lệ: 6:4\n",
      "Accuracy: 0.882491186839013\n",
      "Confusion Matrix:\n",
      "[[625  35   3]\n",
      " [ 35  81   2]\n",
      " [  4  21  45]]\n",
      "Classification Report:\n",
      "              precision    recall  f1-score   support\n",
      "\n",
      "         0.0       0.94      0.94      0.94       663\n",
      "         1.0       0.59      0.69      0.64       118\n",
      "         2.0       0.90      0.64      0.75        70\n",
      "\n",
      "    accuracy                           0.88       851\n",
      "   macro avg       0.81      0.76      0.78       851\n",
      "weighted avg       0.89      0.88      0.88       851\n",
      "\n",
      "\n"
     ]
    }
   ],
   "source": [
    "results = softmax_pipeline(X_scaled, y, train_ratios=[0.8, 0.7, 0.6], use_pca=True, n_components=12)"
   ]
  },
  {
   "cell_type": "code",
   "execution_count": 197,
   "id": "f335b5b3",
   "metadata": {},
   "outputs": [
    {
     "name": "stdout",
     "output_type": "stream",
     "text": [
      "Mô hình tốt nhất: PCA-12 với tỷ lệ huấn luyện 6:4\n",
      "Accuracy: 0.882491186839013\n"
     ]
    }
   ],
   "source": [
    "# Tìm mô hình có accuracy cao nhất\n",
    "best_model = max(results, key=lambda x: x['acc'])\n",
    "\n",
    "# In ra kết quả của mô hình tốt nhất\n",
    "print(f\"Mô hình tốt nhất: {best_model['method']} với tỷ lệ huấn luyện {best_model['train_ratio']}\")\n",
    "print(f\"Accuracy: {best_model['acc']}\")\n"
   ]
  },
  {
   "cell_type": "code",
   "execution_count": 198,
   "id": "1547b675",
   "metadata": {},
   "outputs": [
    {
     "data": {
      "image/png": "[encoded data removed]",
      "text/plain": [
       "<Figure size 600x600 with 2 Axes>"
      ]
     },
     "metadata": {},
     "output_type": "display_data"
    }
   ],
   "source": [
    "conf_matrix_best = best_model['cm']\n",
    "plt.figure(figsize=(6, 6))\n",
    "sns.heatmap(conf_matrix_best, annot=True, fmt=\"d\", cmap=\"Blues\", \n",
    "            xticklabels=np.unique(y), yticklabels=np.unique(y))\n",
    "plt.title(\"Confusion Matrix (PCA))\")\n",
    "plt.xlabel(\"Dự đoán\")\n",
    "plt.ylabel(\"Thực tế\")\n",
    "plt.show()"
   ]
  },
  {
   "cell_type": "markdown",
   "id": "9b8ea6ad",
   "metadata": {},
   "source": [
    "#### **Thực hiện với dữ liệu đã giảm chiều bằng LDA**"
   ]
  },
  {
   "cell_type": "code",
   "execution_count": 199,
   "id": "9b458282",
   "metadata": {},
   "outputs": [
    {
     "name": "stdout",
     "output_type": "stream",
     "text": [
      "Dữ liệu LDA-2 :\n",
      "Tỷ lệ: 8:1\n",
      "Accuracy: 0.8615023474178404\n",
      "Confusion Matrix:\n",
      "[[312  16   4]\n",
      " [ 17  38   4]\n",
      " [  3  15  17]]\n",
      "Classification Report:\n",
      "              precision    recall  f1-score   support\n",
      "\n",
      "         0.0       0.94      0.94      0.94       332\n",
      "         1.0       0.55      0.64      0.59        59\n",
      "         2.0       0.68      0.49      0.57        35\n",
      "\n",
      "    accuracy                           0.86       426\n",
      "   macro avg       0.72      0.69      0.70       426\n",
      "weighted avg       0.86      0.86      0.86       426\n",
      "\n",
      "\n",
      "Dữ liệu LDA-2 :\n",
      "Tỷ lệ: 7:3\n",
      "Accuracy: 0.8871473354231975\n",
      "Confusion Matrix:\n",
      "[[473  20   4]\n",
      " [ 29  54   5]\n",
      " [  5   9  39]]\n",
      "Classification Report:\n",
      "              precision    recall  f1-score   support\n",
      "\n",
      "         0.0       0.93      0.95      0.94       497\n",
      "         1.0       0.65      0.61      0.63        88\n",
      "         2.0       0.81      0.74      0.77        53\n",
      "\n",
      "    accuracy                           0.89       638\n",
      "   macro avg       0.80      0.77      0.78       638\n",
      "weighted avg       0.88      0.89      0.89       638\n",
      "\n",
      "\n",
      "Dữ liệu LDA-2 :\n",
      "Tỷ lệ: 6:4\n",
      "Accuracy: 0.8730904817861339\n",
      "Confusion Matrix:\n",
      "[[649  12   2]\n",
      " [ 60  54   4]\n",
      " [  7  23  40]]\n",
      "Classification Report:\n",
      "              precision    recall  f1-score   support\n",
      "\n",
      "         0.0       0.91      0.98      0.94       663\n",
      "         1.0       0.61      0.46      0.52       118\n",
      "         2.0       0.87      0.57      0.69        70\n",
      "\n",
      "    accuracy                           0.87       851\n",
      "   macro avg       0.79      0.67      0.72       851\n",
      "weighted avg       0.86      0.87      0.86       851\n",
      "\n",
      "\n"
     ]
    }
   ],
   "source": [
    "results = softmax_pipeline(X_scaled, y, train_ratios=[0.8, 0.7, 0.6], use_lda=True, n_components=2)"
   ]
  },
  {
   "cell_type": "code",
   "execution_count": 200,
   "id": "b0ede907",
   "metadata": {},
   "outputs": [
    {
     "name": "stdout",
     "output_type": "stream",
     "text": [
      "Mô hình tốt nhất: LDA-2 với tỷ lệ huấn luyện 7:3\n",
      "Accuracy: 0.8871473354231975\n"
     ]
    }
   ],
   "source": [
    "# Tìm mô hình có accuracy cao nhất\n",
    "best_model = max(results, key=lambda x: x['acc'])\n",
    "\n",
    "# In ra kết quả của mô hình tốt nhất\n",
    "print(f\"Mô hình tốt nhất: {best_model['method']} với tỷ lệ huấn luyện {best_model['train_ratio']}\")\n",
    "print(f\"Accuracy: {best_model['acc']}\")\n"
   ]
  },
  {
   "cell_type": "code",
   "execution_count": 201,
   "id": "315dca50",
   "metadata": {},
   "outputs": [
    {
     "data": {
      "image/png": "[encoded data removed]",
      "text/plain": [
       "<Figure size 600x600 with 2 Axes>"
      ]
     },
     "metadata": {},
     "output_type": "display_data"
    }
   ],
   "source": [
    "conf_matrix_best = best_model['cm']\n",
    "plt.figure(figsize=(6, 6))\n",
    "sns.heatmap(conf_matrix_best, annot=True, fmt=\"d\", cmap=\"Blues\", \n",
    "            xticklabels=np.unique(y), yticklabels=np.unique(y))\n",
    "plt.title(\"Confusion Matrix (LDA)\")\n",
    "plt.xlabel(\"Dự đoán\")\n",
    "plt.ylabel(\"Thực tế\")\n",
    "plt.show()"
   ]
  }
 ],
 "metadata": {
  "kernelspec": {
   "display_name": "myenv",
   "language": "python",
   "name": "python3"
  },
  "language_info": {
   "codemirror_mode": {
    "name": "ipython",
    "version": 3
   },
   "file_extension": ".py",
   "mimetype": "text/x-python",
   "name": "python",
   "nbconvert_exporter": "python",
   "pygments_lexer": "ipython3",
   "version": "3.12.7"
  }
 },
 "nbformat": 4,
 "nbformat_minor": 5
}
