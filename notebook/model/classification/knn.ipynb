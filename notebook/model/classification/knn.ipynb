{
 "cells": [
  {
   "cell_type": "markdown",
   "id": "9c69c685",
   "metadata": {},
   "source": [
    "# **Mô hình KNN**"
   ]
  },
  {
   "cell_type": "markdown",
   "id": "544f0027",
   "metadata": {},
   "source": [
    "## **Import các thư viện cần thiết**"
   ]
  },
  {
   "cell_type": "code",
   "id": "f45c7902",
   "metadata": {
    "ExecuteTime": {
     "end_time": "2025-05-30T10:57:46.781966Z",
     "start_time": "2025-05-30T10:57:46.778439Z"
    }
   },
   "source": [
    "import numpy as np\n",
    "import pandas as pd\n",
    "from collections import Counter\n",
    "from sklearn.preprocessing import StandardScaler\n",
    "from sklearn.decomposition import PCA\n",
    "from sklearn.discriminant_analysis import LinearDiscriminantAnalysis as LDA\n",
    "from sklearn.model_selection import train_test_split\n",
    "from sklearn.metrics import accuracy_score, classification_report, confusion_matrix, f1_score\n",
    "import matplotlib.pyplot as plt\n",
    "import seaborn as sns\n",
    "from fractions import Fraction"
   ],
   "outputs": [],
   "execution_count": 113
  },
  {
   "cell_type": "markdown",
   "id": "6070c53a",
   "metadata": {},
   "source": [
    "## **Dữ liệu**"
   ]
  },
  {
   "cell_type": "code",
   "id": "42f10a92",
   "metadata": {
    "ExecuteTime": {
     "end_time": "2025-05-30T10:57:46.842108Z",
     "start_time": "2025-05-30T10:57:46.822863Z"
    }
   },
   "source": [
    "df = pd.read_csv(\"../../../data/data_processed/data_processed.csv\")\n",
    "df.head()"
   ],
   "outputs": [
    {
     "data": {
      "text/plain": [
       "      LB   AC   FM   UC   DL   DS   DP  ASTV  MSTV  ALTV  ...   Min    Max  \\\n",
       "0  120.0  0.0  0.0  0.0  0.0  0.0  0.0  73.0   0.5  43.0  ...  62.0  126.0   \n",
       "1  132.0  4.0  0.0  4.0  2.0  0.0  0.0  17.0   2.1   0.0  ...  68.0  198.0   \n",
       "2  133.0  2.0  0.0  5.0  2.0  0.0  0.0  16.0   2.1   0.0  ...  68.0  198.0   \n",
       "3  134.0  2.0  0.0  6.0  2.0  0.0  0.0  16.0   2.4   0.0  ...  53.0  170.0   \n",
       "4  132.0  4.0  0.0  5.0  0.0  0.0  0.0  16.0   2.4   0.0  ...  53.0  170.0   \n",
       "\n",
       "   Nmax  Nzeros   Mode   Mean  Median  Variance  Tendency  NSP  \n",
       "0   2.0     0.0  120.0  137.0   121.0      73.0       1.0  2.0  \n",
       "1   6.0     1.0  141.0  136.0   140.0      12.0       0.0  1.0  \n",
       "2   5.0     1.0  141.0  135.0   138.0      13.0       0.0  1.0  \n",
       "3  11.0     0.0  137.0  134.0   137.0      13.0       1.0  1.0  \n",
       "4   9.0     0.0  137.0  136.0   138.0      11.0       1.0  1.0  \n",
       "\n",
       "[5 rows x 22 columns]"
      ],
      "text/html": [
       "<div>\n",
       "<style scoped>\n",
       "    .dataframe tbody tr th:only-of-type {\n",
       "        vertical-align: middle;\n",
       "    }\n",
       "\n",
       "    .dataframe tbody tr th {\n",
       "        vertical-align: top;\n",
       "    }\n",
       "\n",
       "    .dataframe thead th {\n",
       "        text-align: right;\n",
       "    }\n",
       "</style>\n",
       "<table border=\"1\" class=\"dataframe\">\n",
       "  <thead>\n",
       "    <tr style=\"text-align: right;\">\n",
       "      <th></th>\n",
       "      <th>LB</th>\n",
       "      <th>AC</th>\n",
       "      <th>FM</th>\n",
       "      <th>UC</th>\n",
       "      <th>DL</th>\n",
       "      <th>DS</th>\n",
       "      <th>DP</th>\n",
       "      <th>ASTV</th>\n",
       "      <th>MSTV</th>\n",
       "      <th>ALTV</th>\n",
       "      <th>...</th>\n",
       "      <th>Min</th>\n",
       "      <th>Max</th>\n",
       "      <th>Nmax</th>\n",
       "      <th>Nzeros</th>\n",
       "      <th>Mode</th>\n",
       "      <th>Mean</th>\n",
       "      <th>Median</th>\n",
       "      <th>Variance</th>\n",
       "      <th>Tendency</th>\n",
       "      <th>NSP</th>\n",
       "    </tr>\n",
       "  </thead>\n",
       "  <tbody>\n",
       "    <tr>\n",
       "      <th>0</th>\n",
       "      <td>120.0</td>\n",
       "      <td>0.0</td>\n",
       "      <td>0.0</td>\n",
       "      <td>0.0</td>\n",
       "      <td>0.0</td>\n",
       "      <td>0.0</td>\n",
       "      <td>0.0</td>\n",
       "      <td>73.0</td>\n",
       "      <td>0.5</td>\n",
       "      <td>43.0</td>\n",
       "      <td>...</td>\n",
       "      <td>62.0</td>\n",
       "      <td>126.0</td>\n",
       "      <td>2.0</td>\n",
       "      <td>0.0</td>\n",
       "      <td>120.0</td>\n",
       "      <td>137.0</td>\n",
       "      <td>121.0</td>\n",
       "      <td>73.0</td>\n",
       "      <td>1.0</td>\n",
       "      <td>2.0</td>\n",
       "    </tr>\n",
       "    <tr>\n",
       "      <th>1</th>\n",
       "      <td>132.0</td>\n",
       "      <td>4.0</td>\n",
       "      <td>0.0</td>\n",
       "      <td>4.0</td>\n",
       "      <td>2.0</td>\n",
       "      <td>0.0</td>\n",
       "      <td>0.0</td>\n",
       "      <td>17.0</td>\n",
       "      <td>2.1</td>\n",
       "      <td>0.0</td>\n",
       "      <td>...</td>\n",
       "      <td>68.0</td>\n",
       "      <td>198.0</td>\n",
       "      <td>6.0</td>\n",
       "      <td>1.0</td>\n",
       "      <td>141.0</td>\n",
       "      <td>136.0</td>\n",
       "      <td>140.0</td>\n",
       "      <td>12.0</td>\n",
       "      <td>0.0</td>\n",
       "      <td>1.0</td>\n",
       "    </tr>\n",
       "    <tr>\n",
       "      <th>2</th>\n",
       "      <td>133.0</td>\n",
       "      <td>2.0</td>\n",
       "      <td>0.0</td>\n",
       "      <td>5.0</td>\n",
       "      <td>2.0</td>\n",
       "      <td>0.0</td>\n",
       "      <td>0.0</td>\n",
       "      <td>16.0</td>\n",
       "      <td>2.1</td>\n",
       "      <td>0.0</td>\n",
       "      <td>...</td>\n",
       "      <td>68.0</td>\n",
       "      <td>198.0</td>\n",
       "      <td>5.0</td>\n",
       "      <td>1.0</td>\n",
       "      <td>141.0</td>\n",
       "      <td>135.0</td>\n",
       "      <td>138.0</td>\n",
       "      <td>13.0</td>\n",
       "      <td>0.0</td>\n",
       "      <td>1.0</td>\n",
       "    </tr>\n",
       "    <tr>\n",
       "      <th>3</th>\n",
       "      <td>134.0</td>\n",
       "      <td>2.0</td>\n",
       "      <td>0.0</td>\n",
       "      <td>6.0</td>\n",
       "      <td>2.0</td>\n",
       "      <td>0.0</td>\n",
       "      <td>0.0</td>\n",
       "      <td>16.0</td>\n",
       "      <td>2.4</td>\n",
       "      <td>0.0</td>\n",
       "      <td>...</td>\n",
       "      <td>53.0</td>\n",
       "      <td>170.0</td>\n",
       "      <td>11.0</td>\n",
       "      <td>0.0</td>\n",
       "      <td>137.0</td>\n",
       "      <td>134.0</td>\n",
       "      <td>137.0</td>\n",
       "      <td>13.0</td>\n",
       "      <td>1.0</td>\n",
       "      <td>1.0</td>\n",
       "    </tr>\n",
       "    <tr>\n",
       "      <th>4</th>\n",
       "      <td>132.0</td>\n",
       "      <td>4.0</td>\n",
       "      <td>0.0</td>\n",
       "      <td>5.0</td>\n",
       "      <td>0.0</td>\n",
       "      <td>0.0</td>\n",
       "      <td>0.0</td>\n",
       "      <td>16.0</td>\n",
       "      <td>2.4</td>\n",
       "      <td>0.0</td>\n",
       "      <td>...</td>\n",
       "      <td>53.0</td>\n",
       "      <td>170.0</td>\n",
       "      <td>9.0</td>\n",
       "      <td>0.0</td>\n",
       "      <td>137.0</td>\n",
       "      <td>136.0</td>\n",
       "      <td>138.0</td>\n",
       "      <td>11.0</td>\n",
       "      <td>1.0</td>\n",
       "      <td>1.0</td>\n",
       "    </tr>\n",
       "  </tbody>\n",
       "</table>\n",
       "<p>5 rows × 22 columns</p>\n",
       "</div>"
      ]
     },
     "execution_count": 114,
     "metadata": {},
     "output_type": "execute_result"
    }
   ],
   "execution_count": 114
  },
  {
   "cell_type": "markdown",
   "id": "1f975abf",
   "metadata": {},
   "source": [
    "## **Xây dựng mô hình KNN**"
   ]
  },
  {
   "cell_type": "code",
   "id": "d598e933",
   "metadata": {
    "ExecuteTime": {
     "end_time": "2025-05-30T10:57:46.912137Z",
     "start_time": "2025-05-30T10:57:46.907709Z"
    }
   },
   "source": [
    "# Các đặc trưng và nhãn\n",
    "X = df.drop(columns=['NSP']).values \n",
    "y = df['NSP'].values  "
   ],
   "outputs": [],
   "execution_count": 115
  },
  {
   "cell_type": "code",
   "id": "a5b0f912",
   "metadata": {
    "ExecuteTime": {
     "end_time": "2025-05-30T10:57:46.978793Z",
     "start_time": "2025-05-30T10:57:46.974993Z"
    }
   },
   "source": [
    "# Hàm tính khoảng cách Euclidean \n",
    "def distance(array, value):\n",
    "    return np.linalg.norm(array - value, axis=1)\n",
    "\n",
    "# Hàm tìm K hàng xóm gần nhất (trả về chỉ số)\n",
    "def find_nearest_index(X_train, x_val, K):\n",
    "    distances = distance(X_train, x_val)\n",
    "    return np.argsort(distances)[:K]\n",
    "\n",
    "# Trả về nhãn phổ biến nhất trong list\n",
    "def highest_rank(arr):\n",
    "    count_num = {}\n",
    "    for i in arr:\n",
    "        count_num[i] = arr.count(i)\n",
    "    return max(count_num, key=count_num.get)\n",
    "\n",
    "# Mô hình KNN \n",
    "def knn(X_train, y_train, X_test, K):\n",
    "    y_pred = np.zeros(len(X_test), dtype=int)\n",
    "\n",
    "    for j in range(len(X_test)):\n",
    "        indexes = find_nearest_index(X_train, X_test[j], K)\n",
    "        y_nearest = [y_train[i] for i in indexes]\n",
    "        y_pred[j] = highest_rank(y_nearest)\n",
    "\n",
    "    return y_pred"
   ],
   "outputs": [],
   "execution_count": 116
  },
  {
   "cell_type": "markdown",
   "id": "dac60b69",
   "metadata": {},
   "source": [
    "## **Triển khai KNN với nhiều tỷ lệ train/validation: 4:1; 7:3; 6:4**"
   ]
  },
  {
   "cell_type": "markdown",
   "id": "3693915f",
   "metadata": {},
   "source": [
    "### **Thực hiện với dữ liệu gốc**"
   ]
  },
  {
   "cell_type": "code",
   "id": "152589b9",
   "metadata": {
    "ExecuteTime": {
     "end_time": "2025-05-30T10:57:47.588256Z",
     "start_time": "2025-05-30T10:57:47.042655Z"
    }
   },
   "source": [
    "test_sizes = [0.2, 0.3, 0.4]  \n",
    "k_values = [3, 5, 7]  \n",
    "\n",
    "results = []\n",
    "\n",
    "for test_size in test_sizes:\n",
    "    X_train, X_test, y_train, y_test = train_test_split(X, y, test_size=test_size, stratify=y, random_state=42)\n",
    "    \n",
    "    for k in k_values:\n",
    "        y_pred = knn(X_train, y_train, X_test, k)\n",
    "        acc = accuracy_score(y_test, y_pred)\n",
    "        f1 = f1_score(y_test, y_pred, average='macro', zero_division=0)\n",
    "        results.append({\n",
    "            'Tỷ lệ Train/Test': f\"{1-test_size:.1f}:{test_size:.1f}\",\n",
    "            'k': k,\n",
    "            'Accuracy': acc,\n",
    "            'F1-Score': f1\n",
    "        })\n",
    "\n",
    "# Chuyển kết quả thành DataFrame\n",
    "results_df = pd.DataFrame(results)\n",
    "print(\"Dữ liệu gốc:\")\n",
    "print(results_df.pivot_table(index='k', columns='Tỷ lệ Train/Test', values=['Accuracy', 'F1-Score']))"
   ],
   "outputs": [
    {
     "name": "stdout",
     "output_type": "stream",
     "text": [
      "Dữ liệu gốc:\n",
      "                  Accuracy                      F1-Score                    \n",
      "Tỷ lệ Train/Test   0.6:0.4   0.7:0.3   0.8:0.2   0.6:0.4   0.7:0.3   0.8:0.2\n",
      "k                                                                           \n",
      "3                 0.898942  0.904389  0.903756  0.803442  0.813737  0.802382\n",
      "5                 0.893067  0.899687  0.903756  0.794868  0.804600  0.803953\n",
      "7                 0.886016  0.882445  0.884977  0.780383  0.769176  0.761845\n"
     ]
    }
   ],
   "execution_count": 117
  },
  {
   "cell_type": "code",
   "id": "f03b77a8",
   "metadata": {
    "ExecuteTime": {
     "end_time": "2025-05-30T10:57:47.815913Z",
     "start_time": "2025-05-30T10:57:47.625899Z"
    }
   },
   "source": [
    "#k=3\n",
    "ratios = {\n",
    "    0.2: \"4:1\",\n",
    "    0.3: \"7:3\",\n",
    "    0.4: \"6:4\"\n",
    "}\n",
    "\n",
    "\n",
    "test_sizes = [0.2, 0.3, 0.4]  # Tương ứng 4:1, 7:3, 6:4\n",
    "\n",
    "for test_size in test_sizes:\n",
    "    X_train, X_test, y_train, y_test = train_test_split(\n",
    "        X, y, test_size=test_size, stratify=y, random_state=42\n",
    "    )\n",
    "    \n",
    "    y_pred = knn(X_train, y_train, X_test, 3)\n",
    "\n",
    "    print(\"Mô hình KNN (k=3) với dữ liệu gốc:\")\n",
    "    print(f\"Tỷ lệ {ratios[test_size]}\")\n",
    "    cr = classification_report(y_test, y_pred, zero_division=0)\n",
    "    print(f\"{cr}\\n\")\n",
    "  "
   ],
   "outputs": [
    {
     "name": "stdout",
     "output_type": "stream",
     "text": [
      "Mô hình KNN (k=3) với dữ liệu gốc:\n",
      "Tỷ lệ 4:1\n",
      "              precision    recall  f1-score   support\n",
      "\n",
      "         1.0       0.93      0.98      0.95       332\n",
      "         2.0       0.73      0.59      0.65        59\n",
      "         3.0       0.87      0.74      0.80        35\n",
      "\n",
      "    accuracy                           0.90       426\n",
      "   macro avg       0.84      0.77      0.80       426\n",
      "weighted avg       0.90      0.90      0.90       426\n",
      "\n",
      "\n",
      "Mô hình KNN (k=3) với dữ liệu gốc:\n",
      "Tỷ lệ 7:3\n",
      "              precision    recall  f1-score   support\n",
      "\n",
      "         1.0       0.94      0.97      0.95       497\n",
      "         2.0       0.72      0.65      0.68        88\n",
      "         3.0       0.87      0.75      0.81        53\n",
      "\n",
      "    accuracy                           0.90       638\n",
      "   macro avg       0.84      0.79      0.81       638\n",
      "weighted avg       0.90      0.90      0.90       638\n",
      "\n",
      "\n",
      "Mô hình KNN (k=3) với dữ liệu gốc:\n",
      "Tỷ lệ 6:4\n",
      "              precision    recall  f1-score   support\n",
      "\n",
      "         1.0       0.93      0.97      0.95       663\n",
      "         2.0       0.72      0.61      0.66       118\n",
      "         3.0       0.85      0.76      0.80        70\n",
      "\n",
      "    accuracy                           0.90       851\n",
      "   macro avg       0.83      0.78      0.80       851\n",
      "weighted avg       0.89      0.90      0.90       851\n",
      "\n",
      "\n"
     ]
    }
   ],
   "execution_count": 118
  },
  {
   "cell_type": "code",
   "id": "473706fb",
   "metadata": {
    "ExecuteTime": {
     "end_time": "2025-05-30T10:57:47.924303Z",
     "start_time": "2025-05-30T10:57:47.856352Z"
    }
   },
   "source": [
    "#k=3\n",
    "ratios = {\n",
    "    0.3: \"7:3\",\n",
    "}\n",
    "\n",
    "\n",
    "test_sizes = [0.3]  \n",
    "\n",
    "for test_size in test_sizes:\n",
    "    X_train, X_test, y_train, y_test = train_test_split(\n",
    "        X, y, test_size=test_size, stratify=y, random_state=42\n",
    "    )\n",
    "    \n",
    "    y_pred = knn(X_train, y_train, X_test, 3)\n",
    "\n",
    "    print(\"Mô hình KNN (k=3) với dữ liệu gốc:\")\n",
    "    print(f\"Tỷ lệ {ratios[test_size]}\")\n",
    "    cr = classification_report(y_test, y_pred, zero_division=0)\n",
    "    print(f\"{cr}\\n\")\n",
    "  "
   ],
   "outputs": [
    {
     "name": "stdout",
     "output_type": "stream",
     "text": [
      "Mô hình KNN (k=3) với dữ liệu gốc:\n",
      "Tỷ lệ 7:3\n",
      "              precision    recall  f1-score   support\n",
      "\n",
      "         1.0       0.94      0.97      0.95       497\n",
      "         2.0       0.72      0.65      0.68        88\n",
      "         3.0       0.87      0.75      0.81        53\n",
      "\n",
      "    accuracy                           0.90       638\n",
      "   macro avg       0.84      0.79      0.81       638\n",
      "weighted avg       0.90      0.90      0.90       638\n",
      "\n",
      "\n"
     ]
    }
   ],
   "execution_count": 119
  },
  {
   "cell_type": "code",
   "id": "328af78c",
   "metadata": {
    "ExecuteTime": {
     "end_time": "2025-05-30T10:57:47.965187Z",
     "start_time": "2025-05-30T10:57:47.961740Z"
    }
   },
   "source": [
    "# Tìm ra mô hình tốt nhất (có độ chính xác cao nhất)\n",
    "best_model = results_df.loc[results_df['F1-Score'].idxmax()]\n",
    "\n",
    "# Thông tin mô hình tốt nhất\n",
    "best_k = best_model['k']\n",
    "best_test_size = best_model['Tỷ lệ Train/Test']\n",
    "print(f'Mô hình tốt nhất (dữ liệu gốc): k={best_k}, Tỷ lệ Train/Test={best_test_size}')\n",
    "print(f\"\\nF1-Score (dữ liệu gốc): = {best_model['F1-Score']}\")\n"
   ],
   "outputs": [
    {
     "name": "stdout",
     "output_type": "stream",
     "text": [
      "Mô hình tốt nhất (dữ liệu gốc): k=3, Tỷ lệ Train/Test=0.7:0.3\n",
      "\n",
      "F1-Score (dữ liệu gốc): = 0.813736862708227\n"
     ]
    }
   ],
   "execution_count": 120
  },
  {
   "cell_type": "code",
   "id": "ac8f5c9c",
   "metadata": {
    "ExecuteTime": {
     "end_time": "2025-05-30T10:57:48.099827Z",
     "start_time": "2025-05-30T10:57:48.031413Z"
    }
   },
   "source": [
    "# Tìm ra mô hình tốt nhất (có độ chính xác cao nhất)\n",
    "best_model = results_df.loc[results_df['Accuracy'].idxmax()]\n",
    "\n",
    "# Thông tin mô hình tốt nhất\n",
    "best_k = best_model['k']\n",
    "best_test_size = best_model['Tỷ lệ Train/Test']\n",
    "print(f'Mô hình tốt nhất (dữ liệu gốc): k={best_k}, Tỷ lệ Train/Test={best_test_size}')\n",
    "print(f\"\\nAccuracy (dữ liệu gốc): = {best_model['Accuracy']}\")\n",
    "\n",
    "# Tìm lại dữ liệu tập huấn luyện và kiểm tra cho mô hình tốt nhất\n",
    "test_size_dict = {'0.6:0.4': 0.4, '0.7:0.3': 0.3, '0.8:0.2': 0.2}\n",
    "test_size = test_size_dict[best_test_size]\n",
    "\n",
    "X_train_best, X_test_best, y_train_best, y_test_best = train_test_split(X, y, test_size=test_size, random_state=42)\n",
    "\n",
    "# Huấn luyện và dự đoán với k tốt nhất\n",
    "y_pred_best = knn(X_train_best, y_train_best, X_test_best, best_k)\n",
    "\n",
    "print(\"\\nClassification Report (dữ liệu gốc):\")\n",
    "print(classification_report(y_test_best, y_pred_best))"
   ],
   "outputs": [
    {
     "name": "stdout",
     "output_type": "stream",
     "text": [
      "Mô hình tốt nhất (dữ liệu gốc): k=3, Tỷ lệ Train/Test=0.7:0.3\n",
      "\n",
      "Accuracy (dữ liệu gốc): = 0.9043887147335423\n",
      "\n",
      "Classification Report (dữ liệu gốc):\n",
      "              precision    recall  f1-score   support\n",
      "\n",
      "         1.0       0.93      0.95      0.94       496\n",
      "         2.0       0.72      0.62      0.67       101\n",
      "         3.0       0.78      0.78      0.78        41\n",
      "\n",
      "    accuracy                           0.89       638\n",
      "   macro avg       0.81      0.79      0.80       638\n",
      "weighted avg       0.88      0.89      0.89       638\n",
      "\n"
     ]
    }
   ],
   "execution_count": 121
  },
  {
   "cell_type": "code",
   "id": "ee969bc8",
   "metadata": {
    "ExecuteTime": {
     "end_time": "2025-05-30T10:57:48.143671Z",
     "start_time": "2025-05-30T10:57:48.140331Z"
    }
   },
   "source": [
    "print(\"Confusion matrix:\")\n",
    "print(confusion_matrix(y_test_best, y_pred_best))"
   ],
   "outputs": [
    {
     "name": "stdout",
     "output_type": "stream",
     "text": [
      "Confusion matrix:\n",
      "[[472  20   4]\n",
      " [ 33  63   5]\n",
      " [  5   4  32]]\n"
     ]
    }
   ],
   "execution_count": 122
  },
  {
   "cell_type": "markdown",
   "id": "795631ce",
   "metadata": {},
   "source": [
    "### **Giảm trước chia sau** (Tiềm ẩn Data leakage)"
   ]
  },
  {
   "cell_type": "code",
   "id": "5b72647b",
   "metadata": {
    "ExecuteTime": {
     "end_time": "2025-05-30T10:57:48.203410Z",
     "start_time": "2025-05-30T10:57:48.200068Z"
    }
   },
   "source": [
    "# Chuẩn hóa dữ liệu\n",
    "scaler = StandardScaler()\n",
    "X = scaler.fit_transform(X)"
   ],
   "outputs": [],
   "execution_count": 123
  },
  {
   "cell_type": "markdown",
   "id": "a3d882c1",
   "metadata": {},
   "source": [
    "#### **Thực hiện với dữ liệu đã giảm chiều bằng PCA**"
   ]
  },
  {
   "cell_type": "code",
   "id": "d6da2b6f",
   "metadata": {
    "ExecuteTime": {
     "end_time": "2025-05-30T10:57:48.688538Z",
     "start_time": "2025-05-30T10:57:48.250486Z"
    }
   },
   "source": [
    "pca = PCA(n_components=12)\n",
    "X_pca = pca.fit_transform(X)\n",
    "\n",
    "test_sizes = [0.2, 0.3, 0.4]  \n",
    "k_values = [3, 5, 7]  \n",
    "\n",
    "results_pca = []\n",
    "\n",
    "for test_size in test_sizes:\n",
    "    X_train, X_test, y_train, y_test = train_test_split(X_pca, y, test_size=test_size, stratify=y, random_state=42)\n",
    "    \n",
    "    for k in k_values:\n",
    "        y_pred = knn(X_train, y_train, X_test, k)\n",
    "        acc = accuracy_score(y_test, y_pred)\n",
    "        f1 = f1_score(y_test, y_pred, average='macro', zero_division=0)\n",
    "        results_pca.append({\n",
    "            'Tỷ lệ Train/Test': f\"{1-test_size:.1f}:{test_size:.1f}\",\n",
    "            'k': k,\n",
    "            'Accuracy': acc,\n",
    "            'F1-Score': f1\n",
    "        })\n",
    "        \n",
    "# Chuyển kết quả thành DataFrame\n",
    "results_df_pca = pd.DataFrame(results_pca)\n",
    "print(results_df_pca.pivot(index='k', columns='Tỷ lệ Train/Test', values=['Accuracy', 'F1-Score']))"
   ],
   "outputs": [
    {
     "name": "stdout",
     "output_type": "stream",
     "text": [
      "                  Accuracy                      F1-Score                    \n",
      "Tỷ lệ Train/Test   0.6:0.4   0.7:0.3   0.8:0.2   0.6:0.4   0.7:0.3   0.8:0.2\n",
      "k                                                                           \n",
      "3                 0.896592  0.894984  0.884977  0.790524  0.788278  0.768491\n",
      "5                 0.883666  0.877743  0.880282  0.759211  0.743628  0.745807\n",
      "7                 0.889542  0.884013  0.877934  0.771769  0.762333  0.750000\n"
     ]
    }
   ],
   "execution_count": 124
  },
  {
   "cell_type": "code",
   "id": "c225883b",
   "metadata": {
    "ExecuteTime": {
     "end_time": "2025-05-30T10:57:48.886106Z",
     "start_time": "2025-05-30T10:57:48.726912Z"
    }
   },
   "source": [
    "ratios = {\n",
    "    0.2: \"4:1\",\n",
    "    0.3: \"7:3\",\n",
    "    0.4: \"6:4\"\n",
    "}\n",
    "\n",
    "test_sizes = [0.2, 0.3, 0.4]  # Tương ứng 4:1, 7:3, 6:4\n",
    "\n",
    "for test_size in test_sizes:\n",
    "    X_train_pca, X_test_pca, y_train_pca, y_test_pca = train_test_split(X_pca, y, stratify=y, test_size=test_size, random_state=42)\n",
    "    y_pred_pca = knn(X_train_pca, y_train_pca, X_test_pca, 3)\n",
    "    \n",
    "    print(\"Mô hình KNN (k=3) với dữ liệu PCA:\")\n",
    "    print(f\"Tỷ lệ {ratios[test_size]}\")\n",
    "    print(classification_report(y_test_pca, y_pred_pca, zero_division=0))\n",
    "    print() \n"
   ],
   "outputs": [
    {
     "name": "stdout",
     "output_type": "stream",
     "text": [
      "Mô hình KNN (k=3) với dữ liệu PCA:\n",
      "Tỷ lệ 4:1\n",
      "              precision    recall  f1-score   support\n",
      "\n",
      "         1.0       0.92      0.96      0.94       332\n",
      "         2.0       0.66      0.56      0.61        59\n",
      "         3.0       0.81      0.71      0.76        35\n",
      "\n",
      "    accuracy                           0.88       426\n",
      "   macro avg       0.80      0.74      0.77       426\n",
      "weighted avg       0.88      0.88      0.88       426\n",
      "\n",
      "\n",
      "Mô hình KNN (k=3) với dữ liệu PCA:\n",
      "Tỷ lệ 7:3\n",
      "              precision    recall  f1-score   support\n",
      "\n",
      "         1.0       0.93      0.97      0.95       497\n",
      "         2.0       0.68      0.61      0.64        88\n",
      "         3.0       0.90      0.68      0.77        53\n",
      "\n",
      "    accuracy                           0.89       638\n",
      "   macro avg       0.83      0.75      0.79       638\n",
      "weighted avg       0.89      0.89      0.89       638\n",
      "\n",
      "\n",
      "Mô hình KNN (k=3) với dữ liệu PCA:\n",
      "Tỷ lệ 6:4\n",
      "              precision    recall  f1-score   support\n",
      "\n",
      "         1.0       0.93      0.97      0.95       663\n",
      "         2.0       0.70      0.57      0.63       118\n",
      "         3.0       0.88      0.73      0.80        70\n",
      "\n",
      "    accuracy                           0.90       851\n",
      "   macro avg       0.83      0.76      0.79       851\n",
      "weighted avg       0.89      0.90      0.89       851\n",
      "\n",
      "\n"
     ]
    }
   ],
   "execution_count": 125
  },
  {
   "cell_type": "code",
   "id": "110401dd",
   "metadata": {
    "ExecuteTime": {
     "end_time": "2025-05-30T10:57:49.000413Z",
     "start_time": "2025-05-30T10:57:48.922563Z"
    }
   },
   "source": [
    "# Tìm ra mô hình tốt nhất \n",
    "best_model = results_df_pca.loc[results_df_pca['Accuracy'].idxmax()]\n",
    "\n",
    "# Thông tin mô hình tốt nhất\n",
    "best_k = best_model['k']\n",
    "best_test_size = best_model['Tỷ lệ Train/Test']\n",
    "print(f'Mô hình tốt nhất (dữ liệu giảm chiều bằng PCA): k={best_k}, Tỷ lệ Train/Test={best_test_size}')\n",
    "print(f\"\\nAccuracy (dữ liệu giảm chiều bằng PCA): = {best_model['Accuracy']}\")\n",
    "\n",
    "# Tìm lại dữ liệu tập huấn luyện và kiểm tra cho mô hình tốt nhất\n",
    "test_size_dict = {'0.6:0.4': 0.4, '0.7:0.3': 0.3, '0.8:0.2': 0.2}\n",
    "test_size = test_size_dict[best_test_size]\n",
    "\n",
    "X_train_pca, X_test_pca, y_train_pca, y_test_pca = train_test_split(X_pca, y, test_size=test_size, stratify=y, random_state=42)\n",
    "\n",
    "# Huấn luyện và dự đoán với k tốt nhất\n",
    "y_pred_pca = knn(X_train_pca, y_train_pca, X_test_pca, best_k)\n",
    "\n",
    "print(\"\\nClassification Report (PCA):\")\n",
    "print(classification_report(y_test_pca, y_pred_pca))"
   ],
   "outputs": [
    {
     "name": "stdout",
     "output_type": "stream",
     "text": [
      "Mô hình tốt nhất (dữ liệu giảm chiều bằng PCA): k=3, Tỷ lệ Train/Test=0.6:0.4\n",
      "\n",
      "Accuracy (dữ liệu giảm chiều bằng PCA): = 0.8965922444183314\n",
      "\n",
      "Classification Report (PCA):\n",
      "              precision    recall  f1-score   support\n",
      "\n",
      "         1.0       0.93      0.97      0.95       663\n",
      "         2.0       0.70      0.57      0.63       118\n",
      "         3.0       0.88      0.73      0.80        70\n",
      "\n",
      "    accuracy                           0.90       851\n",
      "   macro avg       0.83      0.76      0.79       851\n",
      "weighted avg       0.89      0.90      0.89       851\n",
      "\n"
     ]
    }
   ],
   "execution_count": 126
  },
  {
   "cell_type": "code",
   "id": "dbaf8c3d",
   "metadata": {
    "ExecuteTime": {
     "end_time": "2025-05-30T10:57:49.049391Z",
     "start_time": "2025-05-30T10:57:49.044789Z"
    }
   },
   "source": [
    "print(\"Confusion matrix (PCA):\")\n",
    "print(confusion_matrix(y_test_pca, y_pred_pca))"
   ],
   "outputs": [
    {
     "name": "stdout",
     "output_type": "stream",
     "text": [
      "Confusion matrix (PCA):\n",
      "[[645  17   1]\n",
      " [ 45  67   6]\n",
      " [  7  12  51]]\n"
     ]
    }
   ],
   "execution_count": 127
  },
  {
   "cell_type": "code",
   "id": "8e4413f4",
   "metadata": {
    "ExecuteTime": {
     "end_time": "2025-05-30T10:57:49.208268Z",
     "start_time": "2025-05-30T10:57:49.107578Z"
    }
   },
   "source": [
    "conf_matrix_pca = confusion_matrix(y_test_pca, y_pred_pca)\n",
    "plt.figure(figsize=(6, 6))\n",
    "sns.heatmap(conf_matrix_pca, annot=True, fmt=\"d\", cmap=\"Blues\", xticklabels=np.unique(y), yticklabels=np.unique(y))\n",
    "plt.title(\"Confusion Matrix (PCA)\")\n",
    "plt.xlabel(\"Dự đoán\")\n",
    "plt.ylabel(\"Thực tế\")\n",
    "plt.show()"
   ],
   "outputs": [
    {
     "data": {
      "text/plain": [
       "<Figure size 600x600 with 2 Axes>"
      ],
      "image/png": "[encoded data removed]"
     },
     "metadata": {},
     "output_type": "display_data"
    }
   ],
   "execution_count": 128
  },
  {
   "cell_type": "markdown",
   "id": "79d516fd",
   "metadata": {},
   "source": [
    "#### **Thực hiện với dữ liệu đã giảm chiều bằng LDA**"
   ]
  },
  {
   "cell_type": "code",
   "id": "1221ae6b",
   "metadata": {
    "ExecuteTime": {
     "end_time": "2025-05-30T10:57:49.603668Z",
     "start_time": "2025-05-30T10:57:49.246439Z"
    }
   },
   "source": [
    "lda = LDA(n_components=2)  \n",
    "X_lda = lda.fit_transform(X, y)\n",
    "\n",
    "test_sizes = [0.2, 0.3, 0.4]  \n",
    "k_values = [3, 5, 7]  \n",
    "\n",
    "results_lda = []\n",
    "\n",
    "for test_size in test_sizes:\n",
    "    X_train, X_test, y_train, y_test = train_test_split(X_lda, y, test_size=test_size, stratify=y, random_state=42)\n",
    "    \n",
    "    for k in k_values:\n",
    "        y_pred = knn(X_train, y_train, X_test, k)\n",
    "        acc = accuracy_score(y_test, y_pred)\n",
    "        f1 = f1_score(y_test, y_pred, average='macro', zero_division=0)\n",
    "        results_lda.append({\n",
    "            'Tỷ lệ Train/Test': f\"{1-test_size:.1f}:{test_size:.1f}\",\n",
    "            'k': k,\n",
    "            'Accuracy': acc,\n",
    "            'F1-Score': f1\n",
    "        })\n",
    "        \n",
    "# Chuyển kết quả thành DataFrame\n",
    "results_df_lda = pd.DataFrame(results_pca)\n",
    "print(results_df_lda.pivot(index='k', columns='Tỷ lệ Train/Test', values=['Accuracy', 'F1-Score']))\n",
    "\n"
   ],
   "outputs": [
    {
     "name": "stdout",
     "output_type": "stream",
     "text": [
      "                  Accuracy                      F1-Score                    \n",
      "Tỷ lệ Train/Test   0.6:0.4   0.7:0.3   0.8:0.2   0.6:0.4   0.7:0.3   0.8:0.2\n",
      "k                                                                           \n",
      "3                 0.896592  0.894984  0.884977  0.790524  0.788278  0.768491\n",
      "5                 0.883666  0.877743  0.880282  0.759211  0.743628  0.745807\n",
      "7                 0.889542  0.884013  0.877934  0.771769  0.762333  0.750000\n"
     ]
    }
   ],
   "execution_count": 129
  },
  {
   "cell_type": "code",
   "id": "2faeb2fc",
   "metadata": {
    "ExecuteTime": {
     "end_time": "2025-05-30T10:57:49.737887Z",
     "start_time": "2025-05-30T10:57:49.608539Z"
    }
   },
   "source": [
    "ratios = {\n",
    "    0.2: \"4:1\",\n",
    "    0.3: \"7:3\",\n",
    "    0.4: \"6:4\"\n",
    "}\n",
    "\n",
    "test_sizes = [0.2, 0.3, 0.4]  # Tương ứng 4:1, 7:3, 6:4\n",
    "\n",
    "for test_size in test_sizes:\n",
    "    X_train_lda, X_test_lda, y_train_lda, y_test_lda = train_test_split(X_lda, y, test_size=test_size, stratify=y,random_state=42)\n",
    "    y_pred_lda = knn(X_train_lda, y_train_lda, X_test_lda, best_k)\n",
    "\n",
    "    print(\"Mô hình KNN (k=3) với dữ liệu LDA:\")\n",
    "    print(f\"Tỷ lệ {ratios[test_size]}\")\n",
    "    print(classification_report(y_test_lda, y_pred_lda, zero_division=0))\n",
    "    print() \n"
   ],
   "outputs": [
    {
     "name": "stdout",
     "output_type": "stream",
     "text": [
      "Mô hình KNN (k=3) với dữ liệu LDA:\n",
      "Tỷ lệ 4:1\n",
      "              precision    recall  f1-score   support\n",
      "\n",
      "         1.0       0.94      0.96      0.95       332\n",
      "         2.0       0.66      0.63      0.64        59\n",
      "         3.0       0.81      0.71      0.76        35\n",
      "\n",
      "    accuracy                           0.89       426\n",
      "   macro avg       0.80      0.77      0.78       426\n",
      "weighted avg       0.89      0.89      0.89       426\n",
      "\n",
      "\n",
      "Mô hình KNN (k=3) với dữ liệu LDA:\n",
      "Tỷ lệ 7:3\n",
      "              precision    recall  f1-score   support\n",
      "\n",
      "         1.0       0.94      0.94      0.94       497\n",
      "         2.0       0.63      0.69      0.66        88\n",
      "         3.0       0.86      0.72      0.78        53\n",
      "\n",
      "    accuracy                           0.89       638\n",
      "   macro avg       0.81      0.78      0.79       638\n",
      "weighted avg       0.89      0.89      0.89       638\n",
      "\n",
      "\n",
      "Mô hình KNN (k=3) với dữ liệu LDA:\n",
      "Tỷ lệ 6:4\n",
      "              precision    recall  f1-score   support\n",
      "\n",
      "         1.0       0.94      0.94      0.94       663\n",
      "         2.0       0.64      0.67      0.66       118\n",
      "         3.0       0.85      0.73      0.78        70\n",
      "\n",
      "    accuracy                           0.89       851\n",
      "   macro avg       0.81      0.78      0.79       851\n",
      "weighted avg       0.89      0.89      0.89       851\n",
      "\n",
      "\n"
     ]
    }
   ],
   "execution_count": 130
  },
  {
   "cell_type": "code",
   "id": "916f3a84",
   "metadata": {
    "ExecuteTime": {
     "end_time": "2025-05-30T10:57:49.862876Z",
     "start_time": "2025-05-30T10:57:49.808319Z"
    }
   },
   "source": [
    "# Tìm ra mô hình tốt nhất (có độ chính xác cao nhất)\n",
    "best_model = results_df_lda.loc[results_df_lda['Accuracy'].idxmax()]\n",
    "\n",
    "# Thông tin mô hình tốt nhất\n",
    "best_k = best_model['k']\n",
    "best_test_size = best_model['Tỷ lệ Train/Test']\n",
    "print(f'Mô hình tốt nhất (dữ liệu giảm chiều bằng LDA): k={best_k}, Tỷ lệ Train/Test={best_test_size}')\n",
    "print(f\"\\nAccuracy (dữ liệu giảm chiều bằng LDA): = {best_model['Accuracy']}\")\n",
    "\n",
    "# Tìm lại dữ liệu tập huấn luyện và kiểm tra cho mô hình tốt nhất\n",
    "test_size_dict = {'0.6:0.4': 0.4, '0.7:0.3': 0.3, '0.8:0.2': 0.2}\n",
    "test_size = test_size_dict[best_test_size]\n",
    "\n",
    "X_train_lda, X_test_lda, y_train_lda, y_test_lda = train_test_split(X_lda, y, test_size=test_size, random_state=42)\n",
    "\n",
    "# Huấn luyện và dự đoán với k tốt nhất\n",
    "y_pred_lda = knn(X_train_lda, y_train_lda, X_test_lda, best_k)\n",
    "\n",
    "print(\"\\nClassification Report (LDA):\")\n",
    "print(classification_report(y_test_lda, y_pred_lda))"
   ],
   "outputs": [
    {
     "name": "stdout",
     "output_type": "stream",
     "text": [
      "Mô hình tốt nhất (dữ liệu giảm chiều bằng LDA): k=3, Tỷ lệ Train/Test=0.6:0.4\n",
      "\n",
      "Accuracy (dữ liệu giảm chiều bằng LDA): = 0.8965922444183314\n",
      "\n",
      "Classification Report (LDA):\n",
      "              precision    recall  f1-score   support\n",
      "\n",
      "         1.0       0.94      0.92      0.93       673\n",
      "         2.0       0.62      0.66      0.64       120\n",
      "         3.0       0.72      0.81      0.76        58\n",
      "\n",
      "    accuracy                           0.88       851\n",
      "   macro avg       0.76      0.80      0.78       851\n",
      "weighted avg       0.88      0.88      0.88       851\n",
      "\n"
     ]
    }
   ],
   "execution_count": 131
  },
  {
   "cell_type": "code",
   "id": "52a21178",
   "metadata": {
    "ExecuteTime": {
     "end_time": "2025-05-30T10:57:49.910983Z",
     "start_time": "2025-05-30T10:57:49.907068Z"
    }
   },
   "source": [
    "print(\"Confusion matrix (LDA):\")\n",
    "print(confusion_matrix(y_test_lda, y_pred_lda))"
   ],
   "outputs": [
    {
     "name": "stdout",
     "output_type": "stream",
     "text": [
      "Confusion matrix (LDA):\n",
      "[[621  43   9]\n",
      " [ 32  79   9]\n",
      " [  5   6  47]]\n"
     ]
    }
   ],
   "execution_count": 132
  },
  {
   "cell_type": "code",
   "id": "a0922a6d",
   "metadata": {
    "ExecuteTime": {
     "end_time": "2025-05-30T10:57:50.067574Z",
     "start_time": "2025-05-30T10:57:49.966065Z"
    }
   },
   "source": [
    "conf_matrix_lda = confusion_matrix(y_test_lda, y_pred_lda)\n",
    "plt.figure(figsize=(6, 6))\n",
    "sns.heatmap(conf_matrix_lda, annot=True, fmt=\"d\", cmap=\"Blues\", xticklabels=np.unique(y), yticklabels=np.unique(y))\n",
    "plt.title(\"Confusion Matrix (LDA)\")\n",
    "plt.xlabel(\"Dự đoán\")\n",
    "plt.ylabel(\"Thực tế\")\n",
    "plt.show()\n"
   ],
   "outputs": [
    {
     "data": {
      "text/plain": [
       "<Figure size 600x600 with 2 Axes>"
      ],
      "image/png": "[encoded data removed]"
     },
     "metadata": {},
     "output_type": "display_data"
    }
   ],
   "execution_count": 133
  },
  {
   "cell_type": "markdown",
   "id": "5c3948fd",
   "metadata": {},
   "source": [
    "### **Chia trước giảm sau** "
   ]
  },
  {
   "cell_type": "markdown",
   "id": "0be79cb8",
   "metadata": {},
   "source": [
    "#### **Thực hiện với dữ liệu đã giảm chiều bằng PCA**"
   ]
  },
  {
   "cell_type": "code",
   "id": "4fa49378",
   "metadata": {
    "ExecuteTime": {
     "end_time": "2025-05-30T10:57:50.111901Z",
     "start_time": "2025-05-30T10:57:50.108920Z"
    }
   },
   "source": [
    "# Chuẩn hóa dữ liệu\n",
    "scaler = StandardScaler()\n",
    "X = scaler.fit_transform(X)"
   ],
   "outputs": [],
   "execution_count": 134
  },
  {
   "cell_type": "code",
   "id": "cbced68f",
   "metadata": {
    "ExecuteTime": {
     "end_time": "2025-05-30T10:57:50.619468Z",
     "start_time": "2025-05-30T10:57:50.163032Z"
    }
   },
   "source": [
    "test_sizes = [0.2, 0.3, 0.4]  \n",
    "k_values = [3, 5, 7]  \n",
    "n_components = 12\n",
    "results_pca = []\n",
    "\n",
    "for test_size in test_sizes:\n",
    "    X_train, X_test, y_train, y_test = train_test_split(X, y, stratify=y, test_size=test_size, random_state=42)\n",
    "\n",
    "    pca = PCA(n_components=n_components)\n",
    "    X_train_pca = pca.fit_transform(X_train)\n",
    "    X_test_pca = pca.transform(X_test)  \n",
    "\n",
    "    for k in k_values:\n",
    "        y_pred = knn(X_train_pca, y_train, X_test_pca, k)\n",
    "        acc = accuracy_score(y_test, y_pred)\n",
    "        f1 = f1_score(y_test, y_pred, average='macro', zero_division=0)\n",
    "        results_pca.append({\n",
    "            'Tỷ lệ Train/Test': f\"{1-test_size:.1f}:{test_size:.1f}\",\n",
    "            'k': k,\n",
    "            'Accuracy': acc,\n",
    "            'F1-Score': f1\n",
    "        })\n",
    "        \n",
    "# Chuyển kết quả thành DataFrame\n",
    "results_df_pca = pd.DataFrame(results_pca)\n",
    "print(results_df_pca.pivot(index='k', columns='Tỷ lệ Train/Test', values=['Accuracy', 'F1-Score']))"
   ],
   "outputs": [
    {
     "name": "stdout",
     "output_type": "stream",
     "text": [
      "                  Accuracy                      F1-Score                    \n",
      "Tỷ lệ Train/Test   0.6:0.4   0.7:0.3   0.8:0.2   0.6:0.4   0.7:0.3   0.8:0.2\n",
      "k                                                                           \n",
      "3                 0.894242  0.894984  0.882629  0.788805  0.789155  0.766135\n",
      "5                 0.887192  0.879310  0.882629  0.766098  0.745166  0.754169\n",
      "7                 0.888367  0.880878  0.880282  0.772907  0.754998  0.752338\n"
     ]
    }
   ],
   "execution_count": 135
  },
  {
   "cell_type": "code",
   "id": "f93c4cc7",
   "metadata": {
    "ExecuteTime": {
     "end_time": "2025-05-30T10:57:50.843206Z",
     "start_time": "2025-05-30T10:57:50.666582Z"
    }
   },
   "source": [
    "ratios = {\n",
    "    0.2: \"4:1\",\n",
    "    0.3: \"7:3\",\n",
    "    0.4: \"6:4\"\n",
    "}\n",
    "\n",
    "test_sizes = [0.2, 0.3, 0.4]  # Tương ứng 4:1, 7:3, 6:4\n",
    "\n",
    "for test_size in test_sizes:\n",
    "    X_train_pca, X_test_pca, y_train_pca, y_test_pca = train_test_split(X_pca, y, stratify=y, test_size=test_size, random_state=42)\n",
    "    y_pred_pca = knn(X_train_pca, y_train_pca, X_test_pca, 3)\n",
    "    \n",
    "    print(\"Mô hình KNN (k=3) với dữ liệu PCA:\")\n",
    "    print(f\"Tỷ lệ {ratios[test_size]}\")\n",
    "    print(classification_report(y_test_pca, y_pred_pca, zero_division=0))\n",
    "    print() \n"
   ],
   "outputs": [
    {
     "name": "stdout",
     "output_type": "stream",
     "text": [
      "Mô hình KNN (k=3) với dữ liệu PCA:\n",
      "Tỷ lệ 4:1\n",
      "              precision    recall  f1-score   support\n",
      "\n",
      "         1.0       0.92      0.96      0.94       332\n",
      "         2.0       0.66      0.56      0.61        59\n",
      "         3.0       0.81      0.71      0.76        35\n",
      "\n",
      "    accuracy                           0.88       426\n",
      "   macro avg       0.80      0.74      0.77       426\n",
      "weighted avg       0.88      0.88      0.88       426\n",
      "\n",
      "\n",
      "Mô hình KNN (k=3) với dữ liệu PCA:\n",
      "Tỷ lệ 7:3\n",
      "              precision    recall  f1-score   support\n",
      "\n",
      "         1.0       0.93      0.97      0.95       497\n",
      "         2.0       0.68      0.61      0.64        88\n",
      "         3.0       0.90      0.68      0.77        53\n",
      "\n",
      "    accuracy                           0.89       638\n",
      "   macro avg       0.83      0.75      0.79       638\n",
      "weighted avg       0.89      0.89      0.89       638\n",
      "\n",
      "\n",
      "Mô hình KNN (k=3) với dữ liệu PCA:\n",
      "Tỷ lệ 6:4\n",
      "              precision    recall  f1-score   support\n",
      "\n",
      "         1.0       0.93      0.97      0.95       663\n",
      "         2.0       0.70      0.57      0.63       118\n",
      "         3.0       0.88      0.73      0.80        70\n",
      "\n",
      "    accuracy                           0.90       851\n",
      "   macro avg       0.83      0.76      0.79       851\n",
      "weighted avg       0.89      0.90      0.89       851\n",
      "\n",
      "\n"
     ]
    }
   ],
   "execution_count": 136
  },
  {
   "cell_type": "code",
   "id": "bba69a53",
   "metadata": {
    "ExecuteTime": {
     "end_time": "2025-05-30T10:57:50.952045Z",
     "start_time": "2025-05-30T10:57:50.888489Z"
    }
   },
   "source": [
    "# Tìm ra mô hình tốt nhất \n",
    "best_model = results_df_pca.loc[results_df_pca['Accuracy'].idxmax()]\n",
    "\n",
    "# Thông tin mô hình tốt nhất\n",
    "best_k = best_model['k']\n",
    "best_test_size = best_model['Tỷ lệ Train/Test']\n",
    "print(f'Mô hình tốt nhất (dữ liệu giảm chiều bằng PCA): k={best_k}, Tỷ lệ Train/Test={best_test_size}')\n",
    "print(f\"\\nAccuracy (dữ liệu giảm chiều bằng PCA): = {best_model['Accuracy']}\")\n",
    "\n",
    "# Tìm lại dữ liệu tập huấn luyện và kiểm tra cho mô hình tốt nhất\n",
    "test_size_dict = {'0.6:0.4': 0.4, '0.7:0.3': 0.3, '0.8:0.2': 0.2}\n",
    "test_size = test_size_dict[best_test_size]\n",
    "\n",
    "X_train, X_test, y_train_pca, y_test_pca = train_test_split(X, y, test_size=test_size, stratify=y, random_state=42)\n",
    "pca = PCA(n_components=n_components)\n",
    "X_train_pca = pca.fit_transform(X_train)\n",
    "X_test_pca = pca.transform(X_test)  \n",
    "\n",
    "# Huấn luyện và dự đoán với k tốt nhất\n",
    "y_pred_pca = knn(X_train_pca, y_train_pca, X_test_pca, best_k)\n",
    "\n",
    "print(\"\\nClassification Report (PCA):\")\n",
    "print(classification_report(y_test_pca, y_pred_pca)) "
   ],
   "outputs": [
    {
     "name": "stdout",
     "output_type": "stream",
     "text": [
      "Mô hình tốt nhất (dữ liệu giảm chiều bằng PCA): k=3, Tỷ lệ Train/Test=0.7:0.3\n",
      "\n",
      "Accuracy (dữ liệu giảm chiều bằng PCA): = 0.8949843260188087\n",
      "\n",
      "Classification Report (PCA):\n",
      "              precision    recall  f1-score   support\n",
      "\n",
      "         1.0       0.93      0.97      0.95       497\n",
      "         2.0       0.69      0.62      0.65        88\n",
      "         3.0       0.88      0.68      0.77        53\n",
      "\n",
      "    accuracy                           0.89       638\n",
      "   macro avg       0.83      0.76      0.79       638\n",
      "weighted avg       0.89      0.89      0.89       638\n",
      "\n"
     ]
    }
   ],
   "execution_count": 137
  },
  {
   "cell_type": "code",
   "id": "ff1a7ba3",
   "metadata": {
    "ExecuteTime": {
     "end_time": "2025-05-30T10:57:51.001699Z",
     "start_time": "2025-05-30T10:57:50.997794Z"
    }
   },
   "source": [
    "print(\"Confusion matrix (PCA):\")\n",
    "print(confusion_matrix(y_test_pca, y_pred_pca))"
   ],
   "outputs": [
    {
     "name": "stdout",
     "output_type": "stream",
     "text": [
      "Confusion matrix (PCA):\n",
      "[[480  15   2]\n",
      " [ 30  55   3]\n",
      " [  7  10  36]]\n"
     ]
    }
   ],
   "execution_count": 138
  },
  {
   "cell_type": "markdown",
   "id": "14cb7673",
   "metadata": {},
   "source": [
    "#### **Thực hiện với dữ liệu đã giảm chiều bằng LDA**"
   ]
  },
  {
   "cell_type": "code",
   "id": "c888ee95",
   "metadata": {
    "ExecuteTime": {
     "end_time": "2025-05-30T10:57:51.593277Z",
     "start_time": "2025-05-30T10:57:51.052014Z"
    }
   },
   "source": [
    "test_sizes = [0.2, 0.3, 0.4]  \n",
    "k_values = [3, 5, 7]  \n",
    "\n",
    "results_lda = []\n",
    "n_components_lda = 2\n",
    "\n",
    "for test_size in test_sizes:\n",
    "    X_train, X_test, y_train, y_test = train_test_split(X, y, test_size=test_size, stratify=y, random_state=42)\n",
    "\n",
    "    lda = LDA(n_components=n_components_lda)\n",
    "    X_train_lda = lda.fit_transform(X_train, y_train)\n",
    "    X_test_pca = pca.transform(X_test)  \n",
    "    X_test_lda = lda.transform(X_test)\n",
    "\n",
    "    for k in k_values:\n",
    "        y_pred = knn(X_train, y_train, X_test, k)\n",
    "        acc = accuracy_score(y_test, y_pred)\n",
    "        f1 = f1_score(y_test, y_pred, average='macro', zero_division=0)\n",
    "        results_lda.append({\n",
    "            'Tỷ lệ Train/Test': f\"{1-test_size:.1f}:{test_size:.1f}\",\n",
    "            'k': k,\n",
    "            'Accuracy': acc\n",
    "        })\n",
    "        \n",
    "# Chuyển kết quả thành DataFrame\n",
    "results_df_lda = pd.DataFrame(results_pca)\n",
    "print(results_df_lda.pivot(index='k', columns='Tỷ lệ Train/Test', values=['Accuracy', 'F1-Score']))\n",
    "\n"
   ],
   "outputs": [
    {
     "name": "stdout",
     "output_type": "stream",
     "text": [
      "                  Accuracy                      F1-Score                    \n",
      "Tỷ lệ Train/Test   0.6:0.4   0.7:0.3   0.8:0.2   0.6:0.4   0.7:0.3   0.8:0.2\n",
      "k                                                                           \n",
      "3                 0.894242  0.894984  0.882629  0.788805  0.789155  0.766135\n",
      "5                 0.887192  0.879310  0.882629  0.766098  0.745166  0.754169\n",
      "7                 0.888367  0.880878  0.880282  0.772907  0.754998  0.752338\n"
     ]
    }
   ],
   "execution_count": 139
  },
  {
   "cell_type": "code",
   "id": "9eeceb0c",
   "metadata": {
    "ExecuteTime": {
     "end_time": "2025-05-30T10:57:51.758998Z",
     "start_time": "2025-05-30T10:57:51.629550Z"
    }
   },
   "source": [
    "ratios = {\n",
    "    0.2: \"4:1\",\n",
    "    0.3: \"7:3\",\n",
    "    0.4: \"6:4\"\n",
    "}\n",
    "\n",
    "test_sizes = [0.2, 0.3, 0.4]  # Tương ứng 4:1, 7:3, 6:4\n",
    "\n",
    "for test_size in test_sizes:\n",
    "    X_train_lda, X_test_lda, y_train_lda, y_test_lda = train_test_split(X_lda, y, test_size=test_size, stratify=y, random_state=42)\n",
    "    y_pred_lda = knn(X_train_lda, y_train_lda, X_test_lda, best_k)\n",
    "\n",
    "    print(\"Mô hình KNN (k=3) với dữ liệu LDA:\")\n",
    "    print(f\"Tỷ lệ {ratios[test_size]}\")\n",
    "    print(classification_report(y_test_lda, y_pred_lda, zero_division=0))\n",
    "    print() \n"
   ],
   "outputs": [
    {
     "name": "stdout",
     "output_type": "stream",
     "text": [
      "Mô hình KNN (k=3) với dữ liệu LDA:\n",
      "Tỷ lệ 4:1\n",
      "              precision    recall  f1-score   support\n",
      "\n",
      "         1.0       0.94      0.96      0.95       332\n",
      "         2.0       0.66      0.63      0.64        59\n",
      "         3.0       0.81      0.71      0.76        35\n",
      "\n",
      "    accuracy                           0.89       426\n",
      "   macro avg       0.80      0.77      0.78       426\n",
      "weighted avg       0.89      0.89      0.89       426\n",
      "\n",
      "\n",
      "Mô hình KNN (k=3) với dữ liệu LDA:\n",
      "Tỷ lệ 7:3\n",
      "              precision    recall  f1-score   support\n",
      "\n",
      "         1.0       0.94      0.94      0.94       497\n",
      "         2.0       0.63      0.69      0.66        88\n",
      "         3.0       0.86      0.72      0.78        53\n",
      "\n",
      "    accuracy                           0.89       638\n",
      "   macro avg       0.81      0.78      0.79       638\n",
      "weighted avg       0.89      0.89      0.89       638\n",
      "\n",
      "\n",
      "Mô hình KNN (k=3) với dữ liệu LDA:\n",
      "Tỷ lệ 6:4\n",
      "              precision    recall  f1-score   support\n",
      "\n",
      "         1.0       0.94      0.94      0.94       663\n",
      "         2.0       0.64      0.67      0.66       118\n",
      "         3.0       0.85      0.73      0.78        70\n",
      "\n",
      "    accuracy                           0.89       851\n",
      "   macro avg       0.81      0.78      0.79       851\n",
      "weighted avg       0.89      0.89      0.89       851\n",
      "\n",
      "\n"
     ]
    }
   ],
   "execution_count": 140
  },
  {
   "cell_type": "code",
   "id": "c6e6529f",
   "metadata": {
    "ExecuteTime": {
     "end_time": "2025-05-30T10:57:51.845487Z",
     "start_time": "2025-05-30T10:57:51.793558Z"
    }
   },
   "source": [
    "# Tìm ra mô hình tốt nhất (có độ chính xác cao nhất)\n",
    "best_model = results_df_lda.loc[results_df_lda['Accuracy'].idxmax()]\n",
    "\n",
    "# Thông tin mô hình tốt nhất\n",
    "best_k = best_model['k']\n",
    "best_test_size = best_model['Tỷ lệ Train/Test']\n",
    "print(f'Mô hình tốt nhất (dữ liệu giảm chiều bằng LDA): k={best_k}, Tỷ lệ Train/Test={best_test_size}')\n",
    "print(f\"\\nAccuracy (dữ liệu giảm chiều bằng LDA): = {best_model['Accuracy']}\")\n",
    "\n",
    "# Tìm lại dữ liệu tập huấn luyện và kiểm tra cho mô hình tốt nhất\n",
    "test_size_dict = {'0.6:0.4': 0.4, '0.7:0.3': 0.3, '0.8:0.2': 0.2}\n",
    "test_size = test_size_dict[best_test_size]\n",
    "\n",
    "X_train, X_test, y_train_lda, y_test_lda = train_test_split(X, y, test_size=test_size, random_state=42)\n",
    "lda = LDA(n_components=n_components_lda)\n",
    "X_train_lda = lda.fit_transform(X_train, y_train_lda)\n",
    "X_test_pca = pca.transform(X_test)  \n",
    "X_test_lda = lda.transform(X_test)\n",
    "\n",
    "# Huấn luyện và dự đoán với k tốt nhất\n",
    "y_pred_lda = knn(X_train_lda, y_train_lda, X_test_lda, best_k)\n",
    "\n",
    "print(\"\\nClassification Report (LDA):\")\n",
    "print(classification_report(y_test_lda, y_pred_lda))"
   ],
   "outputs": [
    {
     "name": "stdout",
     "output_type": "stream",
     "text": [
      "Mô hình tốt nhất (dữ liệu giảm chiều bằng LDA): k=3, Tỷ lệ Train/Test=0.7:0.3\n",
      "\n",
      "Accuracy (dữ liệu giảm chiều bằng LDA): = 0.8949843260188087\n",
      "\n",
      "Classification Report (LDA):\n",
      "              precision    recall  f1-score   support\n",
      "\n",
      "         1.0       0.93      0.94      0.93       496\n",
      "         2.0       0.67      0.60      0.64       101\n",
      "         3.0       0.70      0.80      0.75        41\n",
      "\n",
      "    accuracy                           0.88       638\n",
      "   macro avg       0.77      0.78      0.77       638\n",
      "weighted avg       0.87      0.88      0.87       638\n",
      "\n"
     ]
    }
   ],
   "execution_count": 141
  },
  {
   "cell_type": "code",
   "id": "500f8c49",
   "metadata": {
    "ExecuteTime": {
     "end_time": "2025-05-30T10:57:51.885920Z",
     "start_time": "2025-05-30T10:57:51.882318Z"
    }
   },
   "source": [
    "print(\"Confusion matrix (LDA):\")\n",
    "print(confusion_matrix(y_test_lda, y_pred_lda))"
   ],
   "outputs": [
    {
     "name": "stdout",
     "output_type": "stream",
     "text": [
      "Confusion matrix (LDA):\n",
      "[[465  27   4]\n",
      " [ 30  61  10]\n",
      " [  5   3  33]]\n"
     ]
    }
   ],
   "execution_count": 142
  },
  {
   "cell_type": "markdown",
   "id": "a3b6931c",
   "metadata": {},
   "source": [
    "## Trực quan hóa và đánh giá tương quan giữa dự đoán – thực tế. "
   ]
  },
  {
   "cell_type": "code",
   "id": "8851506e",
   "metadata": {
    "ExecuteTime": {
     "end_time": "2025-05-30T10:57:52.040380Z",
     "start_time": "2025-05-30T10:57:51.942Z"
    }
   },
   "source": [
    "conf_matrix_best = confusion_matrix(y_test_best, y_pred_best)\n",
    "plt.figure(figsize=(6, 6))\n",
    "sns.heatmap(conf_matrix_best, annot=True, fmt=\"d\", cmap=\"Blues\", xticklabels=np.unique(y), yticklabels=np.unique(y))\n",
    "plt.title(\"Confusion matrix (Dữ liệu gốc)\")\n",
    "plt.xlabel(\"Dự đoán\")\n",
    "plt.ylabel(\"Thực tế\")\n",
    "plt.show()\n"
   ],
   "outputs": [
    {
     "data": {
      "text/plain": [
       "<Figure size 600x600 with 2 Axes>"
      ],
      "image/png": "[encoded data removed]"
     },
     "metadata": {},
     "output_type": "display_data"
    }
   ],
   "execution_count": 143
  },
  {
   "cell_type": "code",
   "id": "eee4cea3",
   "metadata": {
    "ExecuteTime": {
     "end_time": "2025-05-30T10:57:52.189772Z",
     "start_time": "2025-05-30T10:57:52.079216Z"
    }
   },
   "source": [
    "conf_matrix_pca = confusion_matrix(y_test_pca, y_pred_pca)\n",
    "plt.figure(figsize=(6, 6))\n",
    "sns.heatmap(conf_matrix_pca, annot=True, fmt=\"d\", cmap=\"Blues\", xticklabels=np.unique(y), yticklabels=np.unique(y))\n",
    "plt.title(\"Confusion Matrix (PCA)\")\n",
    "plt.xlabel(\"Dự đoán\")\n",
    "plt.ylabel(\"Thực tế\")\n",
    "plt.show()"
   ],
   "outputs": [
    {
     "data": {
      "text/plain": [
       "<Figure size 600x600 with 2 Axes>"
      ],
      "image/png": "[encoded data removed]"
     },
     "metadata": {},
     "output_type": "display_data"
    }
   ],
   "execution_count": 144
  },
  {
   "cell_type": "code",
   "id": "0b3fe744",
   "metadata": {
    "ExecuteTime": {
     "end_time": "2025-05-30T10:57:52.335582Z",
     "start_time": "2025-05-30T10:57:52.229998Z"
    }
   },
   "source": [
    "conf_matrix_lda = confusion_matrix(y_test_lda, y_pred_lda)\n",
    "plt.figure(figsize=(6, 6))\n",
    "sns.heatmap(conf_matrix_lda, annot=True, fmt=\"d\", cmap=\"Blues\", xticklabels=np.unique(y), yticklabels=np.unique(y))\n",
    "plt.title(\"Confusion Matrix (LDA)\")\n",
    "plt.xlabel(\"Dự đoán\")\n",
    "plt.ylabel(\"Thực tế\")\n",
    "plt.show()\n"
   ],
   "outputs": [
    {
     "data": {
      "text/plain": [
       "<Figure size 600x600 with 2 Axes>"
      ],
      "image/png": "[encoded data removed]"
     },
     "metadata": {},
     "output_type": "display_data"
    }
   ],
   "execution_count": 145
  }
 ],
 "metadata": {
  "kernelspec": {
   "display_name": "myenv",
   "language": "python",
   "name": "python3"
  },
  "language_info": {
   "codemirror_mode": {
    "name": "ipython",
    "version": 3
   },
   "file_extension": ".py",
   "mimetype": "text/x-python",
   "name": "python",
   "nbconvert_exporter": "python",
   "pygments_lexer": "ipython3",
   "version": "3.12.7"
  }
 },
 "nbformat": 4,
 "nbformat_minor": 5
}
