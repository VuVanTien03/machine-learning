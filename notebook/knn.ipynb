{
 "cells": [
  {
   "cell_type": "markdown",
   "id": "9c69c685",
   "metadata": {},
   "source": [
    "# **Mô hình KNN**"
   ]
  },
  {
   "cell_type": "markdown",
   "id": "544f0027",
   "metadata": {},
   "source": [
    "## **Import các thư viện cần thiết**"
   ]
  },
  {
   "cell_type": "code",
   "execution_count": 122,
   "id": "f45c7902",
   "metadata": {},
   "outputs": [],
   "source": [
    "import numpy as np\n",
    "import pandas as pd\n",
    "from collections import Counter\n",
    "from sklearn.preprocessing import StandardScaler\n",
    "from sklearn.decomposition import PCA\n",
    "from sklearn.discriminant_analysis import LinearDiscriminantAnalysis as LDA\n",
    "from sklearn.model_selection import train_test_split\n",
    "from sklearn.metrics import accuracy_score, classification_report, confusion_matrix\n",
    "import matplotlib.pyplot as plt\n",
    "import seaborn as sns"
   ]
  },
  {
   "cell_type": "markdown",
   "id": "6070c53a",
   "metadata": {},
   "source": [
    "## **Dữ liệu**"
   ]
  },
  {
   "cell_type": "code",
   "execution_count": 123,
   "id": "42f10a92",
   "metadata": {},
   "outputs": [
    {
     "data": {
      "text/html": [
       "<div>\n",
       "<style scoped>\n",
       "    .dataframe tbody tr th:only-of-type {\n",
       "        vertical-align: middle;\n",
       "    }\n",
       "\n",
       "    .dataframe tbody tr th {\n",
       "        vertical-align: top;\n",
       "    }\n",
       "\n",
       "    .dataframe thead th {\n",
       "        text-align: right;\n",
       "    }\n",
       "</style>\n",
       "<table border=\"1\" class=\"dataframe\">\n",
       "  <thead>\n",
       "    <tr style=\"text-align: right;\">\n",
       "      <th></th>\n",
       "      <th>LB</th>\n",
       "      <th>AC</th>\n",
       "      <th>FM</th>\n",
       "      <th>UC</th>\n",
       "      <th>DL</th>\n",
       "      <th>DS</th>\n",
       "      <th>DP</th>\n",
       "      <th>ASTV</th>\n",
       "      <th>MSTV</th>\n",
       "      <th>ALTV</th>\n",
       "      <th>...</th>\n",
       "      <th>Min</th>\n",
       "      <th>Max</th>\n",
       "      <th>Nmax</th>\n",
       "      <th>Nzeros</th>\n",
       "      <th>Mode</th>\n",
       "      <th>Mean</th>\n",
       "      <th>Median</th>\n",
       "      <th>Variance</th>\n",
       "      <th>Tendency</th>\n",
       "      <th>NSP</th>\n",
       "    </tr>\n",
       "  </thead>\n",
       "  <tbody>\n",
       "    <tr>\n",
       "      <th>0</th>\n",
       "      <td>120.0</td>\n",
       "      <td>0.0</td>\n",
       "      <td>0.0</td>\n",
       "      <td>0.0</td>\n",
       "      <td>0.0</td>\n",
       "      <td>0.0</td>\n",
       "      <td>0.0</td>\n",
       "      <td>73.0</td>\n",
       "      <td>0.5</td>\n",
       "      <td>43.0</td>\n",
       "      <td>...</td>\n",
       "      <td>62.0</td>\n",
       "      <td>126.0</td>\n",
       "      <td>2.0</td>\n",
       "      <td>0.0</td>\n",
       "      <td>120.0</td>\n",
       "      <td>137.0</td>\n",
       "      <td>121.0</td>\n",
       "      <td>73.0</td>\n",
       "      <td>1.0</td>\n",
       "      <td>2.0</td>\n",
       "    </tr>\n",
       "    <tr>\n",
       "      <th>1</th>\n",
       "      <td>132.0</td>\n",
       "      <td>4.0</td>\n",
       "      <td>0.0</td>\n",
       "      <td>4.0</td>\n",
       "      <td>2.0</td>\n",
       "      <td>0.0</td>\n",
       "      <td>0.0</td>\n",
       "      <td>17.0</td>\n",
       "      <td>2.1</td>\n",
       "      <td>0.0</td>\n",
       "      <td>...</td>\n",
       "      <td>68.0</td>\n",
       "      <td>198.0</td>\n",
       "      <td>6.0</td>\n",
       "      <td>1.0</td>\n",
       "      <td>141.0</td>\n",
       "      <td>136.0</td>\n",
       "      <td>140.0</td>\n",
       "      <td>12.0</td>\n",
       "      <td>0.0</td>\n",
       "      <td>1.0</td>\n",
       "    </tr>\n",
       "    <tr>\n",
       "      <th>2</th>\n",
       "      <td>133.0</td>\n",
       "      <td>2.0</td>\n",
       "      <td>0.0</td>\n",
       "      <td>5.0</td>\n",
       "      <td>2.0</td>\n",
       "      <td>0.0</td>\n",
       "      <td>0.0</td>\n",
       "      <td>16.0</td>\n",
       "      <td>2.1</td>\n",
       "      <td>0.0</td>\n",
       "      <td>...</td>\n",
       "      <td>68.0</td>\n",
       "      <td>198.0</td>\n",
       "      <td>5.0</td>\n",
       "      <td>1.0</td>\n",
       "      <td>141.0</td>\n",
       "      <td>135.0</td>\n",
       "      <td>138.0</td>\n",
       "      <td>13.0</td>\n",
       "      <td>0.0</td>\n",
       "      <td>1.0</td>\n",
       "    </tr>\n",
       "    <tr>\n",
       "      <th>3</th>\n",
       "      <td>134.0</td>\n",
       "      <td>2.0</td>\n",
       "      <td>0.0</td>\n",
       "      <td>6.0</td>\n",
       "      <td>2.0</td>\n",
       "      <td>0.0</td>\n",
       "      <td>0.0</td>\n",
       "      <td>16.0</td>\n",
       "      <td>2.4</td>\n",
       "      <td>0.0</td>\n",
       "      <td>...</td>\n",
       "      <td>53.0</td>\n",
       "      <td>170.0</td>\n",
       "      <td>11.0</td>\n",
       "      <td>0.0</td>\n",
       "      <td>137.0</td>\n",
       "      <td>134.0</td>\n",
       "      <td>137.0</td>\n",
       "      <td>13.0</td>\n",
       "      <td>1.0</td>\n",
       "      <td>1.0</td>\n",
       "    </tr>\n",
       "    <tr>\n",
       "      <th>4</th>\n",
       "      <td>132.0</td>\n",
       "      <td>4.0</td>\n",
       "      <td>0.0</td>\n",
       "      <td>5.0</td>\n",
       "      <td>0.0</td>\n",
       "      <td>0.0</td>\n",
       "      <td>0.0</td>\n",
       "      <td>16.0</td>\n",
       "      <td>2.4</td>\n",
       "      <td>0.0</td>\n",
       "      <td>...</td>\n",
       "      <td>53.0</td>\n",
       "      <td>170.0</td>\n",
       "      <td>9.0</td>\n",
       "      <td>0.0</td>\n",
       "      <td>137.0</td>\n",
       "      <td>136.0</td>\n",
       "      <td>138.0</td>\n",
       "      <td>11.0</td>\n",
       "      <td>1.0</td>\n",
       "      <td>1.0</td>\n",
       "    </tr>\n",
       "  </tbody>\n",
       "</table>\n",
       "<p>5 rows × 22 columns</p>\n",
       "</div>"
      ],
      "text/plain": [
       "      LB   AC   FM   UC   DL   DS   DP  ASTV  MSTV  ALTV  ...   Min    Max  \\\n",
       "0  120.0  0.0  0.0  0.0  0.0  0.0  0.0  73.0   0.5  43.0  ...  62.0  126.0   \n",
       "1  132.0  4.0  0.0  4.0  2.0  0.0  0.0  17.0   2.1   0.0  ...  68.0  198.0   \n",
       "2  133.0  2.0  0.0  5.0  2.0  0.0  0.0  16.0   2.1   0.0  ...  68.0  198.0   \n",
       "3  134.0  2.0  0.0  6.0  2.0  0.0  0.0  16.0   2.4   0.0  ...  53.0  170.0   \n",
       "4  132.0  4.0  0.0  5.0  0.0  0.0  0.0  16.0   2.4   0.0  ...  53.0  170.0   \n",
       "\n",
       "   Nmax  Nzeros   Mode   Mean  Median  Variance  Tendency  NSP  \n",
       "0   2.0     0.0  120.0  137.0   121.0      73.0       1.0  2.0  \n",
       "1   6.0     1.0  141.0  136.0   140.0      12.0       0.0  1.0  \n",
       "2   5.0     1.0  141.0  135.0   138.0      13.0       0.0  1.0  \n",
       "3  11.0     0.0  137.0  134.0   137.0      13.0       1.0  1.0  \n",
       "4   9.0     0.0  137.0  136.0   138.0      11.0       1.0  1.0  \n",
       "\n",
       "[5 rows x 22 columns]"
      ]
     },
     "execution_count": 123,
     "metadata": {},
     "output_type": "execute_result"
    }
   ],
   "source": [
    "df = pd.read_csv(\"../data/data_processed/data_processed.csv\")\n",
    "df.head()"
   ]
  },
  {
   "cell_type": "markdown",
   "id": "1f975abf",
   "metadata": {},
   "source": [
    "## **Xây dựng mô hình KNN**"
   ]
  },
  {
   "cell_type": "code",
   "execution_count": 124,
   "id": "d598e933",
   "metadata": {},
   "outputs": [],
   "source": [
    "# Các đặc trưng và nhãn\n",
    "X = df.drop(columns=['NSP']).values \n",
    "y = df['NSP'].values  \n",
    "\n",
    "# Chuẩn hóa dữ liệu\n",
    "scaler = StandardScaler()\n",
    "X = scaler.fit_transform(X)"
   ]
  },
  {
   "cell_type": "code",
   "execution_count": 125,
   "id": "dd3c66cc",
   "metadata": {},
   "outputs": [],
   "source": [
    "# # Hàm tính khoảng cách Euclidean\n",
    "# def euclidean_distance(x1, x2):\n",
    "#     return np.sqrt(np.sum((x1 - x2) ** 2))\n",
    "\n",
    "# # Mô hình KNN\n",
    "# def knn(X_train, y_train, X_test, k):\n",
    "#     y_pred = []\n",
    "#     for test_point in X_test:\n",
    "#         distances = [euclidean_distance(test_point, train_point) for train_point in X_train]\n",
    "#         indices = np.argsort(distances)[:k]\n",
    "#         nearest_labels = [y_train[i] for i in indices]\n",
    "#         unique_values, counts = np.unique(nearest_labels, return_counts=True)\n",
    "#         y_pred.append(unique_values[np.argmax(counts)])\n",
    "#     return np.array(y_pred)"
   ]
  },
  {
   "cell_type": "code",
   "execution_count": 126,
   "id": "a5b0f912",
   "metadata": {},
   "outputs": [],
   "source": [
    "# Hàm tính khoảng cách Euclidean \n",
    "def distance(array, value):\n",
    "    return np.linalg.norm(array - value, axis=1)\n",
    "\n",
    "# Hàm tìm K hàng xóm gần nhất (trả về chỉ số)\n",
    "def find_nearest_index(X_train, x_val, K):\n",
    "    distances = distance(X_train, x_val)\n",
    "    return np.argsort(distances)[:K]\n",
    "\n",
    "# Trả về nhãn phổ biến nhất trong list\n",
    "def highest_rank(arr):\n",
    "    values, counts = np.unique(arr, return_counts=True)\n",
    "    return values[np.argmax(counts)]\n",
    "\n",
    "# Mô hình KNN \n",
    "def knn(X_train, y_train, X_test, K):\n",
    "    y_pred = []\n",
    "    for x_val in X_test:\n",
    "        idx = find_nearest_index(X_train, x_val, K)\n",
    "        nearest_labels = y_train[idx]\n",
    "        y_pred.append(highest_rank(list(nearest_labels)))\n",
    "    return np.array(y_pred)\n"
   ]
  },
  {
   "cell_type": "markdown",
   "id": "dac60b69",
   "metadata": {},
   "source": [
    "## **Triển khai KNN với nhiều tỷ lệ train/validation: 4:1; 7:3; 6:4**"
   ]
  },
  {
   "cell_type": "markdown",
   "id": "3693915f",
   "metadata": {},
   "source": [
    "### **Thực hiện với dữ liệu gốc**"
   ]
  },
  {
   "cell_type": "code",
   "execution_count": 127,
   "id": "152589b9",
   "metadata": {},
   "outputs": [
    {
     "name": "stdout",
     "output_type": "stream",
     "text": [
      "Dữ liệu gốc:\n",
      "Tỷ lệ Train/Test   0.6:0.4   0.7:0.3   0.8:0.2\n",
      "k                                             \n",
      "3                 0.900118  0.904389  0.920188\n",
      "5                 0.903643  0.910658  0.915493\n",
      "7                 0.896592  0.910658  0.910798\n"
     ]
    }
   ],
   "source": [
    "test_sizes = [0.2, 0.3, 0.4]  \n",
    "k_values = [3, 5, 7]  \n",
    "\n",
    "results = []\n",
    "\n",
    "for test_size in test_sizes:\n",
    "    X_train, X_test, y_train, y_test = train_test_split(X, y, test_size=test_size, random_state=42)\n",
    "    \n",
    "    for k in k_values:\n",
    "        y_pred = knn(X_train, y_train, X_test, k)\n",
    "        acc = accuracy_score(y_test, y_pred)\n",
    "        results.append({\n",
    "            'Tỷ lệ Train/Test': f\"{1-test_size:.1f}:{test_size:.1f}\",\n",
    "            'k': k,\n",
    "            'Accuracy': acc\n",
    "        })\n",
    "\n",
    "# Chuyển kết quả thành DataFrame\n",
    "results_df = pd.DataFrame(results)\n",
    "print(\"Dữ liệu gốc:\")\n",
    "print(results_df.pivot(index='k', columns='Tỷ lệ Train/Test', values='Accuracy'))"
   ]
  },
  {
   "cell_type": "code",
   "execution_count": 128,
   "id": "ac8f5c9c",
   "metadata": {},
   "outputs": [
    {
     "name": "stdout",
     "output_type": "stream",
     "text": [
      "Mô hình tốt nhất (dữ liệu gốc): k=3, Tỷ lệ Train/Test=0.8:0.2\n",
      "\n",
      "Accuracy (dữ liệu gốc): = 0.92018779342723\n",
      "\n",
      "Classification Report (dữ liệu gốc):\n",
      "              precision    recall  f1-score   support\n",
      "\n",
      "         1.0       0.95      0.96      0.96       333\n",
      "         2.0       0.78      0.70      0.74        64\n",
      "         3.0       0.87      0.93      0.90        29\n",
      "\n",
      "    accuracy                           0.92       426\n",
      "   macro avg       0.87      0.87      0.86       426\n",
      "weighted avg       0.92      0.92      0.92       426\n",
      "\n"
     ]
    }
   ],
   "source": [
    "# Tìm ra mô hình tốt nhất (có độ chính xác cao nhất)\n",
    "best_model = results_df.loc[results_df['Accuracy'].idxmax()]\n",
    "\n",
    "# Thông tin mô hình tốt nhất\n",
    "best_k = best_model['k']\n",
    "best_test_size = best_model['Tỷ lệ Train/Test']\n",
    "print(f'Mô hình tốt nhất (dữ liệu gốc): k={best_k}, Tỷ lệ Train/Test={best_test_size}')\n",
    "print(f\"\\nAccuracy (dữ liệu gốc): = {best_model[\"Accuracy\"]}\")\n",
    "\n",
    "# Tìm lại dữ liệu tập huấn luyện và kiểm tra cho mô hình tốt nhất\n",
    "test_size_dict = {'0.6:0.4': 0.4, '0.7:0.3': 0.3, '0.8:0.2': 0.2}\n",
    "test_size = test_size_dict[best_test_size]\n",
    "\n",
    "X_train, X_test, y_train, y_test = train_test_split(X, y, test_size=test_size, random_state=42)\n",
    "\n",
    "# Huấn luyện và dự đoán với k tốt nhất\n",
    "y_pred_best = knn(X_train, y_train, X_test, best_k)\n",
    "\n",
    "print(\"\\nClassification Report (dữ liệu gốc):\")\n",
    "print(classification_report(y_test, y_pred_best))"
   ]
  },
  {
   "cell_type": "code",
   "execution_count": 129,
   "id": "ee969bc8",
   "metadata": {},
   "outputs": [
    {
     "name": "stdout",
     "output_type": "stream",
     "text": [
      "Confusion matrix:\n",
      "[[320  12   1]\n",
      " [ 16  45   3]\n",
      " [  1   1  27]]\n"
     ]
    }
   ],
   "source": [
    "print(\"Confusion matrix:\")\n",
    "print(confusion_matrix(y_test, y_pred_best))"
   ]
  },
  {
   "cell_type": "markdown",
   "id": "795631ce",
   "metadata": {},
   "source": [
    "### **Giảm trước chia sau** (Tiềm ẩn Data leakage)"
   ]
  },
  {
   "cell_type": "markdown",
   "id": "a3d882c1",
   "metadata": {},
   "source": [
    "#### **Thực hiện với dữ liệu đã giảm chiều bằng PCA**"
   ]
  },
  {
   "cell_type": "code",
   "execution_count": 130,
   "id": "d6da2b6f",
   "metadata": {},
   "outputs": [
    {
     "name": "stdout",
     "output_type": "stream",
     "text": [
      "Tỷ lệ Train/Test   0.6:0.4   0.7:0.3   0.8:0.2\n",
      "k                                             \n",
      "3                 0.880141  0.879310  0.906103\n",
      "5                 0.869565  0.882445  0.882629\n",
      "7                 0.882491  0.890282  0.899061\n"
     ]
    }
   ],
   "source": [
    "pca = PCA(n_components=6)\n",
    "X_pca = pca.fit_transform(X)\n",
    "\n",
    "test_sizes = [0.2, 0.3, 0.4]  \n",
    "k_values = [3, 5, 7]  \n",
    "\n",
    "results_pca = []\n",
    "\n",
    "for test_size in test_sizes:\n",
    "    X_train, X_test, y_train, y_test = train_test_split(X_pca, y, test_size=test_size, random_state=42)\n",
    "    \n",
    "    for k in k_values:\n",
    "        y_pred = knn(X_train, y_train, X_test, k)\n",
    "        acc = accuracy_score(y_test, y_pred)\n",
    "        results_pca.append({\n",
    "            'Tỷ lệ Train/Test': f\"{1-test_size:.1f}:{test_size:.1f}\",\n",
    "            'k': k,\n",
    "            'Accuracy': acc\n",
    "        })\n",
    "        \n",
    "# Chuyển kết quả thành DataFrame\n",
    "results_df_pca = pd.DataFrame(results_pca)\n",
    "print(results_df_pca.pivot(index='k', columns='Tỷ lệ Train/Test', values='Accuracy'))"
   ]
  },
  {
   "cell_type": "code",
   "execution_count": 131,
   "id": "110401dd",
   "metadata": {},
   "outputs": [
    {
     "name": "stdout",
     "output_type": "stream",
     "text": [
      "Mô hình tốt nhất (dữ liệu giảm chiều bằng PCA): k=3, Tỷ lệ Train/Test=0.8:0.2\n",
      "\n",
      "Accuracy (dữ liệu giảm chiều bằng PCA): = 0.9061032863849765\n",
      "\n",
      "Classification Report (PCA):\n",
      "              precision    recall  f1-score   support\n",
      "\n",
      "         1.0       0.94      0.97      0.95       333\n",
      "         2.0       0.73      0.64      0.68        64\n",
      "         3.0       0.88      0.79      0.84        29\n",
      "\n",
      "    accuracy                           0.91       426\n",
      "   macro avg       0.85      0.80      0.82       426\n",
      "weighted avg       0.90      0.91      0.90       426\n",
      "\n"
     ]
    }
   ],
   "source": [
    "# Tìm ra mô hình tốt nhất \n",
    "best_model = results_df_pca.loc[results_df_pca['Accuracy'].idxmax()]\n",
    "\n",
    "# Thông tin mô hình tốt nhất\n",
    "best_k = best_model['k']\n",
    "best_test_size = best_model['Tỷ lệ Train/Test']\n",
    "print(f'Mô hình tốt nhất (dữ liệu giảm chiều bằng PCA): k={best_k}, Tỷ lệ Train/Test={best_test_size}')\n",
    "print(f\"\\nAccuracy (dữ liệu giảm chiều bằng PCA): = {best_model[\"Accuracy\"]}\")\n",
    "\n",
    "# Tìm lại dữ liệu tập huấn luyện và kiểm tra cho mô hình tốt nhất\n",
    "test_size_dict = {'0.6:0.4': 0.4, '0.7:0.3': 0.3, '0.8:0.2': 0.2}\n",
    "test_size = test_size_dict[best_test_size]\n",
    "\n",
    "X_train_pca, X_test_pca, y_train_pca, y_test_pca = train_test_split(X_pca, y, test_size=test_size, random_state=42)\n",
    "\n",
    "# Huấn luyện và dự đoán với k tốt nhất\n",
    "y_pred_pca = knn(X_train_pca, y_train_pca, X_test_pca, best_k)\n",
    "\n",
    "print(\"\\nClassification Report (PCA):\")\n",
    "print(classification_report(y_test_pca, y_pred_pca))"
   ]
  },
  {
   "cell_type": "code",
   "execution_count": 132,
   "id": "dbaf8c3d",
   "metadata": {},
   "outputs": [
    {
     "name": "stdout",
     "output_type": "stream",
     "text": [
      "Confusion matrix (PCA):\n",
      "[[322  11   0]\n",
      " [ 20  41   3]\n",
      " [  2   4  23]]\n"
     ]
    }
   ],
   "source": [
    "print(\"Confusion matrix (PCA):\")\n",
    "print(confusion_matrix(y_test_pca, y_pred_pca))"
   ]
  },
  {
   "cell_type": "code",
   "execution_count": 133,
   "id": "8e4413f4",
   "metadata": {},
   "outputs": [
    {
     "data": {
      "image/png": "[encoded data removed]",
      "text/plain": [
       "<Figure size 600x600 with 2 Axes>"
      ]
     },
     "metadata": {},
     "output_type": "display_data"
    }
   ],
   "source": [
    "conf_matrix_pca = confusion_matrix(y_test_pca, y_pred_pca)\n",
    "plt.figure(figsize=(6, 6))\n",
    "sns.heatmap(conf_matrix_pca, annot=True, fmt=\"d\", cmap=\"Blues\", xticklabels=np.unique(y), yticklabels=np.unique(y))\n",
    "plt.title(\"Confusion Matrix (PCA)\")\n",
    "plt.xlabel(\"Dự đoán\")\n",
    "plt.ylabel(\"Thực tế\")\n",
    "plt.show()"
   ]
  },
  {
   "cell_type": "markdown",
   "id": "79d516fd",
   "metadata": {},
   "source": [
    "#### **Thực hiện với dữ liệu đã giảm chiều bằng LDA**"
   ]
  },
  {
   "cell_type": "code",
   "execution_count": 134,
   "id": "1221ae6b",
   "metadata": {},
   "outputs": [
    {
     "name": "stdout",
     "output_type": "stream",
     "text": [
      "Tỷ lệ Train/Test   0.6:0.4   0.7:0.3   0.8:0.2\n",
      "k                                             \n",
      "3                 0.880141  0.879310  0.906103\n",
      "5                 0.869565  0.882445  0.882629\n",
      "7                 0.882491  0.890282  0.899061\n"
     ]
    }
   ],
   "source": [
    "lda = LDA(n_components=2)  \n",
    "X_lda = lda.fit_transform(X, y)\n",
    "\n",
    "test_sizes = [0.2, 0.3, 0.4]  \n",
    "k_values = [3, 5, 7]  \n",
    "\n",
    "results_lda = []\n",
    "\n",
    "for test_size in test_sizes:\n",
    "    X_train, X_test, y_train, y_test = train_test_split(X_lda, y, test_size=test_size, random_state=42)\n",
    "    \n",
    "    for k in k_values:\n",
    "        y_pred = knn(X_train, y_train, X_test, k)\n",
    "        acc = accuracy_score(y_test, y_pred)\n",
    "        results_lda.append({\n",
    "            'Tỷ lệ Train/Test': f\"{1-test_size:.1f}:{test_size:.1f}\",\n",
    "            'k': k,\n",
    "            'Accuracy': acc\n",
    "        })\n",
    "        \n",
    "# Chuyển kết quả thành DataFrame\n",
    "results_df_lda = pd.DataFrame(results_pca)\n",
    "print(results_df_lda.pivot(index='k', columns='Tỷ lệ Train/Test', values='Accuracy'))\n",
    "\n"
   ]
  },
  {
   "cell_type": "code",
   "execution_count": 135,
   "id": "916f3a84",
   "metadata": {},
   "outputs": [
    {
     "name": "stdout",
     "output_type": "stream",
     "text": [
      "Mô hình tốt nhất (dữ liệu giảm chiều bằng LDA): k=3, Tỷ lệ Train/Test=0.8:0.2\n",
      "\n",
      "Accuracy (dữ liệu giảm chiều bằng LDA): = 0.9061032863849765\n",
      "\n",
      "Classification Report (LDA):\n",
      "              precision    recall  f1-score   support\n",
      "\n",
      "         1.0       0.92      0.95      0.93       333\n",
      "         2.0       0.64      0.55      0.59        64\n",
      "         3.0       0.82      0.79      0.81        29\n",
      "\n",
      "    accuracy                           0.88       426\n",
      "   macro avg       0.79      0.76      0.78       426\n",
      "weighted avg       0.87      0.88      0.87       426\n",
      "\n"
     ]
    }
   ],
   "source": [
    "# Tìm ra mô hình tốt nhất (có độ chính xác cao nhất)\n",
    "best_model = results_df_lda.loc[results_df_lda['Accuracy'].idxmax()]\n",
    "\n",
    "# Thông tin mô hình tốt nhất\n",
    "best_k = best_model['k']\n",
    "best_test_size = best_model['Tỷ lệ Train/Test']\n",
    "print(f'Mô hình tốt nhất (dữ liệu giảm chiều bằng LDA): k={best_k}, Tỷ lệ Train/Test={best_test_size}')\n",
    "print(f\"\\nAccuracy (dữ liệu giảm chiều bằng LDA): = {best_model[\"Accuracy\"]}\")\n",
    "\n",
    "# Tìm lại dữ liệu tập huấn luyện và kiểm tra cho mô hình tốt nhất\n",
    "test_size_dict = {'0.6:0.4': 0.4, '0.7:0.3': 0.3, '0.8:0.2': 0.2}\n",
    "test_size = test_size_dict[best_test_size]\n",
    "\n",
    "X_train_lda, X_test_lda, y_train_lda, y_test_lda = train_test_split(X_lda, y, test_size=test_size, random_state=42)\n",
    "\n",
    "# Huấn luyện và dự đoán với k tốt nhất\n",
    "y_pred_lda = knn(X_train_lda, y_train_lda, X_test_lda, best_k)\n",
    "\n",
    "print(\"\\nClassification Report (LDA):\")\n",
    "print(classification_report(y_test_lda, y_pred_lda))"
   ]
  },
  {
   "cell_type": "code",
   "execution_count": 136,
   "id": "52a21178",
   "metadata": {},
   "outputs": [
    {
     "name": "stdout",
     "output_type": "stream",
     "text": [
      "Confusion matrix (LDA):\n",
      "[[320  12   1]\n",
      " [ 16  45   3]\n",
      " [  1   1  27]]\n"
     ]
    }
   ],
   "source": [
    "print(\"Confusion matrix (LDA):\")\n",
    "print(confusion_matrix(y_test_lda, y_pred_best))"
   ]
  },
  {
   "cell_type": "code",
   "execution_count": 137,
   "id": "a0922a6d",
   "metadata": {},
   "outputs": [
    {
     "data": {
      "image/png": "[encoded data removed]",
      "text/plain": [
       "<Figure size 600x600 with 2 Axes>"
      ]
     },
     "metadata": {},
     "output_type": "display_data"
    }
   ],
   "source": [
    "conf_matrix_lda = confusion_matrix(y_test_lda, y_pred_lda)\n",
    "plt.figure(figsize=(6, 6))\n",
    "sns.heatmap(conf_matrix_lda, annot=True, fmt=\"d\", cmap=\"Blues\", xticklabels=np.unique(y), yticklabels=np.unique(y))\n",
    "plt.title(\"Confusion Matrix (LDA)\")\n",
    "plt.xlabel(\"Dự đoán\")\n",
    "plt.ylabel(\"Thực tế\")\n",
    "plt.show()\n"
   ]
  },
  {
   "cell_type": "markdown",
   "id": "5c3948fd",
   "metadata": {},
   "source": [
    "### **Chia trước giảm sau** "
   ]
  },
  {
   "cell_type": "markdown",
   "id": "0be79cb8",
   "metadata": {},
   "source": [
    "#### **Thực hiện với dữ liệu đã giảm chiều bằng PCA**"
   ]
  },
  {
   "cell_type": "code",
   "execution_count": 138,
   "id": "cbced68f",
   "metadata": {},
   "outputs": [
    {
     "name": "stdout",
     "output_type": "stream",
     "text": [
      "Tỷ lệ Train/Test   0.6:0.4   0.7:0.3   0.8:0.2\n",
      "k                                             \n",
      "3                 0.875441  0.874608  0.892019\n",
      "5                 0.876616  0.874608  0.887324\n",
      "7                 0.876616  0.888715  0.892019\n"
     ]
    }
   ],
   "source": [
    "test_sizes = [0.2, 0.3, 0.4]  \n",
    "k_values = [3, 5, 7]  \n",
    "n_components = 6\n",
    "results_pca = []\n",
    "\n",
    "for test_size in test_sizes:\n",
    "    X_train, X_test, y_train, y_test = train_test_split(X, y, test_size=test_size, random_state=42)\n",
    "\n",
    "    pca = PCA(n_components=n_components)\n",
    "    X_train_pca = pca.fit_transform(X_train)\n",
    "    X_test_pca = pca.transform(X_test)  \n",
    "\n",
    "    for k in k_values:\n",
    "        y_pred = knn(X_train_pca, y_train, X_test_pca, k)\n",
    "        acc = accuracy_score(y_test, y_pred)\n",
    "        results_pca.append({\n",
    "            'Tỷ lệ Train/Test': f\"{1-test_size:.1f}:{test_size:.1f}\",\n",
    "            'k': k,\n",
    "            'Accuracy': acc\n",
    "        })\n",
    "        \n",
    "# Chuyển kết quả thành DataFrame\n",
    "results_df_pca = pd.DataFrame(results_pca)\n",
    "print(results_df_pca.pivot(index='k', columns='Tỷ lệ Train/Test', values='Accuracy'))"
   ]
  },
  {
   "cell_type": "code",
   "execution_count": 139,
   "id": "bba69a53",
   "metadata": {},
   "outputs": [
    {
     "name": "stdout",
     "output_type": "stream",
     "text": [
      "Mô hình tốt nhất (dữ liệu giảm chiều bằng PCA): k=3, Tỷ lệ Train/Test=0.8:0.2\n",
      "\n",
      "Accuracy (dữ liệu giảm chiều bằng PCA): = 0.892018779342723\n",
      "\n",
      "Classification Report (PCA):\n",
      "              precision    recall  f1-score   support\n",
      "\n",
      "         1.0       0.93      0.96      0.94       333\n",
      "         2.0       0.69      0.58      0.63        64\n",
      "         3.0       0.86      0.83      0.84        29\n",
      "\n",
      "    accuracy                           0.89       426\n",
      "   macro avg       0.82      0.79      0.80       426\n",
      "weighted avg       0.89      0.89      0.89       426\n",
      "\n"
     ]
    }
   ],
   "source": [
    "# Tìm ra mô hình tốt nhất \n",
    "best_model = results_df_pca.loc[results_df_pca['Accuracy'].idxmax()]\n",
    "\n",
    "# Thông tin mô hình tốt nhất\n",
    "best_k = best_model['k']\n",
    "best_test_size = best_model['Tỷ lệ Train/Test']\n",
    "print(f'Mô hình tốt nhất (dữ liệu giảm chiều bằng PCA): k={best_k}, Tỷ lệ Train/Test={best_test_size}')\n",
    "print(f\"\\nAccuracy (dữ liệu giảm chiều bằng PCA): = {best_model[\"Accuracy\"]}\")\n",
    "\n",
    "# Tìm lại dữ liệu tập huấn luyện và kiểm tra cho mô hình tốt nhất\n",
    "test_size_dict = {'0.6:0.4': 0.4, '0.7:0.3': 0.3, '0.8:0.2': 0.2}\n",
    "test_size = test_size_dict[best_test_size]\n",
    "\n",
    "X_train, X_test, y_train, y_test = train_test_split(X, y, test_size=test_size, random_state=42)\n",
    "pca = PCA(n_components=n_components)\n",
    "X_train_pca = pca.fit_transform(X_train)\n",
    "X_test_pca = pca.transform(X_test)  \n",
    "\n",
    "# Huấn luyện và dự đoán với k tốt nhất\n",
    "y_pred_pca = knn(X_train_pca, y_train_pca, X_test_pca, best_k)\n",
    "\n",
    "print(\"\\nClassification Report (PCA):\")\n",
    "print(classification_report(y_test_pca, y_pred_pca)) "
   ]
  },
  {
   "cell_type": "code",
   "execution_count": 140,
   "id": "ff1a7ba3",
   "metadata": {},
   "outputs": [
    {
     "name": "stdout",
     "output_type": "stream",
     "text": [
      "Confusion matrix (PCA):\n",
      "[[319  13   1]\n",
      " [ 24  37   3]\n",
      " [  1   4  24]]\n"
     ]
    }
   ],
   "source": [
    "print(\"Confusion matrix (PCA):\")\n",
    "print(confusion_matrix(y_test_pca, y_pred_pca))"
   ]
  },
  {
   "cell_type": "markdown",
   "id": "14cb7673",
   "metadata": {},
   "source": [
    "#### **Thực hiện với dữ liệu đã giảm chiều bằng PCA**"
   ]
  },
  {
   "cell_type": "code",
   "execution_count": 141,
   "id": "c888ee95",
   "metadata": {},
   "outputs": [
    {
     "name": "stdout",
     "output_type": "stream",
     "text": [
      "Tỷ lệ Train/Test   0.6:0.4   0.7:0.3   0.8:0.2\n",
      "k                                             \n",
      "3                 0.875441  0.874608  0.892019\n",
      "5                 0.876616  0.874608  0.887324\n",
      "7                 0.876616  0.888715  0.892019\n"
     ]
    }
   ],
   "source": [
    "test_sizes = [0.2, 0.3, 0.4]  \n",
    "k_values = [3, 5, 7]  \n",
    "\n",
    "results_lda = []\n",
    "n_components_lda = 2\n",
    "\n",
    "for test_size in test_sizes:\n",
    "    X_train, X_test, y_train, y_test = train_test_split(X, y, test_size=test_size, random_state=42)\n",
    "\n",
    "    lda = LDA(n_components=n_components_lda)\n",
    "    X_train_lda = lda.fit_transform(X_train, y_train)\n",
    "    X_test_pca = pca.transform(X_test)  \n",
    "    X_test_lda = lda.transform(X_test)\n",
    "\n",
    "    for k in k_values:\n",
    "        y_pred = knn(X_train, y_train, X_test, k)\n",
    "        acc = accuracy_score(y_test, y_pred)\n",
    "        results_lda.append({\n",
    "            'Tỷ lệ Train/Test': f\"{1-test_size:.1f}:{test_size:.1f}\",\n",
    "            'k': k,\n",
    "            'Accuracy': acc\n",
    "        })\n",
    "        \n",
    "# Chuyển kết quả thành DataFrame\n",
    "results_df_lda = pd.DataFrame(results_pca)\n",
    "print(results_df_lda.pivot(index='k', columns='Tỷ lệ Train/Test', values='Accuracy'))\n",
    "\n"
   ]
  },
  {
   "cell_type": "code",
   "execution_count": 142,
   "id": "c6e6529f",
   "metadata": {},
   "outputs": [
    {
     "name": "stdout",
     "output_type": "stream",
     "text": [
      "Mô hình tốt nhất (dữ liệu giảm chiều bằng LDA): k=3, Tỷ lệ Train/Test=0.8:0.2\n",
      "\n",
      "Accuracy (dữ liệu giảm chiều bằng LDA): = 0.892018779342723\n",
      "\n",
      "Classification Report (LDA):\n",
      "              precision    recall  f1-score   support\n",
      "\n",
      "         1.0       0.93      0.93      0.93       333\n",
      "         2.0       0.61      0.55      0.58        64\n",
      "         3.0       0.68      0.79      0.73        29\n",
      "\n",
      "    accuracy                           0.86       426\n",
      "   macro avg       0.74      0.76      0.75       426\n",
      "weighted avg       0.86      0.86      0.86       426\n",
      "\n"
     ]
    }
   ],
   "source": [
    "# Tìm ra mô hình tốt nhất (có độ chính xác cao nhất)\n",
    "best_model = results_df_lda.loc[results_df_lda['Accuracy'].idxmax()]\n",
    "\n",
    "# Thông tin mô hình tốt nhất\n",
    "best_k = best_model['k']\n",
    "best_test_size = best_model['Tỷ lệ Train/Test']\n",
    "print(f'Mô hình tốt nhất (dữ liệu giảm chiều bằng LDA): k={best_k}, Tỷ lệ Train/Test={best_test_size}')\n",
    "print(f\"\\nAccuracy (dữ liệu giảm chiều bằng LDA): = {best_model[\"Accuracy\"]}\")\n",
    "\n",
    "# Tìm lại dữ liệu tập huấn luyện và kiểm tra cho mô hình tốt nhất\n",
    "test_size_dict = {'0.6:0.4': 0.4, '0.7:0.3': 0.3, '0.8:0.2': 0.2}\n",
    "test_size = test_size_dict[best_test_size]\n",
    "\n",
    "X_train, X_test, y_train, y_test = train_test_split(X, y, test_size=test_size, random_state=42)\n",
    "lda = LDA(n_components=n_components_lda)\n",
    "X_train_lda = lda.fit_transform(X_train, y_train)\n",
    "X_test_pca = pca.transform(X_test)  \n",
    "X_test_lda = lda.transform(X_test)\n",
    "\n",
    "# Huấn luyện và dự đoán với k tốt nhất\n",
    "y_pred_lda = knn(X_train_lda, y_train_lda, X_test_lda, best_k)\n",
    "\n",
    "print(\"\\nClassification Report (LDA):\")\n",
    "print(classification_report(y_test_lda, y_pred_lda))"
   ]
  },
  {
   "cell_type": "code",
   "execution_count": 143,
   "id": "500f8c49",
   "metadata": {},
   "outputs": [
    {
     "name": "stdout",
     "output_type": "stream",
     "text": [
      "Confusion matrix (LDA):\n",
      "[[320  12   1]\n",
      " [ 16  45   3]\n",
      " [  1   1  27]]\n"
     ]
    }
   ],
   "source": [
    "print(\"Confusion matrix (LDA):\")\n",
    "print(confusion_matrix(y_test_lda, y_pred_best))"
   ]
  },
  {
   "cell_type": "markdown",
   "id": "a3b6931c",
   "metadata": {},
   "source": [
    "## Trực quan hóa và đánh giá tương quan giữa dự đoán – thực tế. "
   ]
  },
  {
   "cell_type": "code",
   "execution_count": 144,
   "id": "8851506e",
   "metadata": {},
   "outputs": [
    {
     "data": {
      "image/png": "[encoded data removed]",
      "text/plain": [
       "<Figure size 600x600 with 2 Axes>"
      ]
     },
     "metadata": {},
     "output_type": "display_data"
    }
   ],
   "source": [
    "conf_matrix_best = confusion_matrix(y_test, y_pred_best)\n",
    "plt.figure(figsize=(6, 6))\n",
    "sns.heatmap(conf_matrix_best, annot=True, fmt=\"d\", cmap=\"Blues\", xticklabels=np.unique(y), yticklabels=np.unique(y))\n",
    "plt.title(\"Confusion Matrix (dữ liệu gốc)\")\n",
    "plt.xlabel(\"Dự đoán\")\n",
    "plt.ylabel(\"Thực tế\")\n",
    "plt.show()\n"
   ]
  },
  {
   "cell_type": "code",
   "execution_count": 145,
   "id": "eee4cea3",
   "metadata": {},
   "outputs": [
    {
     "data": {
      "image/png": "[encoded data removed]",
      "text/plain": [
       "<Figure size 600x600 with 2 Axes>"
      ]
     },
     "metadata": {},
     "output_type": "display_data"
    }
   ],
   "source": [
    "conf_matrix_pca = confusion_matrix(y_test_pca, y_pred_pca)\n",
    "plt.figure(figsize=(6, 6))\n",
    "sns.heatmap(conf_matrix_pca, annot=True, fmt=\"d\", cmap=\"Blues\", xticklabels=np.unique(y), yticklabels=np.unique(y))\n",
    "plt.title(\"Confusion Matrix (PCA)\")\n",
    "plt.xlabel(\"Dự đoán\")\n",
    "plt.ylabel(\"Thực tế\")\n",
    "plt.show()"
   ]
  },
  {
   "cell_type": "code",
   "execution_count": 146,
   "id": "0b3fe744",
   "metadata": {},
   "outputs": [
    {
     "data": {
      "image/png": "[encoded data removed]",
      "text/plain": [
       "<Figure size 600x600 with 2 Axes>"
      ]
     },
     "metadata": {},
     "output_type": "display_data"
    }
   ],
   "source": [
    "conf_matrix_lda = confusion_matrix(y_test_lda, y_pred_lda)\n",
    "plt.figure(figsize=(6, 6))\n",
    "sns.heatmap(conf_matrix_lda, annot=True, fmt=\"d\", cmap=\"Blues\", xticklabels=np.unique(y), yticklabels=np.unique(y))\n",
    "plt.title(\"Confusion Matrix (LDA)\")\n",
    "plt.xlabel(\"Dự đoán\")\n",
    "plt.ylabel(\"Thực tế\")\n",
    "plt.show()\n"
   ]
  },
  {
   "cell_type": "markdown",
   "id": "3b28511d",
   "metadata": {},
   "source": [
    "## Tổng kết"
   ]
  },
  {
   "cell_type": "markdown",
   "id": "af213f97",
   "metadata": {},
   "source": [
    "Bảng so sánh mô hình KNN (k=3) theo cách chia 8:2(tốt nhất):\n",
    "\n",
    "| Phương án                    | Accuracy | Macro Precision | Macro Recall | Macro F1-score | Nhận xét chính                                  |\n",
    "|-----------------------------|----------|-----------------|--------------|----------------|-------------------------------------------------|\n",
    "| Gốc (không giảm chiều)       | 0.920    | 0.87            | 0.87         | 0.86           | Lớp 1 & 3 mạnh, tổng thể rất tốt                 |\n",
    "| PCA-6 (giảm trước, chia sau) | 0.906    | 0.85            | 0.80         | 0.82           | Mô hình nhẹ, giữ được hiệu quả tốt               |\n",
    "| LDA-2 (giảm trước, chia sau) | 0.906    | 0.79            | 0.76         | 0.78           | Lớp 3 vẫn ổn, lớp 2 chưa cao                     |\n",
    "| PCA-6 (chia trước, giảm sau) | 0.892    | 0.82            | 0.79         | 0.80           | Ổn định nếu đủ data, giảm nhẹ chất lượng        |\n",
    "| LDA-2 (chia trước, giảm sau) | 0.892    | 0.74            | 0.76         | 0.75           | Lớp 3 cải thiện tốt, lớp 2 yếu nhất              |"
   ]
  },
  {
   "cell_type": "markdown",
   "id": "a74a9e81",
   "metadata": {},
   "source": [
    "| Phương án                    | Tỷ lệ Train/Test | k=3      | k=5      | k=7      |\n",
    "|-----------------------------|-----------------|----------|----------|----------|\n",
    "| Dữ liệu gốc                | 0.6:0.4         | 0.900118 | 0.903643 | 0.896592 |\n",
    "|                             | 0.7:0.3         | 0.904389 | 0.910658 | 0.910658 |\n",
    "|                             | 0.8:0.2         | **0.920188** | 0.915493 | 0.910798 |\n",
    "| Giảm trước chia sau PCA6    | 0.6:0.4         | 0.880141 | 0.869565 | 0.882491 |\n",
    "|                             | 0.7:0.3         | 0.879310 | 0.882445 | 0.890282 |\n",
    "|                             | 0.8:0.2         | **0.906103** | 0.882629 | 0.899061 |\n",
    "| Giảm trước chia sau LDA2    | 0.6:0.4         | 0.880141 | 0.869565 | 0.882491 |\n",
    "|                             | 0.7:0.3         | 0.879310 | 0.882445 | 0.890282 |\n",
    "|                             | 0.8:0.2         | **0.906103** | 0.882629 | 0.899061 |\n",
    "| Chia trước giảm sau PCA6    | 0.6:0.4         | 0.875441 | 0.876616 | 0.876616 |\n",
    "|                             | 0.7:0.3         | 0.874608 | 0.874608 | 0.888715 |\n",
    "|                             | 0.8:0.2         | **0.892019** | 0.887324 | 0.892019 |\n",
    "| Chia trước giảm sau LDA2    | 0.6:0.4         | 0.875441 | 0.876616 | 0.876616 |\n",
    "|                             | 0.7:0.3         | 0.874608 | 0.874608 | 0.888715 |\n",
    "|                             | 0.8:0.2         | **0.892019** | 0.887324 | 0.892019 |"
   ]
  }
 ],
 "metadata": {
  "kernelspec": {
   "display_name": "myenv",
   "language": "python",
   "name": "python3"
  },
  "language_info": {
   "codemirror_mode": {
    "name": "ipython",
    "version": 3
   },
   "file_extension": ".py",
   "mimetype": "text/x-python",
   "name": "python",
   "nbconvert_exporter": "python",
   "pygments_lexer": "ipython3",
   "version": "3.12.7"
  }
 },
 "nbformat": 4,
 "nbformat_minor": 5
}
