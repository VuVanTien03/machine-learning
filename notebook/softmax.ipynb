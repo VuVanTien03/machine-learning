{
 "cells": [
  {
   "cell_type": "markdown",
   "id": "420459f8",
   "metadata": {},
   "source": [
    "## **Mô hình Softmax Regression**"
   ]
  },
  {
   "cell_type": "markdown",
   "id": "e7b024f1",
   "metadata": {},
   "source": [
    "## **Import các thư viện cần thiết**"
   ]
  },
  {
   "cell_type": "code",
   "execution_count": 92,
   "id": "8298bcc8",
   "metadata": {},
   "outputs": [],
   "source": [
    "import pandas as pd\n",
    "import numpy as np\n",
    "import matplotlib.pyplot as plt\n",
    "import seaborn as sns\n",
    "from sklearn.preprocessing import StandardScaler\n",
    "from scipy import sparse\n",
    "from sklearn.decomposition import PCA\n",
    "from sklearn.discriminant_analysis import LinearDiscriminantAnalysis as LDA\n",
    "from sklearn.model_selection import train_test_split\n",
    "from sklearn.metrics import accuracy_score, classification_report, confusion_matrix\n"
   ]
  },
  {
   "cell_type": "markdown",
   "id": "9ebf9fbb",
   "metadata": {},
   "source": [
    "## **Dữ liệu**"
   ]
  },
  {
   "cell_type": "code",
   "execution_count": 93,
   "id": "d2f822ef",
   "metadata": {},
   "outputs": [
    {
     "data": {
      "text/html": [
       "<div>\n",
       "<style scoped>\n",
       "    .dataframe tbody tr th:only-of-type {\n",
       "        vertical-align: middle;\n",
       "    }\n",
       "\n",
       "    .dataframe tbody tr th {\n",
       "        vertical-align: top;\n",
       "    }\n",
       "\n",
       "    .dataframe thead th {\n",
       "        text-align: right;\n",
       "    }\n",
       "</style>\n",
       "<table border=\"1\" class=\"dataframe\">\n",
       "  <thead>\n",
       "    <tr style=\"text-align: right;\">\n",
       "      <th></th>\n",
       "      <th>LB</th>\n",
       "      <th>AC</th>\n",
       "      <th>FM</th>\n",
       "      <th>UC</th>\n",
       "      <th>DL</th>\n",
       "      <th>DS</th>\n",
       "      <th>DP</th>\n",
       "      <th>ASTV</th>\n",
       "      <th>MSTV</th>\n",
       "      <th>ALTV</th>\n",
       "      <th>...</th>\n",
       "      <th>Min</th>\n",
       "      <th>Max</th>\n",
       "      <th>Nmax</th>\n",
       "      <th>Nzeros</th>\n",
       "      <th>Mode</th>\n",
       "      <th>Mean</th>\n",
       "      <th>Median</th>\n",
       "      <th>Variance</th>\n",
       "      <th>Tendency</th>\n",
       "      <th>NSP</th>\n",
       "    </tr>\n",
       "  </thead>\n",
       "  <tbody>\n",
       "    <tr>\n",
       "      <th>0</th>\n",
       "      <td>120.0</td>\n",
       "      <td>0.0</td>\n",
       "      <td>0.0</td>\n",
       "      <td>0.0</td>\n",
       "      <td>0.0</td>\n",
       "      <td>0.0</td>\n",
       "      <td>0.0</td>\n",
       "      <td>73.0</td>\n",
       "      <td>0.5</td>\n",
       "      <td>43.0</td>\n",
       "      <td>...</td>\n",
       "      <td>62.0</td>\n",
       "      <td>126.0</td>\n",
       "      <td>2.0</td>\n",
       "      <td>0.0</td>\n",
       "      <td>120.0</td>\n",
       "      <td>137.0</td>\n",
       "      <td>121.0</td>\n",
       "      <td>73.0</td>\n",
       "      <td>1.0</td>\n",
       "      <td>2.0</td>\n",
       "    </tr>\n",
       "    <tr>\n",
       "      <th>1</th>\n",
       "      <td>132.0</td>\n",
       "      <td>4.0</td>\n",
       "      <td>0.0</td>\n",
       "      <td>4.0</td>\n",
       "      <td>2.0</td>\n",
       "      <td>0.0</td>\n",
       "      <td>0.0</td>\n",
       "      <td>17.0</td>\n",
       "      <td>2.1</td>\n",
       "      <td>0.0</td>\n",
       "      <td>...</td>\n",
       "      <td>68.0</td>\n",
       "      <td>198.0</td>\n",
       "      <td>6.0</td>\n",
       "      <td>1.0</td>\n",
       "      <td>141.0</td>\n",
       "      <td>136.0</td>\n",
       "      <td>140.0</td>\n",
       "      <td>12.0</td>\n",
       "      <td>0.0</td>\n",
       "      <td>1.0</td>\n",
       "    </tr>\n",
       "    <tr>\n",
       "      <th>2</th>\n",
       "      <td>133.0</td>\n",
       "      <td>2.0</td>\n",
       "      <td>0.0</td>\n",
       "      <td>5.0</td>\n",
       "      <td>2.0</td>\n",
       "      <td>0.0</td>\n",
       "      <td>0.0</td>\n",
       "      <td>16.0</td>\n",
       "      <td>2.1</td>\n",
       "      <td>0.0</td>\n",
       "      <td>...</td>\n",
       "      <td>68.0</td>\n",
       "      <td>198.0</td>\n",
       "      <td>5.0</td>\n",
       "      <td>1.0</td>\n",
       "      <td>141.0</td>\n",
       "      <td>135.0</td>\n",
       "      <td>138.0</td>\n",
       "      <td>13.0</td>\n",
       "      <td>0.0</td>\n",
       "      <td>1.0</td>\n",
       "    </tr>\n",
       "    <tr>\n",
       "      <th>3</th>\n",
       "      <td>134.0</td>\n",
       "      <td>2.0</td>\n",
       "      <td>0.0</td>\n",
       "      <td>6.0</td>\n",
       "      <td>2.0</td>\n",
       "      <td>0.0</td>\n",
       "      <td>0.0</td>\n",
       "      <td>16.0</td>\n",
       "      <td>2.4</td>\n",
       "      <td>0.0</td>\n",
       "      <td>...</td>\n",
       "      <td>53.0</td>\n",
       "      <td>170.0</td>\n",
       "      <td>11.0</td>\n",
       "      <td>0.0</td>\n",
       "      <td>137.0</td>\n",
       "      <td>134.0</td>\n",
       "      <td>137.0</td>\n",
       "      <td>13.0</td>\n",
       "      <td>1.0</td>\n",
       "      <td>1.0</td>\n",
       "    </tr>\n",
       "    <tr>\n",
       "      <th>4</th>\n",
       "      <td>132.0</td>\n",
       "      <td>4.0</td>\n",
       "      <td>0.0</td>\n",
       "      <td>5.0</td>\n",
       "      <td>0.0</td>\n",
       "      <td>0.0</td>\n",
       "      <td>0.0</td>\n",
       "      <td>16.0</td>\n",
       "      <td>2.4</td>\n",
       "      <td>0.0</td>\n",
       "      <td>...</td>\n",
       "      <td>53.0</td>\n",
       "      <td>170.0</td>\n",
       "      <td>9.0</td>\n",
       "      <td>0.0</td>\n",
       "      <td>137.0</td>\n",
       "      <td>136.0</td>\n",
       "      <td>138.0</td>\n",
       "      <td>11.0</td>\n",
       "      <td>1.0</td>\n",
       "      <td>1.0</td>\n",
       "    </tr>\n",
       "  </tbody>\n",
       "</table>\n",
       "<p>5 rows × 22 columns</p>\n",
       "</div>"
      ],
      "text/plain": [
       "      LB   AC   FM   UC   DL   DS   DP  ASTV  MSTV  ALTV  ...   Min    Max  \\\n",
       "0  120.0  0.0  0.0  0.0  0.0  0.0  0.0  73.0   0.5  43.0  ...  62.0  126.0   \n",
       "1  132.0  4.0  0.0  4.0  2.0  0.0  0.0  17.0   2.1   0.0  ...  68.0  198.0   \n",
       "2  133.0  2.0  0.0  5.0  2.0  0.0  0.0  16.0   2.1   0.0  ...  68.0  198.0   \n",
       "3  134.0  2.0  0.0  6.0  2.0  0.0  0.0  16.0   2.4   0.0  ...  53.0  170.0   \n",
       "4  132.0  4.0  0.0  5.0  0.0  0.0  0.0  16.0   2.4   0.0  ...  53.0  170.0   \n",
       "\n",
       "   Nmax  Nzeros   Mode   Mean  Median  Variance  Tendency  NSP  \n",
       "0   2.0     0.0  120.0  137.0   121.0      73.0       1.0  2.0  \n",
       "1   6.0     1.0  141.0  136.0   140.0      12.0       0.0  1.0  \n",
       "2   5.0     1.0  141.0  135.0   138.0      13.0       0.0  1.0  \n",
       "3  11.0     0.0  137.0  134.0   137.0      13.0       1.0  1.0  \n",
       "4   9.0     0.0  137.0  136.0   138.0      11.0       1.0  1.0  \n",
       "\n",
       "[5 rows x 22 columns]"
      ]
     },
     "execution_count": 93,
     "metadata": {},
     "output_type": "execute_result"
    }
   ],
   "source": [
    "df = pd.read_csv(\"../data/data_processed/data_processed.csv\")\n",
    "df.head()"
   ]
  },
  {
   "cell_type": "markdown",
   "id": "8feac1fd",
   "metadata": {},
   "source": [
    "## **Xây dựng Softmax Regression**"
   ]
  },
  {
   "cell_type": "code",
   "execution_count": 94,
   "id": "694757c6",
   "metadata": {},
   "outputs": [],
   "source": [
    "# Tách đặc trưng và nhãn\n",
    "X = df.drop(columns=[\"NSP\"]).values\n",
    "# Nhãn: chuyển về 0, 1, 2\n",
    "y = df[\"NSP\"].values - 1 \n",
    "\n",
    "# Chuẩn hóa đặc trưng\n",
    "scaler = StandardScaler()\n",
    "X_scaled = scaler.fit_transform(X)\n",
    "\n",
    "# Thêm bias (1) vào đầu X\n",
    "X_scaled = np.hstack([np.ones((X_scaled.shape[0], 1)), X_scaled])\n",
    "\n",
    "# # Chuyển X thành dạng (d, N)\n",
    "# X_scaled = X_scaled.T\n",
    "\n",
    "X = X_scaled"
   ]
  },
  {
   "cell_type": "code",
   "execution_count": 95,
   "id": "dbf4d73d",
   "metadata": {},
   "outputs": [],
   "source": [
    "# Số lớp\n",
    "C = len(np.unique(y))\n",
    "\n",
    "def convert_labels(y, C=C):\n",
    "    Y = sparse.coo_matrix((np.ones_like(y), (y, np.arange(len(y)))), shape=(C, len(y))).toarray()\n",
    "    return Y\n",
    "\n",
    "def softmax_stable(Z):\n",
    "    e_Z = np.exp(Z - np.max(Z, axis=0, keepdims=True))\n",
    "    return e_Z / e_Z.sum(axis=0)\n",
    "\n",
    "def softmax(Z):\n",
    "    e_Z = np.exp(Z)\n",
    "    return e_Z / e_Z.sum(axis=0)\n",
    "\n",
    "def softmax_regression(X, y, W_init, eta, tol=1e-4, max_count=10000):\n",
    "    W = [W_init]\n",
    "    C = W_init.shape[1]\n",
    "    Y = convert_labels(y, C)\n",
    "    N = X.shape[1]\n",
    "    d = X.shape[0]\n",
    "\n",
    "    count = 0\n",
    "    check_w_after = 1500\n",
    "    while count < max_count:\n",
    "        mix_id = np.random.permutation(N)\n",
    "        for i in mix_id:\n",
    "            xi = X[:, i].reshape(d, 1)\n",
    "            yi = Y[:, i].reshape(C, 1)\n",
    "            ai = softmax(np.dot(W[-1].T, xi))\n",
    "            W_new = W[-1] + eta * xi.dot((yi - ai).T)\n",
    "            count += 1\n",
    "            if count % check_w_after == 0:\n",
    "                if np.linalg.norm(W_new - W[-check_w_after]) < tol:\n",
    "                    return W\n",
    "            W.append(W_new)\n",
    "    return W\n",
    "\n",
    "def pred(W, X):\n",
    "    A = softmax_stable(W.T.dot(X))\n",
    "    return np.argmax(A, axis=0)\n",
    "\n",
    "def accuracy(y_true, y_pred):\n",
    "    return np.mean(y_true == y_pred)\n"
   ]
  },
  {
   "cell_type": "code",
   "execution_count": 96,
   "id": "40f1ddde",
   "metadata": {},
   "outputs": [],
   "source": [
    "def evaluate_model(W, X_test, y_test):\n",
    "    y_pred = pred(W, X_test)\n",
    "    acc = accuracy_score(y_test, y_pred)\n",
    "    cr = classification_report(y_test, y_pred)\n",
    "    cm = confusion_matrix(y_test, y_pred)\n",
    "    return acc, cr, cm\n"
   ]
  },
  {
   "cell_type": "markdown",
   "id": "1f71284f",
   "metadata": {},
   "source": [
    "## **Triển khai Softmax Regression với nhiều tỷ lệ train/validation: 4:1; 7:3; 6:4**"
   ]
  },
  {
   "cell_type": "markdown",
   "id": "f7c0bc70",
   "metadata": {},
   "source": [
    "### **Giảm trước chia sau**"
   ]
  },
  {
   "cell_type": "code",
   "execution_count": 97,
   "id": "189a8b5c",
   "metadata": {},
   "outputs": [],
   "source": [
    "def softmax_pipeline(X, y, train_ratios=[0.8, 0.7, 0.6], use_pca=False, use_lda=False, n_components=None, lam=0):\n",
    "    results = []\n",
    "\n",
    "    for train_ratio in train_ratios:\n",
    "        method = \"gốc\"\n",
    "        X_temp = X.copy()\n",
    "        \n",
    "        if use_pca:\n",
    "            method = f\"PCA-{n_components}\"\n",
    "            pca = PCA(n_components=n_components)\n",
    "            X_temp = pca.fit_transform(X_temp)\n",
    "        elif use_lda:\n",
    "            method = f\"LDA-{n_components}\"\n",
    "            lda = LDA(n_components=n_components)\n",
    "            X_temp = lda.fit_transform(X_temp, y)\n",
    "\n",
    "        # Train/Validation split\n",
    "        X_train, X_val, y_train, y_val = train_test_split(X_temp, y, train_size=train_ratio, stratify=y, random_state=42)\n",
    "\n",
    "        # Add bias\n",
    "        X_train = np.concatenate((np.ones((X_train.shape[0], 1)), X_train), axis=1).T\n",
    "        X_val = np.concatenate((np.ones((X_val.shape[0], 1)), X_val), axis=1).T\n",
    "\n",
    "        d = X_train.shape[0]\n",
    "        C = len(np.unique(y))\n",
    "        W_init = np.random.randn(d, C)\n",
    "        \n",
    "        W = softmax_regression(X_train, y_train, W_init, eta=0.05)\n",
    "\n",
    "        acc, cr, cm = evaluate_model(W[-1], X_val, y_val)\n",
    "        \n",
    "        print(\"Dữ liệu\", method, \":\")\n",
    "        print(f\"Tỷ lệ: {int(train_ratio*10)}:{int((1-train_ratio)*10)}\")\n",
    "        print(f\"Accuracy: {acc}\")\n",
    "        print(f\"Confusion Matrix:\\n{cm}\")\n",
    "        print(f\"Classification Report:\\n{cr}\\n\")\n",
    "\n",
    "        results.append({\n",
    "            'method': method,\n",
    "            'train_ratio': f\"{int(train_ratio*10)}:{int((1-train_ratio)*10)}\",\n",
    "            'acc': acc,\n",
    "            'cr': cr,\n",
    "            'cm': cm\n",
    "        })\n",
    "\n",
    "    return results\n"
   ]
  },
  {
   "cell_type": "code",
   "execution_count": 98,
   "id": "599362a3",
   "metadata": {},
   "outputs": [
    {
     "name": "stdout",
     "output_type": "stream",
     "text": [
      "(2126, 22)\n",
      "(2126,)\n"
     ]
    }
   ],
   "source": [
    "print(X_scaled.shape)  # Kiểm tra kích thước của X\n",
    "print(y.shape)         # Kiểm tra kích thước của y\n"
   ]
  },
  {
   "cell_type": "code",
   "execution_count": 99,
   "id": "7ad74ef0",
   "metadata": {},
   "outputs": [
    {
     "name": "stdout",
     "output_type": "stream",
     "text": [
      "Dữ liệu gốc :\n",
      "Tỷ lệ: 8:1\n",
      "Accuracy: 0.8685446009389671\n",
      "Confusion Matrix:\n",
      "[[298  32   2]\n",
      " [  8  49   2]\n",
      " [  2  10  23]]\n",
      "Classification Report:\n",
      "              precision    recall  f1-score   support\n",
      "\n",
      "         0.0       0.97      0.90      0.93       332\n",
      "         1.0       0.54      0.83      0.65        59\n",
      "         2.0       0.85      0.66      0.74        35\n",
      "\n",
      "    accuracy                           0.87       426\n",
      "   macro avg       0.79      0.80      0.78       426\n",
      "weighted avg       0.90      0.87      0.88       426\n",
      "\n",
      "\n",
      "Dữ liệu gốc :\n",
      "Tỷ lệ: 7:3\n",
      "Accuracy: 0.8746081504702194\n",
      "Confusion Matrix:\n",
      "[[467  27   3]\n",
      " [ 31  48   9]\n",
      " [  2   8  43]]\n",
      "Classification Report:\n",
      "              precision    recall  f1-score   support\n",
      "\n",
      "         0.0       0.93      0.94      0.94       497\n",
      "         1.0       0.58      0.55      0.56        88\n",
      "         2.0       0.78      0.81      0.80        53\n",
      "\n",
      "    accuracy                           0.87       638\n",
      "   macro avg       0.76      0.77      0.76       638\n",
      "weighted avg       0.87      0.87      0.87       638\n",
      "\n",
      "\n",
      "Dữ liệu gốc :\n",
      "Tỷ lệ: 6:4\n",
      "Accuracy: 0.8836662749706228\n",
      "Confusion Matrix:\n",
      "[[627  34   2]\n",
      " [ 41  73   4]\n",
      " [  6  12  52]]\n",
      "Classification Report:\n",
      "              precision    recall  f1-score   support\n",
      "\n",
      "         0.0       0.93      0.95      0.94       663\n",
      "         1.0       0.61      0.62      0.62       118\n",
      "         2.0       0.90      0.74      0.81        70\n",
      "\n",
      "    accuracy                           0.88       851\n",
      "   macro avg       0.81      0.77      0.79       851\n",
      "weighted avg       0.88      0.88      0.88       851\n",
      "\n",
      "\n"
     ]
    }
   ],
   "source": [
    "results = softmax_pipeline(X_scaled, y, train_ratios=[0.8, 0.7, 0.6])"
   ]
  },
  {
   "cell_type": "code",
   "execution_count": 100,
   "id": "a24af47d",
   "metadata": {},
   "outputs": [
    {
     "name": "stdout",
     "output_type": "stream",
     "text": [
      "Mô hình tốt nhất: gốc với tỷ lệ huấn luyện 6:4\n",
      "Accuracy: 0.8836662749706228\n"
     ]
    }
   ],
   "source": [
    "# Tìm mô hình có accuracy cao nhất\n",
    "best_model = max(results, key=lambda x: x['acc'])\n",
    "\n",
    "# In ra kết quả của mô hình tốt nhất\n",
    "print(f\"Mô hình tốt nhất: {best_model['method']} với tỷ lệ huấn luyện {best_model['train_ratio']}\")\n",
    "print(f\"Accuracy: {best_model['acc']}\")\n"
   ]
  },
  {
   "cell_type": "code",
   "execution_count": 101,
   "id": "739219a2",
   "metadata": {},
   "outputs": [
    {
     "data": {
      "image/png": "[encoded data removed]",
      "text/plain": [
       "<Figure size 600x600 with 2 Axes>"
      ]
     },
     "metadata": {},
     "output_type": "display_data"
    }
   ],
   "source": [
    "conf_matrix_best = best_model['cm']\n",
    "plt.figure(figsize=(6, 6))\n",
    "sns.heatmap(conf_matrix_best, annot=True, fmt=\"d\", cmap=\"Blues\", \n",
    "            xticklabels=np.unique(y), yticklabels=np.unique(y))\n",
    "plt.title(\"Confusion Matrix (Dữ liệu gốc)\")\n",
    "plt.xlabel(\"Dự đoán\")\n",
    "plt.ylabel(\"Thực tế\")\n",
    "plt.show()"
   ]
  },
  {
   "cell_type": "markdown",
   "id": "d503e577",
   "metadata": {},
   "source": [
    "#### **Thực hiện với dữ liệu đã giảm chiều bằng PCA**"
   ]
  },
  {
   "cell_type": "code",
   "execution_count": 102,
   "id": "b13f4c19",
   "metadata": {},
   "outputs": [
    {
     "name": "stdout",
     "output_type": "stream",
     "text": [
      "Dữ liệu PCA-6 :\n",
      "Tỷ lệ: 8:1\n",
      "Accuracy: 0.8732394366197183\n",
      "Confusion Matrix:\n",
      "[[311  14   7]\n",
      " [ 17  40   2]\n",
      " [  1  13  21]]\n",
      "Classification Report:\n",
      "              precision    recall  f1-score   support\n",
      "\n",
      "         0.0       0.95      0.94      0.94       332\n",
      "         1.0       0.60      0.68      0.63        59\n",
      "         2.0       0.70      0.60      0.65        35\n",
      "\n",
      "    accuracy                           0.87       426\n",
      "   macro avg       0.75      0.74      0.74       426\n",
      "weighted avg       0.88      0.87      0.87       426\n",
      "\n",
      "\n",
      "Dữ liệu PCA-6 :\n",
      "Tỷ lệ: 7:3\n",
      "Accuracy: 0.8934169278996865\n",
      "Confusion Matrix:\n",
      "[[467  26   4]\n",
      " [ 20  66   2]\n",
      " [  5  11  37]]\n",
      "Classification Report:\n",
      "              precision    recall  f1-score   support\n",
      "\n",
      "         0.0       0.95      0.94      0.94       497\n",
      "         1.0       0.64      0.75      0.69        88\n",
      "         2.0       0.86      0.70      0.77        53\n",
      "\n",
      "    accuracy                           0.89       638\n",
      "   macro avg       0.82      0.80      0.80       638\n",
      "weighted avg       0.90      0.89      0.90       638\n",
      "\n",
      "\n",
      "Dữ liệu PCA-6 :\n",
      "Tỷ lệ: 6:4\n",
      "Accuracy: 0.882491186839013\n",
      "Confusion Matrix:\n",
      "[[631  20  12]\n",
      " [ 44  66   8]\n",
      " [  3  13  54]]\n",
      "Classification Report:\n",
      "              precision    recall  f1-score   support\n",
      "\n",
      "         0.0       0.93      0.95      0.94       663\n",
      "         1.0       0.67      0.56      0.61       118\n",
      "         2.0       0.73      0.77      0.75        70\n",
      "\n",
      "    accuracy                           0.88       851\n",
      "   macro avg       0.78      0.76      0.77       851\n",
      "weighted avg       0.88      0.88      0.88       851\n",
      "\n",
      "\n"
     ]
    }
   ],
   "source": [
    "results = softmax_pipeline(X_scaled, y, train_ratios=[0.8, 0.7, 0.6], use_pca=True, n_components=6)"
   ]
  },
  {
   "cell_type": "code",
   "execution_count": 103,
   "id": "a0b70c20",
   "metadata": {},
   "outputs": [
    {
     "name": "stdout",
     "output_type": "stream",
     "text": [
      "Mô hình tốt nhất: PCA-6 với tỷ lệ huấn luyện 7:3\n",
      "Accuracy: 0.8934169278996865\n"
     ]
    }
   ],
   "source": [
    "# Tìm mô hình có accuracy cao nhất\n",
    "best_model = max(results, key=lambda x: x['acc'])\n",
    "\n",
    "# In ra kết quả của mô hình tốt nhất\n",
    "print(f\"Mô hình tốt nhất: {best_model['method']} với tỷ lệ huấn luyện {best_model['train_ratio']}\")\n",
    "print(f\"Accuracy: {best_model['acc']}\")\n"
   ]
  },
  {
   "cell_type": "code",
   "execution_count": 104,
   "id": "9a578540",
   "metadata": {},
   "outputs": [
    {
     "data": {
      "image/png": "[encoded data removed]",
      "text/plain": [
       "<Figure size 600x600 with 2 Axes>"
      ]
     },
     "metadata": {},
     "output_type": "display_data"
    }
   ],
   "source": [
    "conf_matrix_best = best_model['cm']\n",
    "plt.figure(figsize=(6, 6))\n",
    "sns.heatmap(conf_matrix_best, annot=True, fmt=\"d\", cmap=\"Blues\", \n",
    "            xticklabels=np.unique(y), yticklabels=np.unique(y))\n",
    "plt.title(\"Confusion Matrix (PCA))\")\n",
    "plt.xlabel(\"Dự đoán\")\n",
    "plt.ylabel(\"Thực tế\")\n",
    "plt.show()"
   ]
  },
  {
   "cell_type": "markdown",
   "id": "f0ac7e62",
   "metadata": {},
   "source": [
    "#### **Thực hiện với dữ liệu đã giảm chiều bằng LDA**"
   ]
  },
  {
   "cell_type": "code",
   "execution_count": 105,
   "id": "085e04d2",
   "metadata": {},
   "outputs": [
    {
     "name": "stdout",
     "output_type": "stream",
     "text": [
      "Dữ liệu LDA-2 :\n",
      "Tỷ lệ: 8:1\n",
      "Accuracy: 0.892018779342723\n",
      "Confusion Matrix:\n",
      "[[315  14   3]\n",
      " [ 13  42   4]\n",
      " [  3   9  23]]\n",
      "Classification Report:\n",
      "              precision    recall  f1-score   support\n",
      "\n",
      "         0.0       0.95      0.95      0.95       332\n",
      "         1.0       0.65      0.71      0.68        59\n",
      "         2.0       0.77      0.66      0.71        35\n",
      "\n",
      "    accuracy                           0.89       426\n",
      "   macro avg       0.79      0.77      0.78       426\n",
      "weighted avg       0.89      0.89      0.89       426\n",
      "\n",
      "\n",
      "Dữ liệu LDA-2 :\n",
      "Tỷ lệ: 7:3\n",
      "Accuracy: 0.8887147335423198\n",
      "Confusion Matrix:\n",
      "[[478  17   2]\n",
      " [ 28  57   3]\n",
      " [  6  15  32]]\n",
      "Classification Report:\n",
      "              precision    recall  f1-score   support\n",
      "\n",
      "         0.0       0.93      0.96      0.95       497\n",
      "         1.0       0.64      0.65      0.64        88\n",
      "         2.0       0.86      0.60      0.71        53\n",
      "\n",
      "    accuracy                           0.89       638\n",
      "   macro avg       0.81      0.74      0.77       638\n",
      "weighted avg       0.89      0.89      0.89       638\n",
      "\n",
      "\n",
      "Dữ liệu LDA-2 :\n",
      "Tỷ lệ: 6:4\n",
      "Accuracy: 0.8918918918918919\n",
      "Confusion Matrix:\n",
      "[[642  18   3]\n",
      " [ 48  64   6]\n",
      " [  5  12  53]]\n",
      "Classification Report:\n",
      "              precision    recall  f1-score   support\n",
      "\n",
      "         0.0       0.92      0.97      0.95       663\n",
      "         1.0       0.68      0.54      0.60       118\n",
      "         2.0       0.85      0.76      0.80        70\n",
      "\n",
      "    accuracy                           0.89       851\n",
      "   macro avg       0.82      0.76      0.78       851\n",
      "weighted avg       0.88      0.89      0.89       851\n",
      "\n",
      "\n"
     ]
    }
   ],
   "source": [
    "results = softmax_pipeline(X_scaled, y, train_ratios=[0.8, 0.7, 0.6], use_lda=True, n_components=2)"
   ]
  },
  {
   "cell_type": "code",
   "execution_count": 106,
   "id": "3f7820c1",
   "metadata": {},
   "outputs": [
    {
     "name": "stdout",
     "output_type": "stream",
     "text": [
      "Mô hình tốt nhất: LDA-2 với tỷ lệ huấn luyện 8:1\n",
      "Accuracy: 0.892018779342723\n"
     ]
    }
   ],
   "source": [
    "# Tìm mô hình có accuracy cao nhất\n",
    "best_model = max(results, key=lambda x: x['acc'])\n",
    "\n",
    "# In ra kết quả của mô hình tốt nhất\n",
    "print(f\"Mô hình tốt nhất: {best_model['method']} với tỷ lệ huấn luyện {best_model['train_ratio']}\")\n",
    "print(f\"Accuracy: {best_model['acc']}\")\n"
   ]
  },
  {
   "cell_type": "code",
   "execution_count": 107,
   "id": "4e8bc3ae",
   "metadata": {},
   "outputs": [
    {
     "data": {
      "image/png": "[encoded data removed]",
      "text/plain": [
       "<Figure size 600x600 with 2 Axes>"
      ]
     },
     "metadata": {},
     "output_type": "display_data"
    }
   ],
   "source": [
    "conf_matrix_best = best_model['cm']\n",
    "plt.figure(figsize=(6, 6))\n",
    "sns.heatmap(conf_matrix_best, annot=True, fmt=\"d\", cmap=\"Blues\", \n",
    "            xticklabels=np.unique(y), yticklabels=np.unique(y))\n",
    "plt.title(\"Confusion Matrix (LDA)\")\n",
    "plt.xlabel(\"Dự đoán\")\n",
    "plt.ylabel(\"Thực tế\")\n",
    "plt.show()"
   ]
  },
  {
   "cell_type": "code",
   "execution_count": 108,
   "id": "692f7391",
   "metadata": {},
   "outputs": [
    {
     "name": "stdout",
     "output_type": "stream",
     "text": [
      "Kết quả LDA-2 với tỉ lệ 7:3\n",
      "Accuracy: 0.8887147335423198\n",
      "Confusion Matrix:\n",
      "[[478  17   2]\n",
      " [ 28  57   3]\n",
      " [  6  15  32]]\n",
      "Classification Report:\n",
      "              precision    recall  f1-score   support\n",
      "\n",
      "         0.0       0.93      0.96      0.95       497\n",
      "         1.0       0.64      0.65      0.64        88\n",
      "         2.0       0.86      0.60      0.71        53\n",
      "\n",
      "    accuracy                           0.89       638\n",
      "   macro avg       0.81      0.74      0.77       638\n",
      "weighted avg       0.89      0.89      0.89       638\n",
      "\n"
     ]
    }
   ],
   "source": [
    "for res in results:\n",
    "    if res['method'] == 'LDA-2' and res['train_ratio'] == '7:3':\n",
    "        print(\"Kết quả LDA-2 với tỉ lệ 7:3\")\n",
    "        print(f\"Accuracy: {res['acc']}\")\n",
    "        print(f\"Confusion Matrix:\\n{res['cm']}\")\n",
    "        print(f\"Classification Report:\\n{res['cr']}\")\n",
    "        conf_matrix = res['cm']"
   ]
  },
  {
   "cell_type": "code",
   "execution_count": 109,
   "id": "7ed19011",
   "metadata": {},
   "outputs": [
    {
     "data": {
      "image/png": "[encoded data removed]",
      "text/plain": [
       "<Figure size 600x600 with 2 Axes>"
      ]
     },
     "metadata": {},
     "output_type": "display_data"
    }
   ],
   "source": [
    "plt.figure(figsize=(6, 6))\n",
    "sns.heatmap(conf_matrix, annot=True, fmt=\"d\", cmap=\"Blues\", \n",
    "        xticklabels=np.unique(y), yticklabels=np.unique(y))\n",
    "plt.title(\"Confusion Matrix (LDA)\")\n",
    "plt.xlabel(\"Dự đoán\")\n",
    "plt.ylabel(\"Thực tế\")\n",
    "plt.show()"
   ]
  },
  {
   "cell_type": "markdown",
   "id": "f7a8d9ab",
   "metadata": {},
   "source": [
    "### **Chia trước giảm sau**"
   ]
  },
  {
   "cell_type": "code",
   "execution_count": 110,
   "id": "d1c5ffe4",
   "metadata": {},
   "outputs": [],
   "source": [
    "def softmax_pipeline(X, y, train_ratios=[0.8, 0.7, 0.6], use_pca=False, use_lda=False, n_components=None, lam=0):\n",
    "    results = []\n",
    "\n",
    "    for train_ratio in train_ratios:\n",
    "        method = \"gốc\"\n",
    "        \n",
    "        # Chia dữ liệu train/test trước khi giảm chiều\n",
    "        X_train, X_val, y_train, y_val = train_test_split(\n",
    "            X, y, train_size=train_ratio, stratify=y, random_state=42)\n",
    "\n",
    "        # Giảm chiều \n",
    "        if use_pca:\n",
    "            method = f\"PCA-{n_components}\"\n",
    "            pca = PCA(n_components=n_components)\n",
    "            X_train = pca.fit_transform(X_train)\n",
    "            X_val = pca.transform(X_val)\n",
    "        elif use_lda:\n",
    "            method = f\"LDA-{n_components}\"\n",
    "            lda = LDA(n_components=n_components)\n",
    "            X_train = lda.fit_transform(X_train, y_train)\n",
    "            X_val = lda.transform(X_val)\n",
    "\n",
    "        # Thêm bias\n",
    "        X_train = np.concatenate((np.ones((X_train.shape[0], 1)), X_train), axis=1).T\n",
    "        X_val = np.concatenate((np.ones((X_val.shape[0], 1)), X_val), axis=1).T\n",
    "\n",
    "        d = X_train.shape[0]\n",
    "        C = len(np.unique(y))\n",
    "        W_init = np.random.randn(d, C)\n",
    "\n",
    "        # Huấn luyện mô hình\n",
    "        W = softmax_regression(X_train, y_train, W_init, eta=0.05)\n",
    "\n",
    "        # Đánh giá\n",
    "        acc, cr, cm = evaluate_model(W[-1], X_val, y_val)\n",
    "\n",
    "        print(\"Dữ liệu\", method, \":\")\n",
    "        print(f\"Tỷ lệ: {int(train_ratio*10)}:{int((1-train_ratio)*10)}\")\n",
    "        print(f\"Accuracy: {acc}\")\n",
    "        print(f\"Confusion Matrix:\\n{cm}\")\n",
    "        print(f\"Classification Report:\\n{cr}\\n\")\n",
    "\n",
    "        results.append({\n",
    "            'method': method,\n",
    "            'train_ratio': f\"{int(train_ratio*10)}:{int((1-train_ratio)*10)}\",\n",
    "            'acc': acc,\n",
    "            'cr': cr,\n",
    "            'cm': cm\n",
    "        })\n",
    "\n",
    "    return results\n"
   ]
  },
  {
   "cell_type": "markdown",
   "id": "fc279388",
   "metadata": {},
   "source": [
    "#### **Thực hiện trên tập dữ liệu giảm chiều bằng PCA**"
   ]
  },
  {
   "cell_type": "code",
   "execution_count": 111,
   "id": "a211633d",
   "metadata": {},
   "outputs": [
    {
     "name": "stdout",
     "output_type": "stream",
     "text": [
      "Dữ liệu PCA-6 :\n",
      "Tỷ lệ: 8:1\n",
      "Accuracy: 0.863849765258216\n",
      "Confusion Matrix:\n",
      "[[319   8   5]\n",
      " [ 29  23   7]\n",
      " [  5   4  26]]\n",
      "Classification Report:\n",
      "              precision    recall  f1-score   support\n",
      "\n",
      "         0.0       0.90      0.96      0.93       332\n",
      "         1.0       0.66      0.39      0.49        59\n",
      "         2.0       0.68      0.74      0.71        35\n",
      "\n",
      "    accuracy                           0.86       426\n",
      "   macro avg       0.75      0.70      0.71       426\n",
      "weighted avg       0.85      0.86      0.85       426\n",
      "\n",
      "\n",
      "Dữ liệu PCA-6 :\n",
      "Tỷ lệ: 7:3\n",
      "Accuracy: 0.8934169278996865\n",
      "Confusion Matrix:\n",
      "[[477  18   2]\n",
      " [ 26  59   3]\n",
      " [  5  14  34]]\n",
      "Classification Report:\n",
      "              precision    recall  f1-score   support\n",
      "\n",
      "         0.0       0.94      0.96      0.95       497\n",
      "         1.0       0.65      0.67      0.66        88\n",
      "         2.0       0.87      0.64      0.74        53\n",
      "\n",
      "    accuracy                           0.89       638\n",
      "   macro avg       0.82      0.76      0.78       638\n",
      "weighted avg       0.89      0.89      0.89       638\n",
      "\n",
      "\n",
      "Dữ liệu PCA-6 :\n",
      "Tỷ lệ: 6:4\n",
      "Accuracy: 0.881316098707403\n",
      "Confusion Matrix:\n",
      "[[616  41   6]\n",
      " [ 27  81  10]\n",
      " [  6  11  53]]\n",
      "Classification Report:\n",
      "              precision    recall  f1-score   support\n",
      "\n",
      "         0.0       0.95      0.93      0.94       663\n",
      "         1.0       0.61      0.69      0.65       118\n",
      "         2.0       0.77      0.76      0.76        70\n",
      "\n",
      "    accuracy                           0.88       851\n",
      "   macro avg       0.78      0.79      0.78       851\n",
      "weighted avg       0.89      0.88      0.88       851\n",
      "\n",
      "\n"
     ]
    }
   ],
   "source": [
    "results = softmax_pipeline(X_scaled, y, train_ratios=[0.8, 0.7, 0.6], use_pca=True, n_components=6)"
   ]
  },
  {
   "cell_type": "code",
   "execution_count": 112,
   "id": "f335b5b3",
   "metadata": {},
   "outputs": [
    {
     "name": "stdout",
     "output_type": "stream",
     "text": [
      "Mô hình tốt nhất: PCA-6 với tỷ lệ huấn luyện 7:3\n",
      "Accuracy: 0.8934169278996865\n"
     ]
    }
   ],
   "source": [
    "# Tìm mô hình có accuracy cao nhất\n",
    "best_model = max(results, key=lambda x: x['acc'])\n",
    "\n",
    "# In ra kết quả của mô hình tốt nhất\n",
    "print(f\"Mô hình tốt nhất: {best_model['method']} với tỷ lệ huấn luyện {best_model['train_ratio']}\")\n",
    "print(f\"Accuracy: {best_model['acc']}\")\n"
   ]
  },
  {
   "cell_type": "code",
   "execution_count": 113,
   "id": "1547b675",
   "metadata": {},
   "outputs": [
    {
     "data": {
      "image/png": "[encoded data removed]",
      "text/plain": [
       "<Figure size 600x600 with 2 Axes>"
      ]
     },
     "metadata": {},
     "output_type": "display_data"
    }
   ],
   "source": [
    "conf_matrix_best = best_model['cm']\n",
    "plt.figure(figsize=(6, 6))\n",
    "sns.heatmap(conf_matrix_best, annot=True, fmt=\"d\", cmap=\"Blues\", \n",
    "            xticklabels=np.unique(y), yticklabels=np.unique(y))\n",
    "plt.title(\"Confusion Matrix (PCA))\")\n",
    "plt.xlabel(\"Dự đoán\")\n",
    "plt.ylabel(\"Thực tế\")\n",
    "plt.show()"
   ]
  },
  {
   "cell_type": "markdown",
   "id": "9b8ea6ad",
   "metadata": {},
   "source": [
    "#### **Thực hiện với dữ liệu đã giảm chiều bằng LDA**"
   ]
  },
  {
   "cell_type": "code",
   "execution_count": 114,
   "id": "9b458282",
   "metadata": {},
   "outputs": [
    {
     "name": "stdout",
     "output_type": "stream",
     "text": [
      "Dữ liệu LDA-2 :\n",
      "Tỷ lệ: 8:1\n",
      "Accuracy: 0.8873239436619719\n",
      "Confusion Matrix:\n",
      "[[322   8   2]\n",
      " [ 20  35   4]\n",
      " [  3  11  21]]\n",
      "Classification Report:\n",
      "              precision    recall  f1-score   support\n",
      "\n",
      "         0.0       0.93      0.97      0.95       332\n",
      "         1.0       0.65      0.59      0.62        59\n",
      "         2.0       0.78      0.60      0.68        35\n",
      "\n",
      "    accuracy                           0.89       426\n",
      "   macro avg       0.79      0.72      0.75       426\n",
      "weighted avg       0.88      0.89      0.88       426\n",
      "\n",
      "\n",
      "Dữ liệu LDA-2 :\n",
      "Tỷ lệ: 7:3\n",
      "Accuracy: 0.8730407523510971\n",
      "Confusion Matrix:\n",
      "[[474  21   2]\n",
      " [ 29  55   4]\n",
      " [  6  19  28]]\n",
      "Classification Report:\n",
      "              precision    recall  f1-score   support\n",
      "\n",
      "         0.0       0.93      0.95      0.94       497\n",
      "         1.0       0.58      0.62      0.60        88\n",
      "         2.0       0.82      0.53      0.64        53\n",
      "\n",
      "    accuracy                           0.87       638\n",
      "   macro avg       0.78      0.70      0.73       638\n",
      "weighted avg       0.87      0.87      0.87       638\n",
      "\n",
      "\n",
      "Dữ liệu LDA-2 :\n",
      "Tỷ lệ: 6:4\n",
      "Accuracy: 0.8942420681551116\n",
      "Confusion Matrix:\n",
      "[[641  18   4]\n",
      " [ 42  65  11]\n",
      " [  5  10  55]]\n",
      "Classification Report:\n",
      "              precision    recall  f1-score   support\n",
      "\n",
      "         0.0       0.93      0.97      0.95       663\n",
      "         1.0       0.70      0.55      0.62       118\n",
      "         2.0       0.79      0.79      0.79        70\n",
      "\n",
      "    accuracy                           0.89       851\n",
      "   macro avg       0.81      0.77      0.78       851\n",
      "weighted avg       0.89      0.89      0.89       851\n",
      "\n",
      "\n"
     ]
    }
   ],
   "source": [
    "results = softmax_pipeline(X_scaled, y, train_ratios=[0.8, 0.7, 0.6], use_lda=True, n_components=2)"
   ]
  },
  {
   "cell_type": "code",
   "execution_count": 115,
   "id": "b0ede907",
   "metadata": {},
   "outputs": [
    {
     "name": "stdout",
     "output_type": "stream",
     "text": [
      "Mô hình tốt nhất: LDA-2 với tỷ lệ huấn luyện 6:4\n",
      "Accuracy: 0.8942420681551116\n"
     ]
    }
   ],
   "source": [
    "# Tìm mô hình có accuracy cao nhất\n",
    "best_model = max(results, key=lambda x: x['acc'])\n",
    "\n",
    "# In ra kết quả của mô hình tốt nhất\n",
    "print(f\"Mô hình tốt nhất: {best_model['method']} với tỷ lệ huấn luyện {best_model['train_ratio']}\")\n",
    "print(f\"Accuracy: {best_model['acc']}\")\n"
   ]
  },
  {
   "cell_type": "code",
   "execution_count": 116,
   "id": "315dca50",
   "metadata": {},
   "outputs": [
    {
     "data": {
      "image/png": "[encoded data removed]",
      "text/plain": [
       "<Figure size 600x600 with 2 Axes>"
      ]
     },
     "metadata": {},
     "output_type": "display_data"
    }
   ],
   "source": [
    "conf_matrix_best = best_model['cm']\n",
    "plt.figure(figsize=(6, 6))\n",
    "sns.heatmap(conf_matrix_best, annot=True, fmt=\"d\", cmap=\"Blues\", \n",
    "            xticklabels=np.unique(y), yticklabels=np.unique(y))\n",
    "plt.title(\"Confusion Matrix (LDA)\")\n",
    "plt.xlabel(\"Dự đoán\")\n",
    "plt.ylabel(\"Thực tế\")\n",
    "plt.show()"
   ]
  },
  {
   "cell_type": "markdown",
   "id": "fb1797f2",
   "metadata": {},
   "source": [
    "## Tổng hợp"
   ]
  },
  {
   "cell_type": "markdown",
   "id": "a3aac989",
   "metadata": {},
   "source": [
    "Dữ liệu gốc :\n",
    "\n",
    "| Tỷ lệ | Accuracy | Macro F1-score | Nhận xét chính                                  |\n",
    "|-------|----------|----------------|-------------------------------------------------|\n",
    "| 8:10  | 0.869    | 0.78           | Lớp 1 và 2 vẫn yếu; mất cân bằng gây ảnh hưởng |\n",
    "| 7:30  | 0.875    | 0.76           | Độ chính xác tốt, nhưng precision/recall lớp 1 thấp |\n",
    "| 6:40  | 0.884    | 0.79           | Độ chính xác cao nhất trong ba; macro F1 cải thiện |\n",
    "\n",
    "\n",
    "PCA-6 (Giảm trước chia sau): \n",
    "\n",
    "| Tỷ lệ | Accuracy | Macro F1-score | Nhận xét chính                                                 |\n",
    "|-------|----------|----------------|-----------------------------------------------------------------|\n",
    "| 8:10  | 0.873    | 0.74           | Lớp 2 yếu hơn so với gốc, nhưng lớp 0 giữ ổn                     |\n",
    "| 7:30  | 0.893    | 0.80           | Kết quả nổi bật, cao hơn dữ liệu gốc                            |\n",
    "| 6:40  | 0.882    | 0.77           | Tốt, khá gần với gốc, PCA không làm giảm đáng kể tương tự với cái này |\n",
    "\n",
    "LDA-2 (Giảm trước chia sau):\n",
    "\n",
    "| Tỷ lệ | Accuracy | Macro F1-score | Nhận xét chính                                      |\n",
    "|-------|----------|----------------|------------------------------------------------------|\n",
    "| 8:10  | 0.892    | 0.78           | Precision/Recall lớp 1 và 2 cải thiện rõ rệt         |\n",
    "| 7:30  | 0.889    | 0.77           | Macro F1 giảm nhẹ, nhưng lớp 0 vẫn rất tốt          |\n",
    "| 6:40  | 0.892    | 0.78           | Tổng thể ổn định, kết quả rất cân bằng tương tự bảng này |\n",
    "\n",
    "PCA-6 (Chia trước giảm sau):\n",
    "\n",
    "| Tỷ lệ | Accuracy | Macro F1-score | Nhận xét chính                                                    |\n",
    "|-------|----------|----------------|--------------------------------------------------------------------|\n",
    "| 8:10  | 0.864    | 0.71           | Lớp 1 rất yếu (recall chỉ 0.39), ảnh hưởng nặng                    |\n",
    "| 7:30  | 0.893    | 0.78           | Tương đương giảm trước chia sau => PCA ổn nếu data đủ               |\n",
    "| 6:40  | 0.881    | 0.78           | Vẫn ổn, lớp 1 tốt hơn so với 8:1 tương tự bảng này                |\n",
    "\n",
    "LDA-2 (Chia trước giảm sau):\n",
    "| Tỷ lệ Train:Test | Accuracy | Macro F1-score | Nhận xét chính                                                        |\n",
    "|-----------------|----------|----------------|------------------------------------------------------------------------|\n",
    "| 8:10            | 0.886    | 0.79           | Cân bằng tốt hai lớp, recall và precision đều khá ổn                    |\n",
    "| 7:30            | 0.882    | 0.78           | Kết quả ổn định, không kém PCA, tốt cho dữ liệu có đủ phân bố          |\n",
    "| 6:40            | 0.885    | 0.78           | Lớp 1 vẫn giữ được chất lượng phân loại khá, không bị mất cân bằng quá nhiều |\n",
    "\n"
   ]
  },
  {
   "cell_type": "markdown",
   "id": "8d6b277e",
   "metadata": {},
   "source": [
    "| Giảm chiều   | Cách chia     | Số chiều | Tỷ lệ Train:Test | Accuracy |\n",
    "|---------------|--------------|----------|-----------------|----------|\n",
    "| Không giảm    | Gốc          | -        | 8:1             | 0.8685   |\n",
    "| Không giảm    | Gốc          | -        | 7:3             | 0.8746   |\n",
    "| Không giảm    | Gốc          | -        | 6:4             | 0.8837   |\n",
    "| PCA           | Giảm trước   | 6        | 8:1             | 0.8732   |\n",
    "| PCA           | Giảm trước   | 6        | 7:3             | 0.8934   |\n",
    "| PCA           | Giảm trước   | 6        | 6:4             | 0.8825   |\n",
    "| LDA           | Giảm trước   | 2        | 8:1             | 0.8920   |\n",
    "| LDA           | Giảm trước   | 2        | 7:3             | 0.8887   |\n",
    "| LDA           | Giảm trước   | 2        | 6:4             | 0.8919   |\n",
    "| PCA           | Chia trước    | 6        | 8:1             | 0.8638   |\n",
    "| PCA           | Chia trước    | 6        | 7:3             | 0.8934   |\n",
    "| PCA           | Chia trước    | 6        | 6:4             | 0.8813   |\n",
    "| LDA           | Chia trước    | 2        | 8:1             | 0.8859   |\n",
    "| LDA           | Chia trước    | 2        | 7:3             | 0.8824   |\n",
    "| LDA           | Chia trước    | 2        | 6:4             | 0.8850   |"
   ]
  }
 ],
 "metadata": {
  "kernelspec": {
   "display_name": "myenv",
   "language": "python",
   "name": "python3"
  },
  "language_info": {
   "codemirror_mode": {
    "name": "ipython",
    "version": 3
   },
   "file_extension": ".py",
   "mimetype": "text/x-python",
   "name": "python",
   "nbconvert_exporter": "python",
   "pygments_lexer": "ipython3",
   "version": "3.12.7"
  }
 },
 "nbformat": 4,
 "nbformat_minor": 5
}
