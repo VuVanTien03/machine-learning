{
 "cells": [
  {
   "cell_type": "markdown",
   "id": "420459f8",
   "metadata": {},
   "source": [
    "## **Mô hình Softmax Regression**"
   ]
  },
  {
   "cell_type": "markdown",
   "id": "e7b024f1",
   "metadata": {},
   "source": [
    "## **Import các thư viện cần thiết**"
   ]
  },
  {
   "cell_type": "code",
   "execution_count": 922,
   "id": "8298bcc8",
   "metadata": {},
   "outputs": [],
   "source": [
    "import pandas as pd\n",
    "import numpy as np\n",
    "import matplotlib.pyplot as plt\n",
    "import seaborn as sns\n",
    "from sklearn.preprocessing import StandardScaler\n",
    "from scipy import sparse\n",
    "from sklearn.decomposition import PCA\n",
    "from sklearn.discriminant_analysis import LinearDiscriminantAnalysis as LDA\n",
    "from sklearn.model_selection import train_test_split\n",
    "from sklearn.metrics import accuracy_score, classification_report, confusion_matrix\n"
   ]
  },
  {
   "cell_type": "markdown",
   "id": "9ebf9fbb",
   "metadata": {},
   "source": [
    "## **Dữ liệu**"
   ]
  },
  {
   "cell_type": "code",
   "execution_count": 923,
   "id": "d2f822ef",
   "metadata": {},
   "outputs": [
    {
     "data": {
      "text/html": [
       "<div>\n",
       "<style scoped>\n",
       "    .dataframe tbody tr th:only-of-type {\n",
       "        vertical-align: middle;\n",
       "    }\n",
       "\n",
       "    .dataframe tbody tr th {\n",
       "        vertical-align: top;\n",
       "    }\n",
       "\n",
       "    .dataframe thead th {\n",
       "        text-align: right;\n",
       "    }\n",
       "</style>\n",
       "<table border=\"1\" class=\"dataframe\">\n",
       "  <thead>\n",
       "    <tr style=\"text-align: right;\">\n",
       "      <th></th>\n",
       "      <th>LB</th>\n",
       "      <th>AC</th>\n",
       "      <th>FM</th>\n",
       "      <th>UC</th>\n",
       "      <th>DL</th>\n",
       "      <th>DS</th>\n",
       "      <th>DP</th>\n",
       "      <th>ASTV</th>\n",
       "      <th>MSTV</th>\n",
       "      <th>ALTV</th>\n",
       "      <th>...</th>\n",
       "      <th>Min</th>\n",
       "      <th>Max</th>\n",
       "      <th>Nmax</th>\n",
       "      <th>Nzeros</th>\n",
       "      <th>Mode</th>\n",
       "      <th>Mean</th>\n",
       "      <th>Median</th>\n",
       "      <th>Variance</th>\n",
       "      <th>Tendency</th>\n",
       "      <th>NSP</th>\n",
       "    </tr>\n",
       "  </thead>\n",
       "  <tbody>\n",
       "    <tr>\n",
       "      <th>0</th>\n",
       "      <td>120.0</td>\n",
       "      <td>0.0</td>\n",
       "      <td>0.0</td>\n",
       "      <td>0.0</td>\n",
       "      <td>0.0</td>\n",
       "      <td>0.0</td>\n",
       "      <td>0.0</td>\n",
       "      <td>73.0</td>\n",
       "      <td>0.5</td>\n",
       "      <td>43.0</td>\n",
       "      <td>...</td>\n",
       "      <td>62.0</td>\n",
       "      <td>126.0</td>\n",
       "      <td>2.0</td>\n",
       "      <td>0.0</td>\n",
       "      <td>120.0</td>\n",
       "      <td>137.0</td>\n",
       "      <td>121.0</td>\n",
       "      <td>73.0</td>\n",
       "      <td>1.0</td>\n",
       "      <td>2.0</td>\n",
       "    </tr>\n",
       "    <tr>\n",
       "      <th>1</th>\n",
       "      <td>132.0</td>\n",
       "      <td>4.0</td>\n",
       "      <td>0.0</td>\n",
       "      <td>4.0</td>\n",
       "      <td>2.0</td>\n",
       "      <td>0.0</td>\n",
       "      <td>0.0</td>\n",
       "      <td>17.0</td>\n",
       "      <td>2.1</td>\n",
       "      <td>0.0</td>\n",
       "      <td>...</td>\n",
       "      <td>68.0</td>\n",
       "      <td>198.0</td>\n",
       "      <td>6.0</td>\n",
       "      <td>1.0</td>\n",
       "      <td>141.0</td>\n",
       "      <td>136.0</td>\n",
       "      <td>140.0</td>\n",
       "      <td>12.0</td>\n",
       "      <td>0.0</td>\n",
       "      <td>1.0</td>\n",
       "    </tr>\n",
       "    <tr>\n",
       "      <th>2</th>\n",
       "      <td>133.0</td>\n",
       "      <td>2.0</td>\n",
       "      <td>0.0</td>\n",
       "      <td>5.0</td>\n",
       "      <td>2.0</td>\n",
       "      <td>0.0</td>\n",
       "      <td>0.0</td>\n",
       "      <td>16.0</td>\n",
       "      <td>2.1</td>\n",
       "      <td>0.0</td>\n",
       "      <td>...</td>\n",
       "      <td>68.0</td>\n",
       "      <td>198.0</td>\n",
       "      <td>5.0</td>\n",
       "      <td>1.0</td>\n",
       "      <td>141.0</td>\n",
       "      <td>135.0</td>\n",
       "      <td>138.0</td>\n",
       "      <td>13.0</td>\n",
       "      <td>0.0</td>\n",
       "      <td>1.0</td>\n",
       "    </tr>\n",
       "    <tr>\n",
       "      <th>3</th>\n",
       "      <td>134.0</td>\n",
       "      <td>2.0</td>\n",
       "      <td>0.0</td>\n",
       "      <td>6.0</td>\n",
       "      <td>2.0</td>\n",
       "      <td>0.0</td>\n",
       "      <td>0.0</td>\n",
       "      <td>16.0</td>\n",
       "      <td>2.4</td>\n",
       "      <td>0.0</td>\n",
       "      <td>...</td>\n",
       "      <td>53.0</td>\n",
       "      <td>170.0</td>\n",
       "      <td>11.0</td>\n",
       "      <td>0.0</td>\n",
       "      <td>137.0</td>\n",
       "      <td>134.0</td>\n",
       "      <td>137.0</td>\n",
       "      <td>13.0</td>\n",
       "      <td>1.0</td>\n",
       "      <td>1.0</td>\n",
       "    </tr>\n",
       "    <tr>\n",
       "      <th>4</th>\n",
       "      <td>132.0</td>\n",
       "      <td>4.0</td>\n",
       "      <td>0.0</td>\n",
       "      <td>5.0</td>\n",
       "      <td>0.0</td>\n",
       "      <td>0.0</td>\n",
       "      <td>0.0</td>\n",
       "      <td>16.0</td>\n",
       "      <td>2.4</td>\n",
       "      <td>0.0</td>\n",
       "      <td>...</td>\n",
       "      <td>53.0</td>\n",
       "      <td>170.0</td>\n",
       "      <td>9.0</td>\n",
       "      <td>0.0</td>\n",
       "      <td>137.0</td>\n",
       "      <td>136.0</td>\n",
       "      <td>138.0</td>\n",
       "      <td>11.0</td>\n",
       "      <td>1.0</td>\n",
       "      <td>1.0</td>\n",
       "    </tr>\n",
       "  </tbody>\n",
       "</table>\n",
       "<p>5 rows × 22 columns</p>\n",
       "</div>"
      ],
      "text/plain": [
       "      LB   AC   FM   UC   DL   DS   DP  ASTV  MSTV  ALTV  ...   Min    Max  \\\n",
       "0  120.0  0.0  0.0  0.0  0.0  0.0  0.0  73.0   0.5  43.0  ...  62.0  126.0   \n",
       "1  132.0  4.0  0.0  4.0  2.0  0.0  0.0  17.0   2.1   0.0  ...  68.0  198.0   \n",
       "2  133.0  2.0  0.0  5.0  2.0  0.0  0.0  16.0   2.1   0.0  ...  68.0  198.0   \n",
       "3  134.0  2.0  0.0  6.0  2.0  0.0  0.0  16.0   2.4   0.0  ...  53.0  170.0   \n",
       "4  132.0  4.0  0.0  5.0  0.0  0.0  0.0  16.0   2.4   0.0  ...  53.0  170.0   \n",
       "\n",
       "   Nmax  Nzeros   Mode   Mean  Median  Variance  Tendency  NSP  \n",
       "0   2.0     0.0  120.0  137.0   121.0      73.0       1.0  2.0  \n",
       "1   6.0     1.0  141.0  136.0   140.0      12.0       0.0  1.0  \n",
       "2   5.0     1.0  141.0  135.0   138.0      13.0       0.0  1.0  \n",
       "3  11.0     0.0  137.0  134.0   137.0      13.0       1.0  1.0  \n",
       "4   9.0     0.0  137.0  136.0   138.0      11.0       1.0  1.0  \n",
       "\n",
       "[5 rows x 22 columns]"
      ]
     },
     "execution_count": 923,
     "metadata": {},
     "output_type": "execute_result"
    }
   ],
   "source": [
    "df = pd.read_csv(\"../data/data_processed/data_processed.csv\")\n",
    "df.head()"
   ]
  },
  {
   "cell_type": "markdown",
   "id": "8feac1fd",
   "metadata": {},
   "source": [
    "## **Xây dựng Softmax Regression**"
   ]
  },
  {
   "cell_type": "code",
   "execution_count": 924,
   "id": "694757c6",
   "metadata": {},
   "outputs": [],
   "source": [
    "# Tách đặc trưng và nhãn\n",
    "X = df.drop(columns=[\"NSP\"]).values\n",
    "# Nhãn: chuyển về 0, 1, 2\n",
    "y = df[\"NSP\"].values - 1 \n",
    "\n",
    "# Chuẩn hóa đặc trưng\n",
    "scaler = StandardScaler()\n",
    "X_scaled = scaler.fit_transform(X)\n",
    "C = len(np.unique(y))\n"
   ]
  },
  {
   "cell_type": "code",
   "execution_count": 925,
   "id": "dbf4d73d",
   "metadata": {},
   "outputs": [],
   "source": [
    "def convert_labels(y, C):\n",
    "    Y = sparse.coo_matrix((np.ones_like(y), (y, np.arange(len(y)))), shape=(C, len(y))).toarray()\n",
    "    return Y\n",
    "\n",
    "def softmax_stable(Z):\n",
    "    e_Z = np.exp(Z - np.max(Z, axis=0, keepdims=True))\n",
    "    return e_Z / e_Z.sum(axis=0)\n",
    "\n",
    "def softmax(Z):\n",
    "    e_Z = np.exp(Z)\n",
    "    return e_Z / e_Z.sum(axis=0)\n",
    "\n",
    "def softmax_regression(X, y, W_init, eta=0.05, tol=1e-4, max_count=10000):\n",
    "    W = [W_init]\n",
    "    C = W_init.shape[1]\n",
    "    Y = convert_labels(y, C)\n",
    "    N = X.shape[1]\n",
    "    d = X.shape[0]\n",
    "\n",
    "    count = 0\n",
    "    check_w_after = 1500\n",
    "    while count < max_count:\n",
    "        mix_id = np.random.permutation(N)\n",
    "        for i in mix_id:\n",
    "            xi = X[:, i].reshape(d, 1)\n",
    "            yi = Y[:, i].reshape(C, 1)\n",
    "            ai = softmax(np.dot(W[-1].T, xi))\n",
    "            W_new = W[-1] + eta * xi.dot((yi - ai).T)\n",
    "            count += 1\n",
    "            if count % check_w_after == 0:\n",
    "                if np.linalg.norm(W_new - W[-check_w_after]) < tol:\n",
    "                    return W\n",
    "            W.append(W_new)\n",
    "    return W\n",
    "\n",
    "def pred(W, X):\n",
    "    A = softmax_stable(W.T.dot(X))\n",
    "    return np.argmax(A, axis=0)"
   ]
  },
  {
   "cell_type": "code",
   "execution_count": 926,
   "id": "40f1ddde",
   "metadata": {},
   "outputs": [],
   "source": [
    "def evaluate_model(y_test, y_pred):\n",
    "    acc = accuracy_score(y_test, y_pred)\n",
    "    cr = classification_report(y_test, y_pred)\n",
    "    cm = confusion_matrix(y_test, y_pred)\n",
    "    return acc, cr, cm\n"
   ]
  },
  {
   "cell_type": "markdown",
   "id": "1f71284f",
   "metadata": {},
   "source": [
    "## **Triển khai Softmax Regression với nhiều tỷ lệ train/validation: 4:1; 7:3; 6:4**"
   ]
  },
  {
   "cell_type": "markdown",
   "id": "f7c0bc70",
   "metadata": {},
   "source": [
    "### **Giảm trước chia sau**"
   ]
  },
  {
   "cell_type": "code",
   "execution_count": 927,
   "id": "189a8b5c",
   "metadata": {},
   "outputs": [],
   "source": [
    "def softmax_pipeline(X, y, train_ratios=[0.8, 0.7, 0.6], use_pca=False, use_lda=False, n_components=None, lam=0):\n",
    "    results = []\n",
    "    \n",
    "    ratio_labels = {\n",
    "        0.8: \"4:1\",\n",
    "        0.7: \"7:3\", \n",
    "        0.6: \"6:4\"\n",
    "    }\n",
    "\n",
    "    for train_ratio in train_ratios:\n",
    "        method = \"gốc\"\n",
    "        X_temp = X.copy()\n",
    "        \n",
    "        # Áp dụng PCA/LDA trước khi chia tập\n",
    "        if use_pca:\n",
    "            method = \"PCA\"\n",
    "            pca = PCA(n_components=n_components)\n",
    "            X_temp = pca.fit_transform(X_temp)\n",
    "        elif use_lda:\n",
    "            method = \"LDA\"\n",
    "            lda = LDA(n_components=min(n_components, len(np.unique(y))-1))\n",
    "            X_temp = lda.fit_transform(X_temp, y)\n",
    "\n",
    "        # Chia tập train/test\n",
    "        X_train, X_val, y_train, y_val = train_test_split(\n",
    "            X_temp, y, \n",
    "            train_size=train_ratio, \n",
    "            stratify=y,\n",
    "            random_state=42\n",
    "        )\n",
    "        \n",
    "        # Thêm bias term sau khi chia\n",
    "        X_train = np.hstack([np.ones((X_train.shape[0], 1)), X_train])\n",
    "        X_val = np.hstack([np.ones((X_val.shape[0], 1)), X_val])\n",
    "        \n",
    "        # Chuyển đổi sang dạng cột\n",
    "        X_train_T = X_train.T\n",
    "        X_val_T = X_val.T\n",
    "        \n",
    "        # Khởi tạo trọng số\n",
    "        d = X_train_T.shape[0]\n",
    "        C = len(np.unique(y))\n",
    "        W_init = np.random.randn(d, C)\n",
    "        \n",
    "        # Huấn luyện mô hình\n",
    "        W = softmax_regression(X_train_T, y_train, W_init)[-1]\n",
    "        \n",
    "        # Dự đoán và đánh giá\n",
    "        y_pred = pred(W, X_val_T)\n",
    "        acc, cr, cm = evaluate_model(y_val, y_pred)\n",
    "        \n",
    "        # Lưu kết quả\n",
    "        ratio_str = ratio_labels.get(train_ratio, f\"{train_ratio*100:.0f}:{(1-train_ratio)*100:.0f}\")\n",
    "        \n",
    "        print(f\"\\nMô hình Softmax Regression với dữ liệu {method}:\")\n",
    "        print(f\"Tỷ lệ {ratio_str}\")\n",
    "        print(f\"Accuracy: {acc:.4f}\")\n",
    "        print(\"Classification Report:\")\n",
    "        print(cr)\n",
    "        \n",
    "        results.append({\n",
    "            'method': method,\n",
    "            'train_ratio': ratio_str,\n",
    "            'accuracy': acc,\n",
    "            'report': cr,\n",
    "            'confusion_matrix': cm\n",
    "        })\n",
    "    \n",
    "    return results"
   ]
  },
  {
   "cell_type": "code",
   "execution_count": 928,
   "id": "599362a3",
   "metadata": {},
   "outputs": [
    {
     "name": "stdout",
     "output_type": "stream",
     "text": [
      "(2126, 21)\n",
      "(2126,)\n"
     ]
    }
   ],
   "source": [
    "print(X_scaled.shape)  # Kiểm tra kích thước của X\n",
    "print(y.shape)         # Kiểm tra kích thước của y\n"
   ]
  },
  {
   "cell_type": "code",
   "execution_count": 1184,
   "id": "7ad74ef0",
   "metadata": {},
   "outputs": [
    {
     "name": "stdout",
     "output_type": "stream",
     "text": [
      "\n",
      "Mô hình Softmax Regression với dữ liệu gốc:\n",
      "Tỷ lệ 4:1\n",
      "Accuracy: 0.8592\n",
      "Classification Report:\n",
      "              precision    recall  f1-score   support\n",
      "\n",
      "         0.0       0.97      0.90      0.93       332\n",
      "         1.0       0.52      0.83      0.64        59\n",
      "         2.0       0.83      0.54      0.66        35\n",
      "\n",
      "    accuracy                           0.86       426\n",
      "   macro avg       0.77      0.76      0.74       426\n",
      "weighted avg       0.89      0.86      0.87       426\n",
      "\n",
      "\n",
      "Mô hình Softmax Regression với dữ liệu gốc:\n",
      "Tỷ lệ 7:3\n",
      "Accuracy: 0.8918\n",
      "Classification Report:\n",
      "              precision    recall  f1-score   support\n",
      "\n",
      "         0.0       0.96      0.93      0.94       497\n",
      "         1.0       0.61      0.80      0.69        88\n",
      "         2.0       0.88      0.72      0.79        53\n",
      "\n",
      "    accuracy                           0.89       638\n",
      "   macro avg       0.82      0.81      0.81       638\n",
      "weighted avg       0.90      0.89      0.90       638\n",
      "\n",
      "\n",
      "Mô hình Softmax Regression với dữ liệu gốc:\n",
      "Tỷ lệ 6:4\n",
      "Accuracy: 0.8884\n",
      "Classification Report:\n",
      "              precision    recall  f1-score   support\n",
      "\n",
      "         0.0       0.95      0.94      0.94       663\n",
      "         1.0       0.61      0.69      0.65       118\n",
      "         2.0       0.85      0.74      0.79        70\n",
      "\n",
      "    accuracy                           0.89       851\n",
      "   macro avg       0.80      0.79      0.80       851\n",
      "weighted avg       0.89      0.89      0.89       851\n",
      "\n"
     ]
    }
   ],
   "source": [
    "results = softmax_pipeline(X_scaled, y, train_ratios=[0.8, 0.7, 0.6])"
   ]
  },
  {
   "cell_type": "code",
   "execution_count": 1080,
   "id": "d8a4a0ab",
   "metadata": {},
   "outputs": [
    {
     "name": "stdout",
     "output_type": "stream",
     "text": [
      "\n",
      "Mô hình Softmax Regression với dữ liệu gốc:\n",
      "Tỷ lệ 7:3\n",
      "Accuracy: 0.8840\n",
      "Classification Report:\n",
      "              precision    recall  f1-score   support\n",
      "\n",
      "         0.0       0.96      0.92      0.94       497\n",
      "         1.0       0.60      0.78      0.68        88\n",
      "         2.0       0.84      0.72      0.78        53\n",
      "\n",
      "    accuracy                           0.88       638\n",
      "   macro avg       0.80      0.81      0.80       638\n",
      "weighted avg       0.90      0.88      0.89       638\n",
      "\n"
     ]
    }
   ],
   "source": [
    "results = softmax_pipeline(X_scaled, y, train_ratios=[0.7])"
   ]
  },
  {
   "cell_type": "code",
   "execution_count": 1081,
   "id": "ac544b4e",
   "metadata": {},
   "outputs": [
    {
     "name": "stdout",
     "output_type": "stream",
     "text": [
      "Kết quả dữ liệu với tỉ lệ 7:3\n"
     ]
    },
    {
     "data": {
      "image/png": "[encoded data removed]",
      "text/plain": [
       "<Figure size 600x600 with 2 Axes>"
      ]
     },
     "metadata": {},
     "output_type": "display_data"
    }
   ],
   "source": [
    "for res in results:\n",
    "    if res['method'] == 'gốc' and res['train_ratio'] == '7:3':\n",
    "        print(\"Kết quả dữ liệu với tỉ lệ 7:3\")\n",
    "        # Trích xuất confusion matrix\n",
    "        conf_matrix = res['confusion_matrix']\n",
    "\n",
    "# Vẽ ma trận confusion\n",
    "plt.figure(figsize=(6, 6))\n",
    "sns.heatmap(conf_matrix, annot=True, fmt=\"d\", cmap=\"Blues\", \n",
    "        xticklabels=np.unique(y), yticklabels=np.unique(y))\n",
    "plt.title(\"Confusion Matrix (Dữ liệu gốc)\")\n",
    "plt.xlabel(\"Dự đoán\")\n",
    "plt.ylabel(\"Thực tế\")\n",
    "plt.show()"
   ]
  },
  {
   "cell_type": "code",
   "execution_count": 1091,
   "id": "0bc421b8",
   "metadata": {},
   "outputs": [
    {
     "name": "stdout",
     "output_type": "stream",
     "text": [
      "[[457  35   5]\n",
      " [ 17  69   2]\n",
      " [  4  11  38]]\n"
     ]
    }
   ],
   "source": [
    "print(conf_matrix)"
   ]
  },
  {
   "cell_type": "markdown",
   "id": "d503e577",
   "metadata": {},
   "source": [
    "#### **Thực hiện với dữ liệu đã giảm chiều bằng PCA**"
   ]
  },
  {
   "cell_type": "code",
   "execution_count": 930,
   "id": "b13f4c19",
   "metadata": {},
   "outputs": [
    {
     "name": "stdout",
     "output_type": "stream",
     "text": [
      "\n",
      "Mô hình Softmax Regression với dữ liệu PCA:\n",
      "Tỷ lệ 4:1\n",
      "Accuracy: 0.8638\n",
      "Classification Report:\n",
      "              precision    recall  f1-score   support\n",
      "\n",
      "         0.0       0.92      0.95      0.94       332\n",
      "         1.0       0.58      0.58      0.58        59\n",
      "         2.0       0.77      0.49      0.60        35\n",
      "\n",
      "    accuracy                           0.86       426\n",
      "   macro avg       0.76      0.67      0.70       426\n",
      "weighted avg       0.86      0.86      0.86       426\n",
      "\n",
      "\n",
      "Mô hình Softmax Regression với dữ liệu PCA:\n",
      "Tỷ lệ 7:3\n",
      "Accuracy: 0.8715\n",
      "Classification Report:\n",
      "              precision    recall  f1-score   support\n",
      "\n",
      "         0.0       0.92      0.94      0.93       497\n",
      "         1.0       0.55      0.59      0.57        88\n",
      "         2.0       0.95      0.70      0.80        53\n",
      "\n",
      "    accuracy                           0.87       638\n",
      "   macro avg       0.81      0.74      0.77       638\n",
      "weighted avg       0.88      0.87      0.87       638\n",
      "\n",
      "\n",
      "Mô hình Softmax Regression với dữ liệu PCA:\n",
      "Tỷ lệ 6:4\n",
      "Accuracy: 0.8778\n",
      "Classification Report:\n",
      "              precision    recall  f1-score   support\n",
      "\n",
      "         0.0       0.93      0.94      0.94       663\n",
      "         1.0       0.62      0.54      0.58       118\n",
      "         2.0       0.79      0.81      0.80        70\n",
      "\n",
      "    accuracy                           0.88       851\n",
      "   macro avg       0.78      0.77      0.77       851\n",
      "weighted avg       0.87      0.88      0.87       851\n",
      "\n"
     ]
    }
   ],
   "source": [
    "results = softmax_pipeline(X_scaled, y, train_ratios=[0.8, 0.7, 0.6], use_pca=True, n_components=12)"
   ]
  },
  {
   "cell_type": "markdown",
   "id": "f0ac7e62",
   "metadata": {},
   "source": [
    "#### **Thực hiện với dữ liệu đã giảm chiều bằng LDA**"
   ]
  },
  {
   "cell_type": "code",
   "execution_count": 931,
   "id": "085e04d2",
   "metadata": {},
   "outputs": [
    {
     "name": "stdout",
     "output_type": "stream",
     "text": [
      "\n",
      "Mô hình Softmax Regression với dữ liệu LDA:\n",
      "Tỷ lệ 4:1\n",
      "Accuracy: 0.8732\n",
      "Classification Report:\n",
      "              precision    recall  f1-score   support\n",
      "\n",
      "         0.0       0.93      0.96      0.94       332\n",
      "         1.0       0.59      0.59      0.59        59\n",
      "         2.0       0.78      0.51      0.62        35\n",
      "\n",
      "    accuracy                           0.87       426\n",
      "   macro avg       0.77      0.69      0.72       426\n",
      "weighted avg       0.87      0.87      0.87       426\n",
      "\n",
      "\n",
      "Mô hình Softmax Regression với dữ liệu LDA:\n",
      "Tỷ lệ 7:3\n",
      "Accuracy: 0.8887\n",
      "Classification Report:\n",
      "              precision    recall  f1-score   support\n",
      "\n",
      "         0.0       0.95      0.94      0.95       497\n",
      "         1.0       0.64      0.69      0.66        88\n",
      "         2.0       0.75      0.74      0.74        53\n",
      "\n",
      "    accuracy                           0.89       638\n",
      "   macro avg       0.78      0.79      0.78       638\n",
      "weighted avg       0.89      0.89      0.89       638\n",
      "\n",
      "\n",
      "Mô hình Softmax Regression với dữ liệu LDA:\n",
      "Tỷ lệ 6:4\n",
      "Accuracy: 0.8895\n",
      "Classification Report:\n",
      "              precision    recall  f1-score   support\n",
      "\n",
      "         0.0       0.92      0.97      0.94       663\n",
      "         1.0       0.67      0.54      0.60       118\n",
      "         2.0       0.84      0.76      0.80        70\n",
      "\n",
      "    accuracy                           0.89       851\n",
      "   macro avg       0.81      0.75      0.78       851\n",
      "weighted avg       0.88      0.89      0.88       851\n",
      "\n"
     ]
    }
   ],
   "source": [
    "results = softmax_pipeline(X_scaled, y, train_ratios=[0.8, 0.7, 0.6], use_lda=True, n_components=2)"
   ]
  },
  {
   "cell_type": "markdown",
   "id": "f7a8d9ab",
   "metadata": {},
   "source": [
    "### **Chia trước giảm sau**"
   ]
  },
  {
   "cell_type": "code",
   "execution_count": 934,
   "id": "d1c5ffe4",
   "metadata": {},
   "outputs": [],
   "source": [
    "def softmax_pipeline(X, y, train_ratios=[0.8, 0.7, 0.6], use_pca=False, use_lda=False, n_components=None, lam=0):\n",
    "    results = []\n",
    "\n",
    "    ratio_labels = {\n",
    "        0.8: \"4:1\",\n",
    "        0.7: \"7:3\",\n",
    "        0.6: \"6:4\"\n",
    "    }\n",
    "\n",
    "    for train_ratio in train_ratios:\n",
    "        method = \"gốc\"\n",
    "        \n",
    "        # 1. Chia dữ liệu train/test trước\n",
    "        X_train, X_val, y_train, y_val = train_test_split(\n",
    "            X, y, train_size=train_ratio, stratify=y, random_state=42)\n",
    "\n",
    "        # 2. Giảm chiều (nếu có)\n",
    "        if use_pca:\n",
    "            method = \"PCA\"\n",
    "            pca = PCA(n_components=n_components)\n",
    "            X_train = pca.fit_transform(X_train)\n",
    "            X_val = pca.transform(X_val)\n",
    "        elif use_lda:\n",
    "            method = \"LDA\"\n",
    "            lda = LDA(n_components=min(n_components, len(np.unique(y))-1))\n",
    "            X_train = lda.fit_transform(X_train, y_train)\n",
    "            X_val = lda.transform(X_val)\n",
    "\n",
    "        # 3. Thêm bias term (cột 1) vào CUỐI CÙNG sau khi đã xử lý dữ liệu\n",
    "        X_train = np.hstack([np.ones((X_train.shape[0], 1)), X_train])\n",
    "        X_val = np.hstack([np.ones((X_val.shape[0], 1)), X_val])\n",
    "\n",
    "        # Chuyển đổi sang dạng cột để tính toán\n",
    "        X_train_T = X_train.T\n",
    "        X_val_T = X_val.T\n",
    "        d = X_train_T.shape[0]  # Đã bao gồm cả bias term\n",
    "\n",
    "        C = len(np.unique(y))\n",
    "        W_init = np.random.randn(d, C)\n",
    "        \n",
    "        # Huấn luyện mô hình (truyền thêm lam nếu cần)\n",
    "        W = softmax_regression(X_train_T, y_train, W_init)[-1]\n",
    "        y_pred = pred(W, X_val_T)\n",
    "\n",
    "        # Đánh giá\n",
    "        acc, cr, cm = evaluate_model(y_val, y_pred)\n",
    "\n",
    "        ratio_str = ratio_labels.get(train_ratio, f\"{train_ratio*100:.0f}:{(1-train_ratio)*100:.0f}\")\n",
    "\n",
    "        print(\"\\nMô hình Softmax Regression với dữ liệu\", method + \":\")\n",
    "        print(f\"Tỷ lệ {ratio_str}\")\n",
    "        print(f\"Accuracy: {acc:.4f}\")\n",
    "        print(\"Classification Report:\")\n",
    "        print(cr)\n",
    "\n",
    "        results.append({\n",
    "            'method': method,\n",
    "            'train_ratio': ratio_str,\n",
    "            'accuracy': acc,\n",
    "            'report': cr,\n",
    "            'confusion_matrix': cm\n",
    "        })\n",
    "\n",
    "    return results"
   ]
  },
  {
   "cell_type": "markdown",
   "id": "fc279388",
   "metadata": {},
   "source": [
    "#### **Thực hiện trên tập dữ liệu giảm chiều bằng PCA**"
   ]
  },
  {
   "cell_type": "code",
   "execution_count": 1185,
   "id": "a211633d",
   "metadata": {},
   "outputs": [
    {
     "name": "stdout",
     "output_type": "stream",
     "text": [
      "\n",
      "Mô hình Softmax Regression với dữ liệu PCA:\n",
      "Tỷ lệ 4:1\n",
      "Accuracy: 0.8685\n",
      "Classification Report:\n",
      "              precision    recall  f1-score   support\n",
      "\n",
      "         0.0       0.94      0.93      0.93       332\n",
      "         1.0       0.57      0.58      0.57        59\n",
      "         2.0       0.75      0.77      0.76        35\n",
      "\n",
      "    accuracy                           0.87       426\n",
      "   macro avg       0.75      0.76      0.76       426\n",
      "weighted avg       0.87      0.87      0.87       426\n",
      "\n",
      "\n",
      "Mô hình Softmax Regression với dữ liệu PCA:\n",
      "Tỷ lệ 7:3\n",
      "Accuracy: 0.8715\n",
      "Classification Report:\n",
      "              precision    recall  f1-score   support\n",
      "\n",
      "         0.0       0.94      0.93      0.93       497\n",
      "         1.0       0.56      0.69      0.62        88\n",
      "         2.0       0.87      0.64      0.74        53\n",
      "\n",
      "    accuracy                           0.87       638\n",
      "   macro avg       0.79      0.75      0.76       638\n",
      "weighted avg       0.88      0.87      0.87       638\n",
      "\n",
      "\n",
      "Mô hình Softmax Regression với dữ liệu PCA:\n",
      "Tỷ lệ 6:4\n",
      "Accuracy: 0.8707\n",
      "Classification Report:\n",
      "              precision    recall  f1-score   support\n",
      "\n",
      "         0.0       0.94      0.92      0.93       663\n",
      "         1.0       0.58      0.68      0.63       118\n",
      "         2.0       0.75      0.74      0.75        70\n",
      "\n",
      "    accuracy                           0.87       851\n",
      "   macro avg       0.76      0.78      0.77       851\n",
      "weighted avg       0.88      0.87      0.87       851\n",
      "\n"
     ]
    }
   ],
   "source": [
    "results = softmax_pipeline(X_scaled, y, train_ratios=[0.8, 0.7, 0.6], use_pca=True, n_components=12)"
   ]
  },
  {
   "cell_type": "code",
   "execution_count": 1186,
   "id": "f335b5b3",
   "metadata": {},
   "outputs": [
    {
     "name": "stdout",
     "output_type": "stream",
     "text": [
      "Mô hình tốt nhất: PCA với tỷ lệ huấn luyện 7:3\n",
      "Accuracy: 0.8714733542319749\n"
     ]
    }
   ],
   "source": [
    "# Tìm mô hình có accuracy cao nhất\n",
    "best_model = max(results, key=lambda x: x['accuracy'])\n",
    "\n",
    "# In ra kết quả của mô hình tốt nhất\n",
    "print(f\"Mô hình tốt nhất: {best_model['method']} với tỷ lệ huấn luyện {best_model['train_ratio']}\")\n",
    "print(f\"Accuracy: {best_model['accuracy']}\")\n"
   ]
  },
  {
   "cell_type": "code",
   "execution_count": 1187,
   "id": "1547b675",
   "metadata": {},
   "outputs": [
    {
     "data": {
      "image/png": "[encoded data removed]",
      "text/plain": [
       "<Figure size 600x600 with 2 Axes>"
      ]
     },
     "metadata": {},
     "output_type": "display_data"
    }
   ],
   "source": [
    "conf_matrix_best = best_model['confusion_matrix']\n",
    "plt.figure(figsize=(6, 6))\n",
    "sns.heatmap(conf_matrix_best, annot=True, fmt=\"d\", cmap=\"Blues\", \n",
    "            xticklabels=np.unique(y), yticklabels=np.unique(y))\n",
    "plt.title(\"Confusion Matrix (PCA))\")\n",
    "plt.xlabel(\"Dự đoán\")\n",
    "plt.ylabel(\"Thực tế\")\n",
    "plt.show()"
   ]
  },
  {
   "cell_type": "markdown",
   "id": "9b8ea6ad",
   "metadata": {},
   "source": [
    "#### **Thực hiện với dữ liệu đã giảm chiều bằng LDA**"
   ]
  },
  {
   "cell_type": "code",
   "execution_count": 942,
   "id": "9b458282",
   "metadata": {},
   "outputs": [
    {
     "name": "stdout",
     "output_type": "stream",
     "text": [
      "\n",
      "Mô hình Softmax Regression với dữ liệu LDA:\n",
      "Tỷ lệ 4:1\n",
      "Accuracy: 0.8873\n",
      "Classification Report:\n",
      "              precision    recall  f1-score   support\n",
      "\n",
      "         0.0       0.92      0.97      0.95       332\n",
      "         1.0       0.69      0.49      0.57        59\n",
      "         2.0       0.76      0.74      0.75        35\n",
      "\n",
      "    accuracy                           0.89       426\n",
      "   macro avg       0.79      0.74      0.76       426\n",
      "weighted avg       0.88      0.89      0.88       426\n",
      "\n",
      "\n",
      "Mô hình Softmax Regression với dữ liệu LDA:\n",
      "Tỷ lệ 7:3\n",
      "Accuracy: 0.8793\n",
      "Classification Report:\n",
      "              precision    recall  f1-score   support\n",
      "\n",
      "         0.0       0.95      0.93      0.94       497\n",
      "         1.0       0.58      0.76      0.66        88\n",
      "         2.0       0.82      0.62      0.71        53\n",
      "\n",
      "    accuracy                           0.88       638\n",
      "   macro avg       0.79      0.77      0.77       638\n",
      "weighted avg       0.89      0.88      0.88       638\n",
      "\n",
      "\n",
      "Mô hình Softmax Regression với dữ liệu LDA:\n",
      "Tỷ lệ 6:4\n",
      "Accuracy: 0.8837\n",
      "Classification Report:\n",
      "              precision    recall  f1-score   support\n",
      "\n",
      "         0.0       0.93      0.97      0.95       663\n",
      "         1.0       0.63      0.57      0.60       118\n",
      "         2.0       0.84      0.60      0.70        70\n",
      "\n",
      "    accuracy                           0.88       851\n",
      "   macro avg       0.80      0.71      0.75       851\n",
      "weighted avg       0.88      0.88      0.88       851\n",
      "\n"
     ]
    }
   ],
   "source": [
    "results = softmax_pipeline(X_scaled, y, train_ratios=[0.8, 0.7, 0.6], use_lda=True, n_components=2)"
   ]
  },
  {
   "cell_type": "code",
   "execution_count": 939,
   "id": "b0ede907",
   "metadata": {},
   "outputs": [
    {
     "name": "stdout",
     "output_type": "stream",
     "text": [
      "Mô hình tốt nhất: LDA với tỷ lệ huấn luyện 6:4\n",
      "Accuracy: 0.8942420681551116\n"
     ]
    }
   ],
   "source": [
    "# Tìm mô hình có accuracy cao nhất\n",
    "best_model = max(results, key=lambda x: x['accuracy'])\n",
    "\n",
    "# In ra kết quả của mô hình tốt nhất\n",
    "print(f\"Mô hình tốt nhất: {best_model['method']} với tỷ lệ huấn luyện {best_model['train_ratio']}\")\n",
    "print(f\"Accuracy: {best_model['accuracy']}\")\n"
   ]
  },
  {
   "cell_type": "code",
   "execution_count": 940,
   "id": "315dca50",
   "metadata": {},
   "outputs": [
    {
     "data": {
      "image/png": "[encoded data removed]",
      "text/plain": [
       "<Figure size 600x600 with 2 Axes>"
      ]
     },
     "metadata": {},
     "output_type": "display_data"
    }
   ],
   "source": [
    "conf_matrix_best = best_model['confusion_matrix']\n",
    "plt.figure(figsize=(6, 6))\n",
    "sns.heatmap(conf_matrix_best, annot=True, fmt=\"d\", cmap=\"Blues\", \n",
    "            xticklabels=np.unique(y), yticklabels=np.unique(y))\n",
    "plt.title(\"Confusion Matrix (LDA)\")\n",
    "plt.xlabel(\"Dự đoán\")\n",
    "plt.ylabel(\"Thực tế\")\n",
    "plt.show()"
   ]
  },
  {
   "cell_type": "markdown",
   "id": "4bbabf07",
   "metadata": {},
   "source": [
    "# Đánh giá hai mô hình KNN và Softmax Regression tốt nhất"
   ]
  },
  {
   "cell_type": "code",
   "execution_count": 1101,
   "id": "d74d2bc6",
   "metadata": {},
   "outputs": [
    {
     "data": {
      "image/png": "[encoded data removed]",
      "text/plain": [
       "<Figure size 1200x900 with 1 Axes>"
      ]
     },
     "metadata": {},
     "output_type": "display_data"
    }
   ],
   "source": [
    "import matplotlib.pyplot as plt\n",
    "import numpy as np\n",
    "from matplotlib import cm\n",
    "\n",
    "# Dữ liệu cho mô hình\n",
    "metrics = ['Accuracy', 'Precision', 'Recall', 'F1-Score']\n",
    "softmax_values = [0.88, 0.80, 0.81, 0.80]\n",
    "knn_values = [0.90, 0.84, 0.79, 0.81]\n",
    "\n",
    "# Vị trí các cột\n",
    "x = np.arange(len(metrics))  \n",
    "width = 0.35  \n",
    "\n",
    "colors = ['#5DA5DA', '#FAA43A']\n",
    "# Tạo biểu đồ\n",
    "fig, ax = plt.subplots(figsize=(12, 9))\n",
    "\n",
    "bars1 = ax.bar(x - width/2, softmax_values, width, label='Softmax Regression', color=colors[0])\n",
    "bars2 = ax.bar(x + width/2, knn_values, width, label='KNN', color=colors[1])\n",
    "\n",
    "# Nhãn và tiêu đề\n",
    "ax.set_xlabel('Chỉ số đánh giá', fontsize=12)\n",
    "ax.set_ylabel('Giá trị', fontsize=12)\n",
    "ax.set_title('So sánh chỉ số đánh giá giữa Softmax Regression và KNN', fontsize=14)\n",
    "ax.set_xticks(x)\n",
    "ax.set_xticklabels(metrics, fontsize=11)\n",
    "ax.legend()\n",
    "\n",
    "# Lưới nhẹ\n",
    "ax.yaxis.grid(True, linestyle='--', linewidth=0.5, alpha=0.7)\n",
    "\n",
    "# Thêm giá trị lên các cột\n",
    "def add_values(bars):\n",
    "    for bar in bars:\n",
    "        yval = bar.get_height()\n",
    "        ax.text(bar.get_x() + bar.get_width()/2, yval + 0.01, round(yval, 2), \n",
    "                va='bottom', ha='center', fontsize=10)\n",
    "\n",
    "add_values(bars1)\n",
    "add_values(bars2)\n",
    "\n",
    "plt.tight_layout()\n",
    "plt.show()\n"
   ]
  }
 ],
 "metadata": {
  "kernelspec": {
   "display_name": "myenv",
   "language": "python",
   "name": "python3"
  },
  "language_info": {
   "codemirror_mode": {
    "name": "ipython",
    "version": 3
   },
   "file_extension": ".py",
   "mimetype": "text/x-python",
   "name": "python",
   "nbconvert_exporter": "python",
   "pygments_lexer": "ipython3",
   "version": "3.12.7"
  }
 },
 "nbformat": 4,
 "nbformat_minor": 5
}
