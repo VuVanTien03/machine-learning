{
 "cells": [
  {
   "metadata": {},
   "cell_type": "markdown",
   "source": "# Input data",
   "id": "bc15ff73e64a7977"
  },
  {
   "cell_type": "code",
   "id": "initial_id",
   "metadata": {
    "collapsed": true,
    "ExecuteTime": {
     "end_time": "2025-04-17T16:34:40.374554Z",
     "start_time": "2025-04-17T16:34:40.368733Z"
    }
   },
   "source": [
    "import pandas as pd\n",
    "from ucimlrepo import fetch_ucirepo\n"
   ],
   "outputs": [],
   "execution_count": 2
  },
  {
   "metadata": {
    "ExecuteTime": {
     "end_time": "2025-04-17T16:35:27.330571Z",
     "start_time": "2025-04-17T16:35:26.741387Z"
    }
   },
   "cell_type": "code",
   "source": [
    "excel_file = pd.ExcelFile(\"../data/raw_data/CTG.xls\")\n",
    "sheet_names = excel_file.sheet_names\n",
    "\n",
    "\n",
    "data = pd.read_excel(excel_file, sheet_name='Data', header=1)\n",
    "data.head()"
   ],
   "id": "e4dfb27ec5181a55",
   "outputs": [
    {
     "data": {
      "text/plain": [
       "       b       e   AC   FM   UC   DL   DS   DP   DR  Unnamed: 9  ...    E  \\\n",
       "0  240.0   357.0  0.0  0.0  0.0  0.0  0.0  0.0  0.0         NaN  ... -1.0   \n",
       "1    5.0   632.0  4.0  0.0  4.0  2.0  0.0  0.0  0.0         NaN  ... -1.0   \n",
       "2  177.0   779.0  2.0  0.0  5.0  2.0  0.0  0.0  0.0         NaN  ... -1.0   \n",
       "3  411.0  1192.0  2.0  0.0  6.0  2.0  0.0  0.0  0.0         NaN  ... -1.0   \n",
       "4  533.0  1147.0  4.0  0.0  5.0  0.0  0.0  0.0  0.0         NaN  ... -1.0   \n",
       "\n",
       "    AD   DE   LD   FS  SUSP  Unnamed: 42  CLASS  Unnamed: 44  NSP  \n",
       "0 -1.0 -1.0 -1.0  1.0  -1.0          NaN    9.0          NaN  2.0  \n",
       "1  1.0 -1.0 -1.0 -1.0  -1.0          NaN    6.0          NaN  1.0  \n",
       "2  1.0 -1.0 -1.0 -1.0  -1.0          NaN    6.0          NaN  1.0  \n",
       "3  1.0 -1.0 -1.0 -1.0  -1.0          NaN    6.0          NaN  1.0  \n",
       "4 -1.0 -1.0 -1.0 -1.0  -1.0          NaN    2.0          NaN  1.0  \n",
       "\n",
       "[5 rows x 46 columns]"
      ],
      "text/html": [
       "<div>\n",
       "<style scoped>\n",
       "    .dataframe tbody tr th:only-of-type {\n",
       "        vertical-align: middle;\n",
       "    }\n",
       "\n",
       "    .dataframe tbody tr th {\n",
       "        vertical-align: top;\n",
       "    }\n",
       "\n",
       "    .dataframe thead th {\n",
       "        text-align: right;\n",
       "    }\n",
       "</style>\n",
       "<table border=\"1\" class=\"dataframe\">\n",
       "  <thead>\n",
       "    <tr style=\"text-align: right;\">\n",
       "      <th></th>\n",
       "      <th>b</th>\n",
       "      <th>e</th>\n",
       "      <th>AC</th>\n",
       "      <th>FM</th>\n",
       "      <th>UC</th>\n",
       "      <th>DL</th>\n",
       "      <th>DS</th>\n",
       "      <th>DP</th>\n",
       "      <th>DR</th>\n",
       "      <th>Unnamed: 9</th>\n",
       "      <th>...</th>\n",
       "      <th>E</th>\n",
       "      <th>AD</th>\n",
       "      <th>DE</th>\n",
       "      <th>LD</th>\n",
       "      <th>FS</th>\n",
       "      <th>SUSP</th>\n",
       "      <th>Unnamed: 42</th>\n",
       "      <th>CLASS</th>\n",
       "      <th>Unnamed: 44</th>\n",
       "      <th>NSP</th>\n",
       "    </tr>\n",
       "  </thead>\n",
       "  <tbody>\n",
       "    <tr>\n",
       "      <th>0</th>\n",
       "      <td>240.0</td>\n",
       "      <td>357.0</td>\n",
       "      <td>0.0</td>\n",
       "      <td>0.0</td>\n",
       "      <td>0.0</td>\n",
       "      <td>0.0</td>\n",
       "      <td>0.0</td>\n",
       "      <td>0.0</td>\n",
       "      <td>0.0</td>\n",
       "      <td>NaN</td>\n",
       "      <td>...</td>\n",
       "      <td>-1.0</td>\n",
       "      <td>-1.0</td>\n",
       "      <td>-1.0</td>\n",
       "      <td>-1.0</td>\n",
       "      <td>1.0</td>\n",
       "      <td>-1.0</td>\n",
       "      <td>NaN</td>\n",
       "      <td>9.0</td>\n",
       "      <td>NaN</td>\n",
       "      <td>2.0</td>\n",
       "    </tr>\n",
       "    <tr>\n",
       "      <th>1</th>\n",
       "      <td>5.0</td>\n",
       "      <td>632.0</td>\n",
       "      <td>4.0</td>\n",
       "      <td>0.0</td>\n",
       "      <td>4.0</td>\n",
       "      <td>2.0</td>\n",
       "      <td>0.0</td>\n",
       "      <td>0.0</td>\n",
       "      <td>0.0</td>\n",
       "      <td>NaN</td>\n",
       "      <td>...</td>\n",
       "      <td>-1.0</td>\n",
       "      <td>1.0</td>\n",
       "      <td>-1.0</td>\n",
       "      <td>-1.0</td>\n",
       "      <td>-1.0</td>\n",
       "      <td>-1.0</td>\n",
       "      <td>NaN</td>\n",
       "      <td>6.0</td>\n",
       "      <td>NaN</td>\n",
       "      <td>1.0</td>\n",
       "    </tr>\n",
       "    <tr>\n",
       "      <th>2</th>\n",
       "      <td>177.0</td>\n",
       "      <td>779.0</td>\n",
       "      <td>2.0</td>\n",
       "      <td>0.0</td>\n",
       "      <td>5.0</td>\n",
       "      <td>2.0</td>\n",
       "      <td>0.0</td>\n",
       "      <td>0.0</td>\n",
       "      <td>0.0</td>\n",
       "      <td>NaN</td>\n",
       "      <td>...</td>\n",
       "      <td>-1.0</td>\n",
       "      <td>1.0</td>\n",
       "      <td>-1.0</td>\n",
       "      <td>-1.0</td>\n",
       "      <td>-1.0</td>\n",
       "      <td>-1.0</td>\n",
       "      <td>NaN</td>\n",
       "      <td>6.0</td>\n",
       "      <td>NaN</td>\n",
       "      <td>1.0</td>\n",
       "    </tr>\n",
       "    <tr>\n",
       "      <th>3</th>\n",
       "      <td>411.0</td>\n",
       "      <td>1192.0</td>\n",
       "      <td>2.0</td>\n",
       "      <td>0.0</td>\n",
       "      <td>6.0</td>\n",
       "      <td>2.0</td>\n",
       "      <td>0.0</td>\n",
       "      <td>0.0</td>\n",
       "      <td>0.0</td>\n",
       "      <td>NaN</td>\n",
       "      <td>...</td>\n",
       "      <td>-1.0</td>\n",
       "      <td>1.0</td>\n",
       "      <td>-1.0</td>\n",
       "      <td>-1.0</td>\n",
       "      <td>-1.0</td>\n",
       "      <td>-1.0</td>\n",
       "      <td>NaN</td>\n",
       "      <td>6.0</td>\n",
       "      <td>NaN</td>\n",
       "      <td>1.0</td>\n",
       "    </tr>\n",
       "    <tr>\n",
       "      <th>4</th>\n",
       "      <td>533.0</td>\n",
       "      <td>1147.0</td>\n",
       "      <td>4.0</td>\n",
       "      <td>0.0</td>\n",
       "      <td>5.0</td>\n",
       "      <td>0.0</td>\n",
       "      <td>0.0</td>\n",
       "      <td>0.0</td>\n",
       "      <td>0.0</td>\n",
       "      <td>NaN</td>\n",
       "      <td>...</td>\n",
       "      <td>-1.0</td>\n",
       "      <td>-1.0</td>\n",
       "      <td>-1.0</td>\n",
       "      <td>-1.0</td>\n",
       "      <td>-1.0</td>\n",
       "      <td>-1.0</td>\n",
       "      <td>NaN</td>\n",
       "      <td>2.0</td>\n",
       "      <td>NaN</td>\n",
       "      <td>1.0</td>\n",
       "    </tr>\n",
       "  </tbody>\n",
       "</table>\n",
       "<p>5 rows × 46 columns</p>\n",
       "</div>"
      ]
     },
     "execution_count": 4,
     "metadata": {},
     "output_type": "execute_result"
    }
   ],
   "execution_count": 4
  },
  {
   "metadata": {
    "ExecuteTime": {
     "end_time": "2025-04-17T16:35:31.511804Z",
     "start_time": "2025-04-17T16:35:31.500589Z"
    }
   },
   "cell_type": "code",
   "source": "data.columns",
   "id": "f1bf21488b264200",
   "outputs": [
    {
     "data": {
      "text/plain": [
       "Index(['b', 'e', 'AC', 'FM', 'UC', 'DL', 'DS', 'DP', 'DR', 'Unnamed: 9', 'LB',\n",
       "       'AC.1', 'FM.1', 'UC.1', 'DL.1', 'DS.1', 'DP.1', 'ASTV', 'MSTV', 'ALTV',\n",
       "       'MLTV', 'Width', 'Min', 'Max', 'Nmax', 'Nzeros', 'Mode', 'Mean',\n",
       "       'Median', 'Variance', 'Tendency', 'Unnamed: 31', 'A', 'B', 'C', 'D',\n",
       "       'E', 'AD', 'DE', 'LD', 'FS', 'SUSP', 'Unnamed: 42', 'CLASS',\n",
       "       'Unnamed: 44', 'NSP'],\n",
       "      dtype='object')"
      ]
     },
     "execution_count": 5,
     "metadata": {},
     "output_type": "execute_result"
    }
   ],
   "execution_count": 5
  },
  {
   "metadata": {
    "ExecuteTime": {
     "end_time": "2025-04-17T16:35:33.551628Z",
     "start_time": "2025-04-17T16:35:33.521435Z"
    }
   },
   "cell_type": "code",
   "source": [
    "selected_columns = ['LB', 'AC', 'FM', 'UC', 'DL', 'DS', 'DP', 'ASTV', 'MSTV', 'ALTV', 'MLTV', 'Width', 'Min', 'Max', 'Nmax', 'Nzeros', 'Mode', 'Mean', 'Median', 'Variance', 'Tendency', 'NSP']\n",
    "data = data[selected_columns]\n",
    "\n",
    "print(data)"
   ],
   "id": "4bf8b96358acff09",
   "outputs": [
    {
     "name": "stdout",
     "output_type": "stream",
     "text": [
      "         LB   AC     FM    UC    DL   DS   DP  ASTV  MSTV  ALTV  ...    Min  \\\n",
      "0     120.0  0.0    0.0   0.0   0.0  0.0  0.0  73.0   0.5  43.0  ...   62.0   \n",
      "1     132.0  4.0    0.0   4.0   2.0  0.0  0.0  17.0   2.1   0.0  ...   68.0   \n",
      "2     133.0  2.0    0.0   5.0   2.0  0.0  0.0  16.0   2.1   0.0  ...   68.0   \n",
      "3     134.0  2.0    0.0   6.0   2.0  0.0  0.0  16.0   2.4   0.0  ...   53.0   \n",
      "4     132.0  4.0    0.0   5.0   0.0  0.0  0.0  16.0   2.4   0.0  ...   53.0   \n",
      "...     ...  ...    ...   ...   ...  ...  ...   ...   ...   ...  ...    ...   \n",
      "2124  140.0  1.0    0.0   9.0   0.0  0.0  0.0  78.0   0.4  27.0  ...  103.0   \n",
      "2125  142.0  1.0    1.0   5.0   0.0  0.0  0.0  74.0   0.4  36.0  ...  117.0   \n",
      "2126    NaN  NaN    NaN   NaN   NaN  NaN  NaN   NaN   NaN   NaN  ...    NaN   \n",
      "2127    NaN  NaN    NaN   NaN   0.0  0.0  0.0   NaN   NaN   NaN  ...    NaN   \n",
      "2128    NaN  NaN  564.0  23.0  16.0  1.0  4.0  87.0   7.0  91.0  ...    NaN   \n",
      "\n",
      "        Max  Nmax  Nzeros   Mode   Mean  Median  Variance  Tendency  NSP  \n",
      "0     126.0   2.0     0.0  120.0  137.0   121.0      73.0       1.0  2.0  \n",
      "1     198.0   6.0     1.0  141.0  136.0   140.0      12.0       0.0  1.0  \n",
      "2     198.0   5.0     1.0  141.0  135.0   138.0      13.0       0.0  1.0  \n",
      "3     170.0  11.0     0.0  137.0  134.0   137.0      13.0       1.0  1.0  \n",
      "4     170.0   9.0     0.0  137.0  136.0   138.0      11.0       1.0  1.0  \n",
      "...     ...   ...     ...    ...    ...     ...       ...       ...  ...  \n",
      "2124  169.0   6.0     0.0  152.0  147.0   151.0       4.0       1.0  2.0  \n",
      "2125  159.0   2.0     1.0  145.0  143.0   145.0       1.0       0.0  1.0  \n",
      "2126    NaN   NaN     NaN    NaN    NaN     NaN       NaN       NaN  NaN  \n",
      "2127    NaN   NaN     NaN    NaN    NaN     NaN       NaN       NaN  NaN  \n",
      "2128    NaN   NaN     NaN    NaN    NaN     NaN       NaN       NaN  NaN  \n",
      "\n",
      "[2129 rows x 22 columns]\n"
     ]
    }
   ],
   "execution_count": 6
  },
  {
   "metadata": {},
   "cell_type": "markdown",
   "source": "Mô tả sơ bộ về dữ liệu",
   "id": "b9ccea22148fa07e"
  },
  {
   "metadata": {
    "ExecuteTime": {
     "end_time": "2025-04-17T16:35:35.656010Z",
     "start_time": "2025-04-17T16:35:35.646264Z"
    }
   },
   "cell_type": "code",
   "source": [
    "print(\"Cấu trúc của dữ liệu:\")\n",
    "print(f\"- Số bản ghi (dòng): {data.shape[0]}\")\n",
    "print(f\"- Số trường (cột): {data.shape[1]}\")\n",
    "print(\"- Tên các trường dữ liệu:\")\n",
    "print(data.columns.tolist())\n",
    "print(\"\\nThông tin kiểu dữ liệu của các cột:\")\n",
    "print(data.dtypes)"
   ],
   "id": "fcf4b85c99a3f229",
   "outputs": [
    {
     "name": "stdout",
     "output_type": "stream",
     "text": [
      "Cấu trúc của dữ liệu:\n",
      "- Số bản ghi (dòng): 2129\n",
      "- Số trường (cột): 22\n",
      "- Tên các trường dữ liệu:\n",
      "['LB', 'AC', 'FM', 'UC', 'DL', 'DS', 'DP', 'ASTV', 'MSTV', 'ALTV', 'MLTV', 'Width', 'Min', 'Max', 'Nmax', 'Nzeros', 'Mode', 'Mean', 'Median', 'Variance', 'Tendency', 'NSP']\n",
      "\n",
      "Thông tin kiểu dữ liệu của các cột:\n",
      "LB          float64\n",
      "AC          float64\n",
      "FM          float64\n",
      "UC          float64\n",
      "DL          float64\n",
      "DS          float64\n",
      "DP          float64\n",
      "ASTV        float64\n",
      "MSTV        float64\n",
      "ALTV        float64\n",
      "MLTV        float64\n",
      "Width       float64\n",
      "Min         float64\n",
      "Max         float64\n",
      "Nmax        float64\n",
      "Nzeros      float64\n",
      "Mode        float64\n",
      "Mean        float64\n",
      "Median      float64\n",
      "Variance    float64\n",
      "Tendency    float64\n",
      "NSP         float64\n",
      "dtype: object\n"
     ]
    }
   ],
   "execution_count": 7
  },
  {
   "metadata": {
    "ExecuteTime": {
     "end_time": "2025-04-17T16:35:37.957864Z",
     "start_time": "2025-04-17T16:35:37.889817Z"
    }
   },
   "cell_type": "code",
   "source": [
    "print(\"\\nThống kê mô tả các trường số:\")\n",
    "print(data.describe())"
   ],
   "id": "b42c35a321f1330c",
   "outputs": [
    {
     "name": "stdout",
     "output_type": "stream",
     "text": [
      "\n",
      "Thống kê mô tả các trường số:\n",
      "                LB           AC           FM           UC           DL  \\\n",
      "count  2126.000000  2126.000000  2127.000000  2127.000000  2128.000000   \n",
      "mean    133.303857     2.722484     7.503056     3.669017     1.576128   \n",
      "std       9.840844     3.560850    39.030452     2.877148     2.517794   \n",
      "min     106.000000     0.000000     0.000000     0.000000     0.000000   \n",
      "25%     126.000000     0.000000     0.000000     1.000000     0.000000   \n",
      "50%     133.000000     1.000000     0.000000     3.000000     0.000000   \n",
      "75%     140.000000     4.000000     2.000000     5.000000     3.000000   \n",
      "max     160.000000    26.000000   564.000000    23.000000    16.000000   \n",
      "\n",
      "                DS           DP         ASTV         MSTV         ALTV  ...  \\\n",
      "count  2128.000000  2128.000000  2127.000000  2127.000000  2127.000000  ...   \n",
      "mean      0.003759     0.127820    47.008933     1.335449     9.884814  ...   \n",
      "std       0.061213     0.471687    17.210648     0.891543    18.476534  ...   \n",
      "min       0.000000     0.000000    12.000000     0.200000     0.000000  ...   \n",
      "25%       0.000000     0.000000    32.000000     0.700000     0.000000  ...   \n",
      "50%       0.000000     0.000000    49.000000     1.200000     0.000000  ...   \n",
      "75%       0.000000     0.000000    61.000000     1.700000    11.000000  ...   \n",
      "max       1.000000     4.000000    87.000000     7.000000    91.000000  ...   \n",
      "\n",
      "               Min          Max         Nmax       Nzeros         Mode  \\\n",
      "count  2126.000000  2126.000000  2126.000000  2126.000000  2126.000000   \n",
      "mean     93.579492   164.025400     4.068203     0.323612   137.452023   \n",
      "std      29.560212    17.944183     2.949386     0.706059    16.381289   \n",
      "min      50.000000   122.000000     0.000000     0.000000    60.000000   \n",
      "25%      67.000000   152.000000     2.000000     0.000000   129.000000   \n",
      "50%      93.000000   162.000000     3.000000     0.000000   139.000000   \n",
      "75%     120.000000   174.000000     6.000000     0.000000   148.000000   \n",
      "max     159.000000   238.000000    18.000000    10.000000   187.000000   \n",
      "\n",
      "              Mean       Median     Variance     Tendency          NSP  \n",
      "count  2126.000000  2126.000000  2126.000000  2126.000000  2126.000000  \n",
      "mean    134.610536   138.090310    18.808090     0.320320     1.304327  \n",
      "std      15.593596    14.466589    28.977636     0.610829     0.614377  \n",
      "min      73.000000    77.000000     0.000000    -1.000000     1.000000  \n",
      "25%     125.000000   129.000000     2.000000     0.000000     1.000000  \n",
      "50%     136.000000   139.000000     7.000000     0.000000     1.000000  \n",
      "75%     145.000000   148.000000    24.000000     1.000000     1.000000  \n",
      "max     182.000000   186.000000   269.000000     1.000000     3.000000  \n",
      "\n",
      "[8 rows x 22 columns]\n"
     ]
    }
   ],
   "execution_count": 8
  },
  {
   "metadata": {},
   "cell_type": "markdown",
   "source": "Chuẩn hóa dữ liệu thông qua xử lý dữ liệu lỗi (thiếu trường, sai định dạng dữ liệu, giá trị không hợp lệ ...)",
   "id": "a9a93b86a16b90e7"
  },
  {
   "metadata": {
    "ExecuteTime": {
     "end_time": "2025-04-17T16:35:40.438033Z",
     "start_time": "2025-04-17T16:35:40.430864Z"
    }
   },
   "cell_type": "code",
   "source": [
    "#kiểm tra các giá trị thiếu\n",
    "print(\"==> Các giá trị thiếu:\")\n",
    "print(data.isnull().sum())"
   ],
   "id": "59012a7367cbd8f3",
   "outputs": [
    {
     "name": "stdout",
     "output_type": "stream",
     "text": [
      "==> Các giá trị thiếu:\n",
      "LB          3\n",
      "AC          3\n",
      "FM          2\n",
      "UC          2\n",
      "DL          1\n",
      "DS          1\n",
      "DP          1\n",
      "ASTV        2\n",
      "MSTV        2\n",
      "ALTV        2\n",
      "MLTV        2\n",
      "Width       3\n",
      "Min         3\n",
      "Max         3\n",
      "Nmax        3\n",
      "Nzeros      3\n",
      "Mode        3\n",
      "Mean        3\n",
      "Median      3\n",
      "Variance    3\n",
      "Tendency    3\n",
      "NSP         3\n",
      "dtype: int64\n"
     ]
    }
   ],
   "execution_count": 9
  },
  {
   "metadata": {
    "ExecuteTime": {
     "end_time": "2025-04-17T16:35:42.168238Z",
     "start_time": "2025-04-17T16:35:42.152961Z"
    }
   },
   "cell_type": "code",
   "source": [
    "# In ra các dòng có giá trị thiếu\n",
    "print(\"\\n==> Các dòng có giá trị thiếu:\")\n",
    "print(data[data.isnull().any(axis=1)])"
   ],
   "id": "e7b5278cb2fe2cab",
   "outputs": [
    {
     "name": "stdout",
     "output_type": "stream",
     "text": [
      "\n",
      "==> Các dòng có giá trị thiếu:\n",
      "      LB  AC     FM    UC    DL   DS   DP  ASTV  MSTV  ALTV  ...  Min  Max  \\\n",
      "2126 NaN NaN    NaN   NaN   NaN  NaN  NaN   NaN   NaN   NaN  ...  NaN  NaN   \n",
      "2127 NaN NaN    NaN   NaN   0.0  0.0  0.0   NaN   NaN   NaN  ...  NaN  NaN   \n",
      "2128 NaN NaN  564.0  23.0  16.0  1.0  4.0  87.0   7.0  91.0  ...  NaN  NaN   \n",
      "\n",
      "      Nmax  Nzeros  Mode  Mean  Median  Variance  Tendency  NSP  \n",
      "2126   NaN     NaN   NaN   NaN     NaN       NaN       NaN  NaN  \n",
      "2127   NaN     NaN   NaN   NaN     NaN       NaN       NaN  NaN  \n",
      "2128   NaN     NaN   NaN   NaN     NaN       NaN       NaN  NaN  \n",
      "\n",
      "[3 rows x 22 columns]\n"
     ]
    }
   ],
   "execution_count": 10
  },
  {
   "metadata": {},
   "cell_type": "markdown",
   "source": "Xóa các dòng thiếu vì chỉ có 3 dòng dữ liệu có giá trị thiếu (0.0014%), và có khá nhiều trường có giá trị thiếu.",
   "id": "a35295d6817baf4c"
  },
  {
   "metadata": {
    "ExecuteTime": {
     "end_time": "2025-04-17T16:35:44.226536Z",
     "start_time": "2025-04-17T16:35:44.217492Z"
    }
   },
   "cell_type": "code",
   "source": "data.dropna(inplace=True)",
   "id": "5dc2ccf8bae7bef3",
   "outputs": [],
   "execution_count": 11
  },
  {
   "metadata": {
    "ExecuteTime": {
     "end_time": "2025-04-17T16:35:46.881908Z",
     "start_time": "2025-04-17T16:35:46.874130Z"
    }
   },
   "cell_type": "code",
   "source": [
    "null_counts = data.isnull().sum()\n",
    "\n",
    "print(null_counts)"
   ],
   "id": "a95e7a758300d21b",
   "outputs": [
    {
     "name": "stdout",
     "output_type": "stream",
     "text": [
      "LB          0\n",
      "AC          0\n",
      "FM          0\n",
      "UC          0\n",
      "DL          0\n",
      "DS          0\n",
      "DP          0\n",
      "ASTV        0\n",
      "MSTV        0\n",
      "ALTV        0\n",
      "MLTV        0\n",
      "Width       0\n",
      "Min         0\n",
      "Max         0\n",
      "Nmax        0\n",
      "Nzeros      0\n",
      "Mode        0\n",
      "Mean        0\n",
      "Median      0\n",
      "Variance    0\n",
      "Tendency    0\n",
      "NSP         0\n",
      "dtype: int64\n"
     ]
    }
   ],
   "execution_count": 12
  },
  {
   "metadata": {},
   "cell_type": "markdown",
   "source": "Kiểm tra tỉ lệ giữa các class",
   "id": "caa4bca6a1c7430c"
  },
  {
   "metadata": {
    "ExecuteTime": {
     "end_time": "2025-04-17T16:35:49.137136Z",
     "start_time": "2025-04-17T16:35:49.126185Z"
    }
   },
   "cell_type": "code",
   "source": [
    "class_counts = data['NSP'].value_counts()\n",
    "\n",
    "class_counts"
   ],
   "id": "a37a3a05820e1f",
   "outputs": [
    {
     "data": {
      "text/plain": [
       "NSP\n",
       "1.0    1655\n",
       "2.0     295\n",
       "3.0     176\n",
       "Name: count, dtype: int64"
      ]
     },
     "execution_count": 13,
     "metadata": {},
     "output_type": "execute_result"
    }
   ],
   "execution_count": 13
  },
  {
   "metadata": {
    "ExecuteTime": {
     "end_time": "2025-04-17T16:35:51.584716Z",
     "start_time": "2025-04-17T16:35:51.575452Z"
    }
   },
   "cell_type": "code",
   "source": [
    "class_dist = data['NSP'].value_counts(normalize=True).mul(100).round(2)\n",
    "print(\"Phân phối lớp ban đầu:\")\n",
    "print(class_dist)"
   ],
   "id": "f7c65442b2ca8335",
   "outputs": [
    {
     "name": "stdout",
     "output_type": "stream",
     "text": [
      "Phân phối lớp ban đầu:\n",
      "NSP\n",
      "1.0    77.85\n",
      "2.0    13.88\n",
      "3.0     8.28\n",
      "Name: proportion, dtype: float64\n"
     ]
    }
   ],
   "execution_count": 14
  },
  {
   "metadata": {},
   "cell_type": "markdown",
   "source": "Chia tập X và y",
   "id": "b130f0ed2a36e06d"
  },
  {
   "metadata": {
    "ExecuteTime": {
     "end_time": "2025-04-17T16:35:53.881893Z",
     "start_time": "2025-04-17T16:35:53.857966Z"
    }
   },
   "cell_type": "code",
   "source": [
    "X = data.drop(['NSP'], axis=1)\n",
    "y = data['NSP']\n",
    "print(X.head)"
   ],
   "id": "1325237c8adeff77",
   "outputs": [
    {
     "name": "stdout",
     "output_type": "stream",
     "text": [
      "<bound method NDFrame.head of          LB   AC   FM   UC   DL   DS   DP  ASTV  MSTV  ALTV  ...  Width  \\\n",
      "0     120.0  0.0  0.0  0.0  0.0  0.0  0.0  73.0   0.5  43.0  ...   64.0   \n",
      "1     132.0  4.0  0.0  4.0  2.0  0.0  0.0  17.0   2.1   0.0  ...  130.0   \n",
      "2     133.0  2.0  0.0  5.0  2.0  0.0  0.0  16.0   2.1   0.0  ...  130.0   \n",
      "3     134.0  2.0  0.0  6.0  2.0  0.0  0.0  16.0   2.4   0.0  ...  117.0   \n",
      "4     132.0  4.0  0.0  5.0  0.0  0.0  0.0  16.0   2.4   0.0  ...  117.0   \n",
      "...     ...  ...  ...  ...  ...  ...  ...   ...   ...   ...  ...    ...   \n",
      "2121  140.0  0.0  0.0  6.0  0.0  0.0  0.0  79.0   0.2  25.0  ...   40.0   \n",
      "2122  140.0  1.0  0.0  9.0  0.0  0.0  0.0  78.0   0.4  22.0  ...   66.0   \n",
      "2123  140.0  1.0  0.0  7.0  0.0  0.0  0.0  79.0   0.4  20.0  ...   67.0   \n",
      "2124  140.0  1.0  0.0  9.0  0.0  0.0  0.0  78.0   0.4  27.0  ...   66.0   \n",
      "2125  142.0  1.0  1.0  5.0  0.0  0.0  0.0  74.0   0.4  36.0  ...   42.0   \n",
      "\n",
      "        Min    Max  Nmax  Nzeros   Mode   Mean  Median  Variance  Tendency  \n",
      "0      62.0  126.0   2.0     0.0  120.0  137.0   121.0      73.0       1.0  \n",
      "1      68.0  198.0   6.0     1.0  141.0  136.0   140.0      12.0       0.0  \n",
      "2      68.0  198.0   5.0     1.0  141.0  135.0   138.0      13.0       0.0  \n",
      "3      53.0  170.0  11.0     0.0  137.0  134.0   137.0      13.0       1.0  \n",
      "4      53.0  170.0   9.0     0.0  137.0  136.0   138.0      11.0       1.0  \n",
      "...     ...    ...   ...     ...    ...    ...     ...       ...       ...  \n",
      "2121  137.0  177.0   4.0     0.0  153.0  150.0   152.0       2.0       0.0  \n",
      "2122  103.0  169.0   6.0     0.0  152.0  148.0   151.0       3.0       1.0  \n",
      "2123  103.0  170.0   5.0     0.0  153.0  148.0   152.0       4.0       1.0  \n",
      "2124  103.0  169.0   6.0     0.0  152.0  147.0   151.0       4.0       1.0  \n",
      "2125  117.0  159.0   2.0     1.0  145.0  143.0   145.0       1.0       0.0  \n",
      "\n",
      "[2126 rows x 21 columns]>\n"
     ]
    }
   ],
   "execution_count": 15
  }
 ],
 "metadata": {
  "kernelspec": {
   "display_name": "Python 3",
   "language": "python",
   "name": "python3"
  },
  "language_info": {
   "codemirror_mode": {
    "name": "ipython",
    "version": 2
   },
   "file_extension": ".py",
   "mimetype": "text/x-python",
   "name": "python",
   "nbconvert_exporter": "python",
   "pygments_lexer": "ipython2",
   "version": "2.7.6"
  }
 },
 "nbformat": 4,
 "nbformat_minor": 5
}
