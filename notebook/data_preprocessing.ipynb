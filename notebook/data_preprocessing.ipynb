{
 "cells": [
  {
   "cell_type": "markdown",
   "id": "3440a09f",
   "metadata": {},
   "source": [
    "# **Tiền xử lý dữ liệu**"
   ]
  },
  {
   "cell_type": "markdown",
   "id": "a0226c57",
   "metadata": {},
   "source": [
    "## **Đọc dữ liệu vào**"
   ]
  },
  {
   "cell_type": "code",
   "id": "f5254273",
   "metadata": {
    "ExecuteTime": {
     "end_time": "2025-05-30T11:00:26.306281Z",
     "start_time": "2025-05-30T11:00:26.089876Z"
    }
   },
   "source": [
    "import pandas as pd \n",
    "\n",
    "file_path = \"../data/raw_data/CTG.xls\"\n",
    "df = pd.read_excel(file_path, sheet_name=\"Data\", skiprows=1, header=0, engine=\"xlrd\")\n",
    "\n",
    "# Chọn các cột quan trọng \n",
    "cols_to_keep = [\n",
    "    'LB', 'AC', 'FM', 'UC', 'DL', 'DS', 'DP', 'ASTV', 'MSTV', \n",
    "    'ALTV', 'MLTV', 'Width', 'Min', 'Max', 'Nmax', 'Nzeros', \n",
    "    'Mode', 'Mean', 'Median', 'Variance', 'Tendency', 'NSP'\n",
    "]\n",
    "\n",
    "# Lọc cột \n",
    "df = df[cols_to_keep]\n",
    "\n",
    "print(\"5 dòng dữ liệu đầu tiên:\")\n",
    "print(df.head())\n"
   ],
   "outputs": [
    {
     "name": "stdout",
     "output_type": "stream",
     "text": [
      "5 dòng dữ liệu đầu tiên:\n",
      "      LB   AC   FM   UC   DL   DS   DP  ASTV  MSTV  ALTV  ...   Min    Max  \\\n",
      "0  120.0  0.0  0.0  0.0  0.0  0.0  0.0  73.0   0.5  43.0  ...  62.0  126.0   \n",
      "1  132.0  4.0  0.0  4.0  2.0  0.0  0.0  17.0   2.1   0.0  ...  68.0  198.0   \n",
      "2  133.0  2.0  0.0  5.0  2.0  0.0  0.0  16.0   2.1   0.0  ...  68.0  198.0   \n",
      "3  134.0  2.0  0.0  6.0  2.0  0.0  0.0  16.0   2.4   0.0  ...  53.0  170.0   \n",
      "4  132.0  4.0  0.0  5.0  0.0  0.0  0.0  16.0   2.4   0.0  ...  53.0  170.0   \n",
      "\n",
      "   Nmax  Nzeros   Mode   Mean  Median  Variance  Tendency  NSP  \n",
      "0   2.0     0.0  120.0  137.0   121.0      73.0       1.0  2.0  \n",
      "1   6.0     1.0  141.0  136.0   140.0      12.0       0.0  1.0  \n",
      "2   5.0     1.0  141.0  135.0   138.0      13.0       0.0  1.0  \n",
      "3  11.0     0.0  137.0  134.0   137.0      13.0       1.0  1.0  \n",
      "4   9.0     0.0  137.0  136.0   138.0      11.0       1.0  1.0  \n",
      "\n",
      "[5 rows x 22 columns]\n"
     ]
    }
   ],
   "execution_count": 11
  },
  {
   "cell_type": "markdown",
   "id": "dcadbe39",
   "metadata": {},
   "source": [
    "## **Mô tả cấu trúc dữ liệu**"
   ]
  },
  {
   "cell_type": "code",
   "id": "71a34777",
   "metadata": {
    "ExecuteTime": {
     "end_time": "2025-05-30T11:00:26.325247Z",
     "start_time": "2025-05-30T11:00:26.321261Z"
    }
   },
   "source": [
    "print(\"Cấu trúc của dữ liệu:\")\n",
    "print(f\"- Số bản ghi (dòng): {df.shape[0]}\")\n",
    "print(f\"- Số trường (cột): {df.shape[1]}\")\n",
    "print(\"- Tên các trường dữ liệu:\")\n",
    "print(df.columns.tolist())\n",
    "print(\"\\nThông tin kiểu dữ liệu của các cột:\")\n",
    "print(df.dtypes)"
   ],
   "outputs": [
    {
     "name": "stdout",
     "output_type": "stream",
     "text": [
      "Cấu trúc của dữ liệu:\n",
      "- Số bản ghi (dòng): 2129\n",
      "- Số trường (cột): 22\n",
      "- Tên các trường dữ liệu:\n",
      "['LB', 'AC', 'FM', 'UC', 'DL', 'DS', 'DP', 'ASTV', 'MSTV', 'ALTV', 'MLTV', 'Width', 'Min', 'Max', 'Nmax', 'Nzeros', 'Mode', 'Mean', 'Median', 'Variance', 'Tendency', 'NSP']\n",
      "\n",
      "Thông tin kiểu dữ liệu của các cột:\n",
      "LB          float64\n",
      "AC          float64\n",
      "FM          float64\n",
      "UC          float64\n",
      "DL          float64\n",
      "DS          float64\n",
      "DP          float64\n",
      "ASTV        float64\n",
      "MSTV        float64\n",
      "ALTV        float64\n",
      "MLTV        float64\n",
      "Width       float64\n",
      "Min         float64\n",
      "Max         float64\n",
      "Nmax        float64\n",
      "Nzeros      float64\n",
      "Mode        float64\n",
      "Mean        float64\n",
      "Median      float64\n",
      "Variance    float64\n",
      "Tendency    float64\n",
      "NSP         float64\n",
      "dtype: object\n"
     ]
    }
   ],
   "execution_count": 12
  },
  {
   "cell_type": "markdown",
   "id": "d53a4b9f",
   "metadata": {},
   "source": [
    "## **Thống kê sơ bộ về dữ liệu**"
   ]
  },
  {
   "cell_type": "code",
   "id": "3f59b58f",
   "metadata": {
    "ExecuteTime": {
     "end_time": "2025-05-30T11:00:26.411301Z",
     "start_time": "2025-05-30T11:00:26.378654Z"
    }
   },
   "source": [
    "print(\"\\nThống kê mô tả dữ liệu số:\")\n",
    "print(df.describe())"
   ],
   "outputs": [
    {
     "name": "stdout",
     "output_type": "stream",
     "text": [
      "\n",
      "Thống kê mô tả dữ liệu số:\n",
      "                LB           AC           FM           UC           DL  \\\n",
      "count  2126.000000  2126.000000  2127.000000  2127.000000  2128.000000   \n",
      "mean    133.303857     2.722484     7.503056     3.669017     1.576128   \n",
      "std       9.840844     3.560850    39.030452     2.877148     2.517794   \n",
      "min     106.000000     0.000000     0.000000     0.000000     0.000000   \n",
      "25%     126.000000     0.000000     0.000000     1.000000     0.000000   \n",
      "50%     133.000000     1.000000     0.000000     3.000000     0.000000   \n",
      "75%     140.000000     4.000000     2.000000     5.000000     3.000000   \n",
      "max     160.000000    26.000000   564.000000    23.000000    16.000000   \n",
      "\n",
      "                DS           DP         ASTV         MSTV         ALTV  ...  \\\n",
      "count  2128.000000  2128.000000  2127.000000  2127.000000  2127.000000  ...   \n",
      "mean      0.003759     0.127820    47.008933     1.335449     9.884814  ...   \n",
      "std       0.061213     0.471687    17.210648     0.891543    18.476534  ...   \n",
      "min       0.000000     0.000000    12.000000     0.200000     0.000000  ...   \n",
      "25%       0.000000     0.000000    32.000000     0.700000     0.000000  ...   \n",
      "50%       0.000000     0.000000    49.000000     1.200000     0.000000  ...   \n",
      "75%       0.000000     0.000000    61.000000     1.700000    11.000000  ...   \n",
      "max       1.000000     4.000000    87.000000     7.000000    91.000000  ...   \n",
      "\n",
      "               Min          Max         Nmax       Nzeros         Mode  \\\n",
      "count  2126.000000  2126.000000  2126.000000  2126.000000  2126.000000   \n",
      "mean     93.579492   164.025400     4.068203     0.323612   137.452023   \n",
      "std      29.560212    17.944183     2.949386     0.706059    16.381289   \n",
      "min      50.000000   122.000000     0.000000     0.000000    60.000000   \n",
      "25%      67.000000   152.000000     2.000000     0.000000   129.000000   \n",
      "50%      93.000000   162.000000     3.000000     0.000000   139.000000   \n",
      "75%     120.000000   174.000000     6.000000     0.000000   148.000000   \n",
      "max     159.000000   238.000000    18.000000    10.000000   187.000000   \n",
      "\n",
      "              Mean       Median     Variance     Tendency          NSP  \n",
      "count  2126.000000  2126.000000  2126.000000  2126.000000  2126.000000  \n",
      "mean    134.610536   138.090310    18.808090     0.320320     1.304327  \n",
      "std      15.593596    14.466589    28.977636     0.610829     0.614377  \n",
      "min      73.000000    77.000000     0.000000    -1.000000     1.000000  \n",
      "25%     125.000000   129.000000     2.000000     0.000000     1.000000  \n",
      "50%     136.000000   139.000000     7.000000     0.000000     1.000000  \n",
      "75%     145.000000   148.000000    24.000000     1.000000     1.000000  \n",
      "max     182.000000   186.000000   269.000000     1.000000     3.000000  \n",
      "\n",
      "[8 rows x 22 columns]\n"
     ]
    }
   ],
   "execution_count": 13
  },
  {
   "cell_type": "markdown",
   "id": "07089aa1",
   "metadata": {},
   "source": [
    "## **Chuẩn hóa dữ liệu thông qua xử lý dữ liệu lỗi (thiếu trường, sai định dạng dữ liệu, giá trị không hợp lệ)**"
   ]
  },
  {
   "cell_type": "code",
   "id": "d85d21fb",
   "metadata": {
    "ExecuteTime": {
     "end_time": "2025-05-30T11:00:26.453514Z",
     "start_time": "2025-05-30T11:00:26.449892Z"
    }
   },
   "source": [
    "# Kiểm tra giá trị thiếu\n",
    "print(\"\\nSố lượng giá trị thiếu:\")\n",
    "print(df.isnull().sum())\n"
   ],
   "outputs": [
    {
     "name": "stdout",
     "output_type": "stream",
     "text": [
      "\n",
      "Số lượng giá trị thiếu:\n",
      "LB          3\n",
      "AC          3\n",
      "FM          2\n",
      "UC          2\n",
      "DL          1\n",
      "DS          1\n",
      "DP          1\n",
      "ASTV        2\n",
      "MSTV        2\n",
      "ALTV        2\n",
      "MLTV        2\n",
      "Width       3\n",
      "Min         3\n",
      "Max         3\n",
      "Nmax        3\n",
      "Nzeros      3\n",
      "Mode        3\n",
      "Mean        3\n",
      "Median      3\n",
      "Variance    3\n",
      "Tendency    3\n",
      "NSP         3\n",
      "dtype: int64\n"
     ]
    }
   ],
   "execution_count": 14
  },
  {
   "cell_type": "code",
   "id": "0ce8e3aa",
   "metadata": {
    "ExecuteTime": {
     "end_time": "2025-05-30T11:00:26.524353Z",
     "start_time": "2025-05-30T11:00:26.516694Z"
    }
   },
   "source": [
    "# In ra các dòng có giá trị thiếu\n",
    "print(\"\\nCác dòng có giá trị thiếu:\")\n",
    "print(df[df.isnull().any(axis=1)])"
   ],
   "outputs": [
    {
     "name": "stdout",
     "output_type": "stream",
     "text": [
      "\n",
      "Các dòng có giá trị thiếu:\n",
      "      LB  AC     FM    UC    DL   DS   DP  ASTV  MSTV  ALTV  ...  Min  Max  \\\n",
      "2126 NaN NaN    NaN   NaN   NaN  NaN  NaN   NaN   NaN   NaN  ...  NaN  NaN   \n",
      "2127 NaN NaN    NaN   NaN   0.0  0.0  0.0   NaN   NaN   NaN  ...  NaN  NaN   \n",
      "2128 NaN NaN  564.0  23.0  16.0  1.0  4.0  87.0   7.0  91.0  ...  NaN  NaN   \n",
      "\n",
      "      Nmax  Nzeros  Mode  Mean  Median  Variance  Tendency  NSP  \n",
      "2126   NaN     NaN   NaN   NaN     NaN       NaN       NaN  NaN  \n",
      "2127   NaN     NaN   NaN   NaN     NaN       NaN       NaN  NaN  \n",
      "2128   NaN     NaN   NaN   NaN     NaN       NaN       NaN  NaN  \n",
      "\n",
      "[3 rows x 22 columns]\n"
     ]
    }
   ],
   "execution_count": 15
  },
  {
   "cell_type": "markdown",
   "id": "94e7deb3",
   "metadata": {},
   "source": [
    "Xóa các dòng có thiế vì chỉ có 3 đòng dữ liệu có giá trị thiếu (0.0015%) và có khá nhiều trường có giá trị thiếu"
   ]
  },
  {
   "cell_type": "code",
   "id": "81c44aef",
   "metadata": {
    "ExecuteTime": {
     "end_time": "2025-05-30T11:00:26.581088Z",
     "start_time": "2025-05-30T11:00:26.575710Z"
    }
   },
   "source": [
    "# Loại bỏ các giá trị thiếu\n",
    "df = df.dropna()\n",
    "print(df.isnull().sum())  "
   ],
   "outputs": [
    {
     "name": "stdout",
     "output_type": "stream",
     "text": [
      "LB          0\n",
      "AC          0\n",
      "FM          0\n",
      "UC          0\n",
      "DL          0\n",
      "DS          0\n",
      "DP          0\n",
      "ASTV        0\n",
      "MSTV        0\n",
      "ALTV        0\n",
      "MLTV        0\n",
      "Width       0\n",
      "Min         0\n",
      "Max         0\n",
      "Nmax        0\n",
      "Nzeros      0\n",
      "Mode        0\n",
      "Mean        0\n",
      "Median      0\n",
      "Variance    0\n",
      "Tendency    0\n",
      "NSP         0\n",
      "dtype: int64\n"
     ]
    }
   ],
   "execution_count": 16
  },
  {
   "cell_type": "code",
   "id": "f11e4788",
   "metadata": {
    "ExecuteTime": {
     "end_time": "2025-05-30T11:00:26.659256Z",
     "start_time": "2025-05-30T11:00:26.634385Z"
    }
   },
   "source": "df.to_csv(\"../data/data_processed/data_processed.csv\", index=False)",
   "outputs": [],
   "execution_count": 17
  },
  {
   "cell_type": "markdown",
   "id": "6f4ccbc9",
   "metadata": {},
   "source": [
    "## **Kiểm tra tỉ lệ giữa các class**"
   ]
  },
  {
   "cell_type": "code",
   "id": "9148050c",
   "metadata": {
    "ExecuteTime": {
     "end_time": "2025-05-30T11:00:26.701944Z",
     "start_time": "2025-05-30T11:00:26.694874Z"
    }
   },
   "source": [
    "class_counts = df['NSP'].value_counts()\n",
    "class_counts"
   ],
   "outputs": [
    {
     "data": {
      "text/plain": [
       "NSP\n",
       "1.0    1655\n",
       "2.0     295\n",
       "3.0     176\n",
       "Name: count, dtype: int64"
      ]
     },
     "execution_count": 18,
     "metadata": {},
     "output_type": "execute_result"
    }
   ],
   "execution_count": 18
  },
  {
   "cell_type": "code",
   "id": "be675794",
   "metadata": {
    "ExecuteTime": {
     "end_time": "2025-05-30T11:00:26.766378Z",
     "start_time": "2025-05-30T11:00:26.761410Z"
    }
   },
   "source": [
    "class_dist = df['NSP'].value_counts(normalize=True).mul(100).round(2)\n",
    "print(\"Phân phối lớp ban đầu:\")\n",
    "print(class_dist)"
   ],
   "outputs": [
    {
     "name": "stdout",
     "output_type": "stream",
     "text": [
      "Phân phối lớp ban đầu:\n",
      "NSP\n",
      "1.0    77.85\n",
      "2.0    13.88\n",
      "3.0     8.28\n",
      "Name: proportion, dtype: float64\n"
     ]
    }
   ],
   "execution_count": 19
  }
 ],
 "metadata": {
  "kernelspec": {
   "display_name": "myenv",
   "language": "python",
   "name": "python3"
  },
  "language_info": {
   "codemirror_mode": {
    "name": "ipython",
    "version": 3
   },
   "file_extension": ".py",
   "mimetype": "text/x-python",
   "name": "python",
   "nbconvert_exporter": "python",
   "pygments_lexer": "ipython3",
   "version": "3.12.7"
  }
 },
 "nbformat": 4,
 "nbformat_minor": 5
}
